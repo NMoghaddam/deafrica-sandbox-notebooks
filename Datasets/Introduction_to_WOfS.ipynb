{
 "cells": [
  {
   "cell_type": "markdown",
   "metadata": {},
   "source": [
    "## Introduction to Water Observation From Space (WOfS) Product "
   ]
  },
  {
   "cell_type": "markdown",
   "metadata": {},
   "source": [
    "\n",
    "\n",
    "Water Observations from Space (WOfS) is a suite of African continental surface water products that are generated using the WOfS classification algorithm and classifies open water pixels. \n",
    "There are several WOfS products in Africa that are listed below:\n",
    "\n",
    "\n",
    "|WOfS products include:||\n",
    "|----------|----------------|\n",
    "| WOfS annual summary | the ratio(%) of wet to clear observations from each calendar year|\n",
    "| WOfS all-time summary| the ratio(%) of wet to clear observations over time|\n",
    "| WOfS filtered summary | the all time summary, checked against the confidence layer |\n",
    "| WOFLs (WOfS Feature Layers)|the daily WOfS slices ||\n",
    "\n",
    "__WOfS Summary:__ The percentage of time a pixel was classified as wet, using the WOfS classification algorithm. [WOfS Statistics Product Description](https://cmi.ga.gov.au/wo-stats_25_2.1.5)\n",
    "\n",
    "- Total number of clear observations for the pixel, is a count per pixel of the number of observations that were clear and either wet or dry for the time period.\n",
    "- Total number of wet observation for the pixel, is a count per pixel of the number of observations that were clear and wet for the time period.\n",
    "- Summary, is the ratio of clear wet observations to clear wet or dry observation, expressed as a percentage.\n",
    "\n",
    "__WOfS Filtered Summary:__ The percentage of time a pixel was wet, with confidence. The WOfS Filtered Summary is the definitive product. It has a confidence layer and a filtered summary. The Filtered Summary is the WOfS Summary, and areas with less than 10% Confidence have been removed. This piece of information is now under development for Africa. \n",
    "\n",
    "__WOfLs (WOfS Feature Layers):__ WOfS Daily observations\n",
    "    \n",
    "### Limitations, Errors and Uncertainty:\n",
    "\n",
    "\n",
    "http://www.ga.gov.au/scientific-topics/hazards/flood/wofs/about-wofs\n",
    "\n",
    "\n"
   ]
  },
  {
   "cell_type": "markdown",
   "metadata": {},
   "source": [
    "## Interacting with WOfS product "
   ]
  },
  {
   "cell_type": "markdown",
   "metadata": {
    "ExecuteTime": {
     "end_time": "2018-05-30T04:09:33.649054Z",
     "start_time": "2018-05-30T04:09:33.644747Z"
    }
   },
   "source": [
    "### Load Packages \n",
    "Select 'Trust this notebook' to import these modules."
   ]
  },
  {
   "cell_type": "code",
   "execution_count": 29,
   "metadata": {},
   "outputs": [],
   "source": [
    "%matplotlib inline\n",
    "#modules for datacube \n",
    "\n",
    "import datacube\n",
    "from datacube.storage import masking\n",
    "from datacube.utils import geometry\n",
    "from datacube.utils.geometry import CRS\n",
    "from deafrica_datahandling import array_to_geotiff\n",
    "from datacube.utils.cog import write_cog \n",
    "import numpy as np\n",
    "import pandas as pd \n",
    "import seaborn as sn\n",
    "import xarray as xr \n",
    "import sys\n",
    "\n",
    "#modules for plotting \n",
    "import matplotlib.pyplot as plt\n",
    "import matplotlib.gridspec as gridspec\n",
    "\n",
    "sys.path.append(\"../Scripts\")\n",
    "from deafrica_plotting import display_map\n",
    "from deafrica_datahandling import wofs_fuser, mostcommon_crs\n",
    "\n",
    "#ignore datacube warnings (needs to be last import statement)\n",
    "import warnings\n",
    "warnings.filterwarnings('ignore', module='datacube')"
   ]
  },
  {
   "cell_type": "markdown",
   "metadata": {},
   "source": [
    "### Connect to the datacube "
   ]
  },
  {
   "cell_type": "code",
   "execution_count": 30,
   "metadata": {},
   "outputs": [],
   "source": [
    "dc = datacube.Datacube(app=\"Intro_WOfS\")"
   ]
  },
  {
   "cell_type": "code",
   "execution_count": 31,
   "metadata": {},
   "outputs": [
    {
     "name": "stdout",
     "output_type": "stream",
     "text": [
      "\u001b[32malos_palsar_mosaic           \u001b[0m  ALOS/PALSAR and ALOS-2/PALSAR-2 annual mosaic tiles generated for use in the Data Cube - 25m pixel spacing, WGS84. These tiles are derived from the orignal JAXA mosaics with conversion to GeoTIFF.\n",
      "\u001b[32mga_ls8c_fractional_cover_2   \u001b[0m  Landsat Fractional Cover based on USGS Scenes\n",
      "\u001b[32mga_ls8c_gm_2_annual          \u001b[0m  Annual Geometric Median, Landsat 8\n",
      "\u001b[32mga_ls8c_wofs_2               \u001b[0m  Historic Flood Mapping Water Observations from Space\n",
      "\u001b[32mga_ls8c_wofs_2_annual_summary\u001b[0m  Water Observations from Space Annual Statistics\n",
      "\u001b[32mga_ls8c_wofs_2_summary       \u001b[0m  Water Observations from Space Full History Statistics\n",
      "\u001b[32mga_ls8c_wofs_2_terrain       \u001b[0m  Water Observations from Space, with terrain mask\n",
      "\u001b[32mls5_usgs_sr_scene            \u001b[0m  Landsat 5 USGS Collection 1 Level2 Surface Reflectance USARD. 30m UTM based projection.\n",
      "\u001b[32mls7_usgs_sr_scene            \u001b[0m  Landsat 7 USGS Collection 1 Level2 Surface Reflectance USARD. 30m UTM based projection.\n",
      "\u001b[32mls8_usgs_sr_scene            \u001b[0m  Landsat 8 USGS Collection 1 Higher Level SR scene proessed using LaSRC. 30m UTM based projection.\n",
      "\u001b[32msentinel1_ghana_monthly      \u001b[0m  Sentinel-1 Monthly Mean Gamma0 scenes over Ghana produced by AMA indexed into DE Africa\n",
      "\u001b[32msrtm                         \u001b[0m  1 second elevation model\n",
      "\u001b[32musgs_ls8c_level2_2           \u001b[0m  Sample USGS Level 2 Collection 2 Landsat\n"
     ]
    }
   ],
   "source": [
    "!datacube product list "
   ]
  },
  {
   "cell_type": "code",
   "execution_count": 32,
   "metadata": {},
   "outputs": [],
   "source": [
    "products = dc.list_products()"
   ]
  },
  {
   "cell_type": "markdown",
   "metadata": {},
   "source": [
    "### Listing WOfS products Available in Digital Earth Africa - 20.07.2020 "
   ]
  },
  {
   "cell_type": "code",
   "execution_count": 33,
   "metadata": {},
   "outputs": [
    {
     "data": {
      "text/html": [
       "<div>\n",
       "<style scoped>\n",
       "    .dataframe tbody tr th:only-of-type {\n",
       "        vertical-align: middle;\n",
       "    }\n",
       "\n",
       "    .dataframe tbody tr th {\n",
       "        vertical-align: top;\n",
       "    }\n",
       "\n",
       "    .dataframe thead th {\n",
       "        text-align: right;\n",
       "    }\n",
       "</style>\n",
       "<table border=\"1\" class=\"dataframe\">\n",
       "  <thead>\n",
       "    <tr style=\"text-align: right;\">\n",
       "      <th></th>\n",
       "      <th>name</th>\n",
       "      <th>description</th>\n",
       "    </tr>\n",
       "    <tr>\n",
       "      <th>id</th>\n",
       "      <th></th>\n",
       "      <th></th>\n",
       "    </tr>\n",
       "  </thead>\n",
       "  <tbody>\n",
       "    <tr>\n",
       "      <th>7</th>\n",
       "      <td>ga_ls8c_wofs_2</td>\n",
       "      <td>Historic Flood Mapping Water Observations from...</td>\n",
       "    </tr>\n",
       "    <tr>\n",
       "      <th>8</th>\n",
       "      <td>ga_ls8c_wofs_2_annual_summary</td>\n",
       "      <td>Water Observations from Space Annual Statistics</td>\n",
       "    </tr>\n",
       "    <tr>\n",
       "      <th>10</th>\n",
       "      <td>ga_ls8c_wofs_2_summary</td>\n",
       "      <td>Water Observations from Space Full History Sta...</td>\n",
       "    </tr>\n",
       "    <tr>\n",
       "      <th>18</th>\n",
       "      <td>ga_ls8c_wofs_2_terrain</td>\n",
       "      <td>Water Observations from Space, with terrain mask</td>\n",
       "    </tr>\n",
       "  </tbody>\n",
       "</table>\n",
       "</div>"
      ],
      "text/plain": [
       "                             name  \\\n",
       "id                                  \n",
       "7                  ga_ls8c_wofs_2   \n",
       "8   ga_ls8c_wofs_2_annual_summary   \n",
       "10         ga_ls8c_wofs_2_summary   \n",
       "18         ga_ls8c_wofs_2_terrain   \n",
       "\n",
       "                                          description  \n",
       "id                                                     \n",
       "7   Historic Flood Mapping Water Observations from...  \n",
       "8     Water Observations from Space Annual Statistics  \n",
       "10  Water Observations from Space Full History Sta...  \n",
       "18   Water Observations from Space, with terrain mask  "
      ]
     },
     "execution_count": 33,
     "metadata": {},
     "output_type": "execute_result"
    }
   ],
   "source": [
    "display_columns = ['name', 'description']\n",
    "dc_products = products[display_columns]\n",
    "dc_products[dc_products['name'].str.contains(\"wofs\")]"
   ]
  },
  {
   "cell_type": "markdown",
   "metadata": {},
   "source": [
    "### Analysis Parameters \n",
    "\n",
    "The following items are included in the \"query\" that defines what the datacube need to return:\n",
    "\n",
    "- **lat/lon:** Latitude and longitude of the area. \n",
    "- **time:** Date range to fetch the scenes. The approximate time between two scenes is 16 days. If there is a location near a swath boundary, it may be captured in two passes and so there could be two images within the 16 day period.\n",
    "- **buffer:** this query is set to run for a point with a buffer around it. \n",
    "- **output_crs:** the coordinate reference system of the query. "
   ]
  },
  {
   "cell_type": "code",
   "execution_count": 34,
   "metadata": {},
   "outputs": [
    {
     "name": "stderr",
     "output_type": "stream",
     "text": [
      "../Scripts/deafrica_datahandling.py:600: UserWarning: Multiple UTM zones ['epsg:32636', 'epsg:32637'] were returned for this query. Defaulting to the most common zone: epsg:32636\n",
      "  UserWarning)\n"
     ]
    }
   ],
   "source": [
    "#Site location is Lake Sulunga in Tanzania, Africa \n",
    "\n",
    "lat, lon =  -6.083 ,35.184\n",
    "buffer = 0.25\n",
    "\n",
    "x = (lon-buffer, lon+buffer)\n",
    "y =  (lat+buffer, lat-buffer)\n",
    "\n",
    "# Create a reusable query\n",
    "query = {\n",
    "    'x': x,\n",
    "    'y': y,\n",
    "    'time': ('2015-01-01', '2019-03-20'),\n",
    "    'resolution': (-30, 30)\n",
    "}\n",
    "\n",
    "output_crs = mostcommon_crs(dc=dc, product='ga_ls8c_wofs_2', query=query)"
   ]
  },
  {
   "cell_type": "markdown",
   "metadata": {},
   "source": [
    "### View the Selected Location"
   ]
  },
  {
   "cell_type": "code",
   "execution_count": 35,
   "metadata": {},
   "outputs": [
    {
     "data": {
      "text/html": [
       "<div style=\"width:100%;\"><div style=\"position:relative;width:100%;height:0;padding-bottom:60%;\"><iframe src=\"data:text/html;charset=utf-8;base64,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\" style=\"position:absolute;width:100%;height:100%;left:0;top:0;border:none !important;\" allowfullscreen webkitallowfullscreen mozallowfullscreen></iframe></div></div>"
      ],
      "text/plain": [
       "<folium.folium.Map at 0x7f2c95e6b9b0>"
      ]
     },
     "execution_count": 35,
     "metadata": {},
     "output_type": "execute_result"
    }
   ],
   "source": [
    "#view the location \n",
    "display_map(x=x, y=y)"
   ]
  },
  {
   "cell_type": "markdown",
   "metadata": {},
   "source": [
    "## WOfS Feature Layers (WOFLs) "
   ]
  },
  {
   "cell_type": "code",
   "execution_count": 36,
   "metadata": {},
   "outputs": [
    {
     "data": {
      "text/html": [
       "<div><svg style=\"position: absolute; width: 0; height: 0; overflow: hidden\">\n",
       "<defs>\n",
       "<symbol id=\"icon-database\" viewBox=\"0 0 32 32\">\n",
       "<title>Show/Hide data repr</title>\n",
       "<path d=\"M16 0c-8.837 0-16 2.239-16 5v4c0 2.761 7.163 5 16 5s16-2.239 16-5v-4c0-2.761-7.163-5-16-5z\"></path>\n",
       "<path d=\"M16 17c-8.837 0-16-2.239-16-5v6c0 2.761 7.163 5 16 5s16-2.239 16-5v-6c0 2.761-7.163 5-16 5z\"></path>\n",
       "<path d=\"M16 26c-8.837 0-16-2.239-16-5v6c0 2.761 7.163 5 16 5s16-2.239 16-5v-6c0 2.761-7.163 5-16 5z\"></path>\n",
       "</symbol>\n",
       "<symbol id=\"icon-file-text2\" viewBox=\"0 0 32 32\">\n",
       "<title>Show/Hide attributes</title>\n",
       "<path d=\"M28.681 7.159c-0.694-0.947-1.662-2.053-2.724-3.116s-2.169-2.030-3.116-2.724c-1.612-1.182-2.393-1.319-2.841-1.319h-15.5c-1.378 0-2.5 1.121-2.5 2.5v27c0 1.378 1.122 2.5 2.5 2.5h23c1.378 0 2.5-1.122 2.5-2.5v-19.5c0-0.448-0.137-1.23-1.319-2.841zM24.543 5.457c0.959 0.959 1.712 1.825 2.268 2.543h-4.811v-4.811c0.718 0.556 1.584 1.309 2.543 2.268zM28 29.5c0 0.271-0.229 0.5-0.5 0.5h-23c-0.271 0-0.5-0.229-0.5-0.5v-27c0-0.271 0.229-0.5 0.5-0.5 0 0 15.499-0 15.5 0v7c0 0.552 0.448 1 1 1h7v19.5z\"></path>\n",
       "<path d=\"M23 26h-14c-0.552 0-1-0.448-1-1s0.448-1 1-1h14c0.552 0 1 0.448 1 1s-0.448 1-1 1z\"></path>\n",
       "<path d=\"M23 22h-14c-0.552 0-1-0.448-1-1s0.448-1 1-1h14c0.552 0 1 0.448 1 1s-0.448 1-1 1z\"></path>\n",
       "<path d=\"M23 18h-14c-0.552 0-1-0.448-1-1s0.448-1 1-1h14c0.552 0 1 0.448 1 1s-0.448 1-1 1z\"></path>\n",
       "</symbol>\n",
       "</defs>\n",
       "</svg>\n",
       "<style>/* CSS stylesheet for displaying xarray objects in jupyterlab.\n",
       " *\n",
       " */\n",
       "\n",
       ":root {\n",
       "  --xr-font-color0: var(--jp-content-font-color0, rgba(0, 0, 0, 1));\n",
       "  --xr-font-color2: var(--jp-content-font-color2, rgba(0, 0, 0, 0.54));\n",
       "  --xr-font-color3: var(--jp-content-font-color3, rgba(0, 0, 0, 0.38));\n",
       "  --xr-border-color: var(--jp-border-color2, #e0e0e0);\n",
       "  --xr-disabled-color: var(--jp-layout-color3, #bdbdbd);\n",
       "  --xr-background-color: var(--jp-layout-color0, white);\n",
       "  --xr-background-color-row-even: var(--jp-layout-color1, white);\n",
       "  --xr-background-color-row-odd: var(--jp-layout-color2, #eeeeee);\n",
       "}\n",
       "\n",
       ".xr-wrap {\n",
       "  min-width: 300px;\n",
       "  max-width: 700px;\n",
       "}\n",
       "\n",
       ".xr-header {\n",
       "  padding-top: 6px;\n",
       "  padding-bottom: 6px;\n",
       "  margin-bottom: 4px;\n",
       "  border-bottom: solid 1px var(--xr-border-color);\n",
       "}\n",
       "\n",
       ".xr-header > div,\n",
       ".xr-header > ul {\n",
       "  display: inline;\n",
       "  margin-top: 0;\n",
       "  margin-bottom: 0;\n",
       "}\n",
       "\n",
       ".xr-obj-type,\n",
       ".xr-array-name {\n",
       "  margin-left: 2px;\n",
       "  margin-right: 10px;\n",
       "}\n",
       "\n",
       ".xr-obj-type {\n",
       "  color: var(--xr-font-color2);\n",
       "}\n",
       "\n",
       ".xr-sections {\n",
       "  padding-left: 0 !important;\n",
       "  display: grid;\n",
       "  grid-template-columns: 150px auto auto 1fr 20px 20px;\n",
       "}\n",
       "\n",
       ".xr-section-item {\n",
       "  display: contents;\n",
       "}\n",
       "\n",
       ".xr-section-item input {\n",
       "  display: none;\n",
       "}\n",
       "\n",
       ".xr-section-item input + label {\n",
       "  color: var(--xr-disabled-color);\n",
       "}\n",
       "\n",
       ".xr-section-item input:enabled + label {\n",
       "  cursor: pointer;\n",
       "  color: var(--xr-font-color2);\n",
       "}\n",
       "\n",
       ".xr-section-item input:enabled + label:hover {\n",
       "  color: var(--xr-font-color0);\n",
       "}\n",
       "\n",
       ".xr-section-summary {\n",
       "  grid-column: 1;\n",
       "  color: var(--xr-font-color2);\n",
       "  font-weight: 500;\n",
       "}\n",
       "\n",
       ".xr-section-summary > span {\n",
       "  display: inline-block;\n",
       "  padding-left: 0.5em;\n",
       "}\n",
       "\n",
       ".xr-section-summary-in:disabled + label {\n",
       "  color: var(--xr-font-color2);\n",
       "}\n",
       "\n",
       ".xr-section-summary-in + label:before {\n",
       "  display: inline-block;\n",
       "  content: '►';\n",
       "  font-size: 11px;\n",
       "  width: 15px;\n",
       "  text-align: center;\n",
       "}\n",
       "\n",
       ".xr-section-summary-in:disabled + label:before {\n",
       "  color: var(--xr-disabled-color);\n",
       "}\n",
       "\n",
       ".xr-section-summary-in:checked + label:before {\n",
       "  content: '▼';\n",
       "}\n",
       "\n",
       ".xr-section-summary-in:checked + label > span {\n",
       "  display: none;\n",
       "}\n",
       "\n",
       ".xr-section-summary,\n",
       ".xr-section-inline-details {\n",
       "  padding-top: 4px;\n",
       "  padding-bottom: 4px;\n",
       "}\n",
       "\n",
       ".xr-section-inline-details {\n",
       "  grid-column: 2 / -1;\n",
       "}\n",
       "\n",
       ".xr-section-details {\n",
       "  display: none;\n",
       "  grid-column: 1 / -1;\n",
       "  margin-bottom: 5px;\n",
       "}\n",
       "\n",
       ".xr-section-summary-in:checked ~ .xr-section-details {\n",
       "  display: contents;\n",
       "}\n",
       "\n",
       ".xr-array-wrap {\n",
       "  grid-column: 1 / -1;\n",
       "  display: grid;\n",
       "  grid-template-columns: 20px auto;\n",
       "}\n",
       "\n",
       ".xr-array-wrap > label {\n",
       "  grid-column: 1;\n",
       "  vertical-align: top;\n",
       "}\n",
       "\n",
       ".xr-preview {\n",
       "  color: var(--xr-font-color3);\n",
       "}\n",
       "\n",
       ".xr-array-preview,\n",
       ".xr-array-data {\n",
       "  padding: 0 5px !important;\n",
       "  grid-column: 2;\n",
       "}\n",
       "\n",
       ".xr-array-data,\n",
       ".xr-array-in:checked ~ .xr-array-preview {\n",
       "  display: none;\n",
       "}\n",
       "\n",
       ".xr-array-in:checked ~ .xr-array-data,\n",
       ".xr-array-preview {\n",
       "  display: inline-block;\n",
       "}\n",
       "\n",
       ".xr-dim-list {\n",
       "  display: inline-block !important;\n",
       "  list-style: none;\n",
       "  padding: 0 !important;\n",
       "  margin: 0;\n",
       "}\n",
       "\n",
       ".xr-dim-list li {\n",
       "  display: inline-block;\n",
       "  padding: 0;\n",
       "  margin: 0;\n",
       "}\n",
       "\n",
       ".xr-dim-list:before {\n",
       "  content: '(';\n",
       "}\n",
       "\n",
       ".xr-dim-list:after {\n",
       "  content: ')';\n",
       "}\n",
       "\n",
       ".xr-dim-list li:not(:last-child):after {\n",
       "  content: ',';\n",
       "  padding-right: 5px;\n",
       "}\n",
       "\n",
       ".xr-has-index {\n",
       "  font-weight: bold;\n",
       "}\n",
       "\n",
       ".xr-var-list,\n",
       ".xr-var-item {\n",
       "  display: contents;\n",
       "}\n",
       "\n",
       ".xr-var-item > div,\n",
       ".xr-var-item label,\n",
       ".xr-var-item > .xr-var-name span {\n",
       "  background-color: var(--xr-background-color-row-even);\n",
       "  margin-bottom: 0;\n",
       "}\n",
       "\n",
       ".xr-var-item > .xr-var-name:hover span {\n",
       "  padding-right: 5px;\n",
       "}\n",
       "\n",
       ".xr-var-list > li:nth-child(odd) > div,\n",
       ".xr-var-list > li:nth-child(odd) > label,\n",
       ".xr-var-list > li:nth-child(odd) > .xr-var-name span {\n",
       "  background-color: var(--xr-background-color-row-odd);\n",
       "}\n",
       "\n",
       ".xr-var-name {\n",
       "  grid-column: 1;\n",
       "}\n",
       "\n",
       ".xr-var-dims {\n",
       "  grid-column: 2;\n",
       "}\n",
       "\n",
       ".xr-var-dtype {\n",
       "  grid-column: 3;\n",
       "  text-align: right;\n",
       "  color: var(--xr-font-color2);\n",
       "}\n",
       "\n",
       ".xr-var-preview {\n",
       "  grid-column: 4;\n",
       "}\n",
       "\n",
       ".xr-var-name,\n",
       ".xr-var-dims,\n",
       ".xr-var-dtype,\n",
       ".xr-preview,\n",
       ".xr-attrs dt {\n",
       "  white-space: nowrap;\n",
       "  overflow: hidden;\n",
       "  text-overflow: ellipsis;\n",
       "  padding-right: 10px;\n",
       "}\n",
       "\n",
       ".xr-var-name:hover,\n",
       ".xr-var-dims:hover,\n",
       ".xr-var-dtype:hover,\n",
       ".xr-attrs dt:hover {\n",
       "  overflow: visible;\n",
       "  width: auto;\n",
       "  z-index: 1;\n",
       "}\n",
       "\n",
       ".xr-var-attrs,\n",
       ".xr-var-data {\n",
       "  display: none;\n",
       "  background-color: var(--xr-background-color) !important;\n",
       "  padding-bottom: 5px !important;\n",
       "}\n",
       "\n",
       ".xr-var-attrs-in:checked ~ .xr-var-attrs,\n",
       ".xr-var-data-in:checked ~ .xr-var-data {\n",
       "  display: block;\n",
       "}\n",
       "\n",
       ".xr-var-data > table {\n",
       "  float: right;\n",
       "}\n",
       "\n",
       ".xr-var-name span,\n",
       ".xr-var-data,\n",
       ".xr-attrs {\n",
       "  padding-left: 25px !important;\n",
       "}\n",
       "\n",
       ".xr-attrs,\n",
       ".xr-var-attrs,\n",
       ".xr-var-data {\n",
       "  grid-column: 1 / -1;\n",
       "}\n",
       "\n",
       "dl.xr-attrs {\n",
       "  padding: 0;\n",
       "  margin: 0;\n",
       "  display: grid;\n",
       "  grid-template-columns: 125px auto;\n",
       "}\n",
       "\n",
       ".xr-attrs dt, dd {\n",
       "  padding: 0;\n",
       "  margin: 0;\n",
       "  float: left;\n",
       "  padding-right: 10px;\n",
       "  width: auto;\n",
       "}\n",
       "\n",
       ".xr-attrs dt {\n",
       "  font-weight: normal;\n",
       "  grid-column: 1;\n",
       "}\n",
       "\n",
       ".xr-attrs dt:hover span {\n",
       "  display: inline-block;\n",
       "  background: var(--xr-background-color);\n",
       "  padding-right: 10px;\n",
       "}\n",
       "\n",
       ".xr-attrs dd {\n",
       "  grid-column: 2;\n",
       "  white-space: pre-wrap;\n",
       "  word-break: break-all;\n",
       "}\n",
       "\n",
       ".xr-icon-database,\n",
       ".xr-icon-file-text2 {\n",
       "  display: inline-block;\n",
       "  vertical-align: middle;\n",
       "  width: 1em;\n",
       "  height: 1.5em !important;\n",
       "  stroke-width: 0;\n",
       "  stroke: currentColor;\n",
       "  fill: currentColor;\n",
       "}\n",
       "</style><div class='xr-wrap'><div class='xr-header'><div class='xr-obj-type'>xarray.Dataset</div></div><ul class='xr-sections'><li class='xr-section-item'><input id='section-74a4739d-0e13-49a7-83da-9be047c7242a' class='xr-section-summary-in' type='checkbox' disabled ><label for='section-74a4739d-0e13-49a7-83da-9be047c7242a' class='xr-section-summary'  title='Expand/collapse section'>Dimensions:</label><div class='xr-section-inline-details'><ul class='xr-dim-list'><li><span class='xr-has-index'>time</span>: 190</li><li><span class='xr-has-index'>x</span>: 1853</li><li><span class='xr-has-index'>y</span>: 1852</li></ul></div><div class='xr-section-details'></div></li><li class='xr-section-item'><input id='section-e66db273-5a24-4078-add8-fdeb9ea05719' class='xr-section-summary-in' type='checkbox'  checked><label for='section-e66db273-5a24-4078-add8-fdeb9ea05719' class='xr-section-summary' >Coordinates: <span>(4)</span></label><div class='xr-section-inline-details'></div><div class='xr-section-details'><ul class='xr-var-list'><li class='xr-var-item'><div class='xr-var-name'><span class='xr-has-index'>time</span></div><div class='xr-var-dims'>(time)</div><div class='xr-var-dtype'>datetime64[ns]</div><div class='xr-var-preview xr-preview'>2015-01-05T07:44:25.672915 ... 2019-03-12T07:50:10.449636</div><input id='attrs-63935837-2d2e-458f-bef9-89f002d97d30' class='xr-var-attrs-in' type='checkbox' ><label for='attrs-63935837-2d2e-458f-bef9-89f002d97d30' title='Show/Hide attributes'><svg class='icon xr-icon-file-text2'><use xlink:href='#icon-file-text2'></use></svg></label><input id='data-55c46a21-eb6b-425c-9868-2d600d3293ee' class='xr-var-data-in' type='checkbox'><label for='data-55c46a21-eb6b-425c-9868-2d600d3293ee' title='Show/Hide data repr'><svg class='icon xr-icon-database'><use xlink:href='#icon-database'></use></svg></label><div class='xr-var-attrs'><dl class='xr-attrs'><dt><span>units :</span></dt><dd>seconds since 1970-01-01 00:00:00</dd></dl></div><pre class='xr-var-data'>array([&#x27;2015-01-05T07:44:25.672915000&#x27;, &#x27;2015-01-12T07:50:36.398998000&#x27;,\n",
       "       &#x27;2015-01-21T07:44:21.077059000&#x27;, &#x27;2015-01-28T07:50:30.986415000&#x27;,\n",
       "       &#x27;2015-02-06T07:44:17.813305000&#x27;, &#x27;2015-02-13T07:50:22.437056000&#x27;,\n",
       "       &#x27;2015-02-22T07:44:11.446069000&#x27;, &#x27;2015-03-01T07:50:19.866291000&#x27;,\n",
       "       &#x27;2015-03-10T07:44:01.764810000&#x27;, &#x27;2015-03-17T07:50:09.117043000&#x27;,\n",
       "       &#x27;2015-03-26T07:43:53.387315000&#x27;, &#x27;2015-04-02T07:49:56.928098000&#x27;,\n",
       "       &#x27;2015-04-11T07:43:45.465664000&#x27;, &#x27;2015-04-18T07:49:56.492797000&#x27;,\n",
       "       &#x27;2015-04-27T07:43:40.428199000&#x27;, &#x27;2015-05-04T07:49:43.956431000&#x27;,\n",
       "       &#x27;2015-05-13T07:43:24.341062000&#x27;, &#x27;2015-05-20T07:49:36.380387000&#x27;,\n",
       "       &#x27;2015-05-29T07:43:27.288553000&#x27;, &#x27;2015-06-05T07:49:44.534903000&#x27;,\n",
       "       &#x27;2015-06-14T07:43:39.688887000&#x27;, &#x27;2015-06-21T07:49:52.627860000&#x27;,\n",
       "       &#x27;2015-06-30T07:43:46.464521000&#x27;, &#x27;2015-07-07T07:50:02.046096000&#x27;,\n",
       "       &#x27;2015-07-16T07:43:56.193107000&#x27;, &#x27;2015-07-23T07:50:09.272940000&#x27;,\n",
       "       &#x27;2015-08-01T07:44:00.075161000&#x27;, &#x27;2015-08-08T07:50:12.109967000&#x27;,\n",
       "       &#x27;2015-08-17T07:44:06.598312000&#x27;, &#x27;2015-08-24T07:50:20.298067000&#x27;,\n",
       "       &#x27;2015-09-02T07:44:11.635304000&#x27;, &#x27;2015-09-09T07:50:26.398940000&#x27;,\n",
       "       &#x27;2015-09-18T07:44:20.219057000&#x27;, &#x27;2015-09-25T07:50:33.454658000&#x27;,\n",
       "       &#x27;2015-10-04T07:44:24.056620000&#x27;, &#x27;2015-10-11T07:50:34.488598000&#x27;,\n",
       "       &#x27;2015-10-20T07:44:25.824979000&#x27;, &#x27;2015-10-27T07:50:39.472887000&#x27;,\n",
       "       &#x27;2015-11-05T07:44:29.860536000&#x27;, &#x27;2015-11-12T07:50:39.603148000&#x27;,\n",
       "       &#x27;2015-11-21T07:44:31.597319000&#x27;, &#x27;2015-11-28T07:50:42.886426000&#x27;,\n",
       "       &#x27;2015-12-07T07:44:30.529654000&#x27;, &#x27;2015-12-14T07:50:41.298028000&#x27;,\n",
       "       &#x27;2015-12-23T07:44:31.344359000&#x27;, &#x27;2015-12-30T07:50:40.664755000&#x27;,\n",
       "       &#x27;2016-01-08T07:44:26.517911000&#x27;, &#x27;2016-01-15T07:50:38.685508000&#x27;,\n",
       "       &#x27;2016-01-24T07:44:27.775977000&#x27;, &#x27;2016-01-31T07:50:37.084396000&#x27;,\n",
       "       &#x27;2016-02-09T07:44:22.705076000&#x27;, &#x27;2016-02-16T07:50:28.887717000&#x27;,\n",
       "       &#x27;2016-03-03T07:50:27.107191000&#x27;, &#x27;2016-03-12T07:44:14.010042000&#x27;,\n",
       "       &#x27;2016-03-19T07:50:21.411022000&#x27;, &#x27;2016-03-28T07:44:04.596554000&#x27;,\n",
       "       &#x27;2016-04-04T07:50:12.217625000&#x27;, &#x27;2016-04-13T07:43:58.825565000&#x27;,\n",
       "       &#x27;2016-04-20T07:50:06.430102000&#x27;, &#x27;2016-04-29T07:43:57.637855000&#x27;,\n",
       "       &#x27;2016-05-06T07:50:09.733038000&#x27;, &#x27;2016-05-15T07:43:55.985728000&#x27;,\n",
       "       &#x27;2016-05-22T07:50:10.160881000&#x27;, &#x27;2016-05-31T07:44:02.425226000&#x27;,\n",
       "       &#x27;2016-06-07T07:50:14.745761000&#x27;, &#x27;2016-06-16T07:44:04.693521000&#x27;,\n",
       "       &#x27;2016-06-23T07:50:19.988860000&#x27;, &#x27;2016-07-02T07:44:14.317605000&#x27;,\n",
       "       &#x27;2016-07-09T07:50:28.528525000&#x27;, &#x27;2016-07-18T07:44:21.049093000&#x27;,\n",
       "       &#x27;2016-07-25T07:50:33.625900000&#x27;, &#x27;2016-08-03T07:44:24.266667000&#x27;,\n",
       "       &#x27;2016-08-10T07:50:35.526099000&#x27;, &#x27;2016-08-19T07:44:28.841816000&#x27;,\n",
       "       &#x27;2016-08-26T07:50:42.712555000&#x27;, &#x27;2016-09-04T07:44:34.953142000&#x27;,\n",
       "       &#x27;2016-09-11T07:50:47.142500000&#x27;, &#x27;2016-09-20T07:44:37.074477000&#x27;,\n",
       "       &#x27;2016-09-27T07:50:47.547807000&#x27;, &#x27;2016-10-06T07:44:39.644209000&#x27;,\n",
       "       &#x27;2016-10-13T07:50:52.939453000&#x27;, &#x27;2016-10-22T07:44:43.689037000&#x27;,\n",
       "       &#x27;2016-10-29T07:50:54.781837000&#x27;, &#x27;2016-11-07T07:44:42.978434000&#x27;,\n",
       "       &#x27;2016-11-14T07:50:53.716231000&#x27;, &#x27;2016-11-23T07:44:43.387432000&#x27;,\n",
       "       &#x27;2016-11-30T07:50:53.701820000&#x27;, &#x27;2016-12-09T07:44:41.043326000&#x27;,\n",
       "       &#x27;2016-12-16T07:50:49.582792000&#x27;, &#x27;2016-12-25T07:44:37.050672000&#x27;,\n",
       "       &#x27;2017-01-01T07:50:46.322616000&#x27;, &#x27;2017-01-10T07:44:33.800477000&#x27;,\n",
       "       &#x27;2017-01-17T07:50:42.577932000&#x27;, &#x27;2017-01-26T07:44:28.290152000&#x27;,\n",
       "       &#x27;2017-02-02T07:50:35.615703000&#x27;, &#x27;2017-02-11T07:44:20.138523000&#x27;,\n",
       "       &#x27;2017-02-18T07:50:29.108129000&#x27;, &#x27;2017-02-27T07:44:15.030059000&#x27;,\n",
       "       &#x27;2017-03-06T07:50:22.407380000&#x27;, &#x27;2017-03-15T07:44:06.228663000&#x27;,\n",
       "       &#x27;2017-03-22T07:50:12.183378000&#x27;, &#x27;2017-03-31T07:43:57.784494000&#x27;,\n",
       "       &#x27;2017-04-07T07:50:05.404287000&#x27;, &#x27;2017-04-16T07:43:49.578668000&#x27;,\n",
       "       &#x27;2017-04-23T07:49:55.730356000&#x27;, &#x27;2017-05-02T07:43:39.165638000&#x27;,\n",
       "       &#x27;2017-05-09T07:49:55.175413000&#x27;, &#x27;2017-05-18T07:43:50.951017000&#x27;,\n",
       "       &#x27;2017-05-25T07:50:06.244742000&#x27;, &#x27;2017-06-03T07:44:00.218652000&#x27;,\n",
       "       &#x27;2017-06-10T07:50:14.148894000&#x27;, &#x27;2017-06-19T07:44:06.568675000&#x27;,\n",
       "       &#x27;2017-06-26T07:50:19.348069000&#x27;, &#x27;2017-07-05T07:44:10.324080000&#x27;,\n",
       "       &#x27;2017-07-12T07:50:22.060747000&#x27;, &#x27;2017-07-21T07:44:15.628631000&#x27;,\n",
       "       &#x27;2017-07-28T07:50:29.855976000&#x27;, &#x27;2017-08-06T07:44:22.810113000&#x27;,\n",
       "       &#x27;2017-08-13T07:50:36.017612000&#x27;, &#x27;2017-08-22T07:44:27.629916000&#x27;,\n",
       "       &#x27;2017-08-29T07:50:39.656657000&#x27;, &#x27;2017-09-07T07:44:29.600562000&#x27;,\n",
       "       &#x27;2017-09-14T07:50:39.979534000&#x27;, &#x27;2017-09-23T07:44:33.737144000&#x27;,\n",
       "       &#x27;2017-09-30T07:50:47.489982000&#x27;, &#x27;2017-10-09T07:44:39.309134000&#x27;,\n",
       "       &#x27;2017-10-16T07:50:51.350505000&#x27;, &#x27;2017-10-25T07:44:41.153198000&#x27;,\n",
       "       &#x27;2017-11-01T07:50:51.542485000&#x27;, &#x27;2017-11-10T07:44:39.130332000&#x27;,\n",
       "       &#x27;2017-11-17T07:50:47.850441000&#x27;, &#x27;2017-11-26T07:44:33.218299000&#x27;,\n",
       "       &#x27;2017-12-03T07:50:42.515577000&#x27;, &#x27;2017-12-12T07:44:32.332814000&#x27;,\n",
       "       &#x27;2017-12-19T07:50:45.302941000&#x27;, &#x27;2017-12-28T07:44:33.285231000&#x27;,\n",
       "       &#x27;2018-01-04T07:50:41.718027000&#x27;, &#x27;2018-01-13T07:44:26.960025000&#x27;,\n",
       "       &#x27;2018-01-20T07:50:34.063967000&#x27;, &#x27;2018-01-29T07:44:17.620622000&#x27;,\n",
       "       &#x27;2018-02-05T07:50:25.224542000&#x27;, &#x27;2018-02-14T07:44:11.658762000&#x27;,\n",
       "       &#x27;2018-02-21T07:50:19.665814000&#x27;, &#x27;2018-03-02T07:44:04.500366000&#x27;,\n",
       "       &#x27;2018-03-09T07:50:11.289341000&#x27;, &#x27;2018-03-18T07:43:55.586648000&#x27;,\n",
       "       &#x27;2018-03-25T07:50:03.701517000&#x27;, &#x27;2018-04-03T07:43:48.676926000&#x27;,\n",
       "       &#x27;2018-04-10T07:49:55.610334000&#x27;, &#x27;2018-04-19T07:43:39.040411000&#x27;,\n",
       "       &#x27;2018-04-26T07:49:46.350997000&#x27;, &#x27;2018-05-05T07:43:30.433190000&#x27;,\n",
       "       &#x27;2018-05-12T07:49:36.650682000&#x27;, &#x27;2018-05-21T07:43:19.101434000&#x27;,\n",
       "       &#x27;2018-05-28T07:49:24.086459000&#x27;, &#x27;2018-06-06T07:43:09.787159000&#x27;,\n",
       "       &#x27;2018-06-13T07:49:25.837011000&#x27;, &#x27;2018-06-22T07:43:21.078151000&#x27;,\n",
       "       &#x27;2018-06-29T07:49:36.057183000&#x27;, &#x27;2018-07-08T07:43:29.893118000&#x27;,\n",
       "       &#x27;2018-07-15T07:49:43.868212000&#x27;, &#x27;2018-07-24T07:43:36.433382000&#x27;,\n",
       "       &#x27;2018-07-31T07:49:51.040565000&#x27;, &#x27;2018-08-09T07:43:45.613711000&#x27;,\n",
       "       &#x27;2018-08-16T07:50:00.152964000&#x27;, &#x27;2018-08-25T07:43:53.532118000&#x27;,\n",
       "       &#x27;2018-09-01T07:50:07.013109000&#x27;, &#x27;2018-09-10T07:43:59.024704000&#x27;,\n",
       "       &#x27;2018-09-17T07:50:11.501780000&#x27;, &#x27;2018-09-26T07:44:04.614635000&#x27;,\n",
       "       &#x27;2018-10-03T07:50:19.023999000&#x27;, &#x27;2018-10-12T07:44:12.192927000&#x27;,\n",
       "       &#x27;2018-10-19T07:50:25.428859000&#x27;, &#x27;2018-10-28T07:44:17.026571000&#x27;,\n",
       "       &#x27;2018-11-04T07:50:29.085714000&#x27;, &#x27;2018-11-13T07:44:19.073653000&#x27;,\n",
       "       &#x27;2018-11-20T07:50:29.832338000&#x27;, &#x27;2018-11-29T07:44:18.134362000&#x27;,\n",
       "       &#x27;2018-12-06T07:50:27.622077000&#x27;, &#x27;2018-12-15T07:44:14.992758000&#x27;,\n",
       "       &#x27;2018-12-22T07:50:26.320109000&#x27;, &#x27;2018-12-31T07:44:15.321903000&#x27;,\n",
       "       &#x27;2019-01-16T07:44:12.824890000&#x27;, &#x27;2019-01-23T07:50:21.737448000&#x27;,\n",
       "       &#x27;2019-02-01T07:44:08.948228000&#x27;, &#x27;2019-02-08T07:50:19.234190000&#x27;,\n",
       "       &#x27;2019-02-17T07:44:06.980132000&#x27;, &#x27;2019-02-24T07:50:16.101953000&#x27;,\n",
       "       &#x27;2019-03-05T07:44:02.446401000&#x27;, &#x27;2019-03-12T07:50:10.449636000&#x27;],\n",
       "      dtype=&#x27;datetime64[ns]&#x27;)</pre></li><li class='xr-var-item'><div class='xr-var-name'><span class='xr-has-index'>y</span></div><div class='xr-var-dims'>(y)</div><div class='xr-var-dtype'>float64</div><div class='xr-var-preview xr-preview'>-6.451e+05 ... -7.006e+05</div><input id='attrs-78809d4e-2ab6-4d96-bc31-c4858bea98c8' class='xr-var-attrs-in' type='checkbox' ><label for='attrs-78809d4e-2ab6-4d96-bc31-c4858bea98c8' title='Show/Hide attributes'><svg class='icon xr-icon-file-text2'><use xlink:href='#icon-file-text2'></use></svg></label><input id='data-999f65d4-91a8-4331-a3fc-38d46b547bc6' class='xr-var-data-in' type='checkbox'><label for='data-999f65d4-91a8-4331-a3fc-38d46b547bc6' title='Show/Hide data repr'><svg class='icon xr-icon-database'><use xlink:href='#icon-database'></use></svg></label><div class='xr-var-attrs'><dl class='xr-attrs'><dt><span>units :</span></dt><dd>metre</dd><dt><span>resolution :</span></dt><dd>-30.0</dd><dt><span>crs :</span></dt><dd>epsg:32636</dd></dl></div><pre class='xr-var-data'>array([-645105., -645135., -645165., ..., -700575., -700605., -700635.])</pre></li><li class='xr-var-item'><div class='xr-var-name'><span class='xr-has-index'>x</span></div><div class='xr-var-dims'>(x)</div><div class='xr-var-dtype'>float64</div><div class='xr-var-preview xr-preview'>7.14e+05 7.14e+05 ... 7.695e+05</div><input id='attrs-47c9e0b5-6982-4a0a-a498-b819510d8515' class='xr-var-attrs-in' type='checkbox' ><label for='attrs-47c9e0b5-6982-4a0a-a498-b819510d8515' title='Show/Hide attributes'><svg class='icon xr-icon-file-text2'><use xlink:href='#icon-file-text2'></use></svg></label><input id='data-f0af5008-5fcf-42c2-8d64-c3bfd3c25e7d' class='xr-var-data-in' type='checkbox'><label for='data-f0af5008-5fcf-42c2-8d64-c3bfd3c25e7d' title='Show/Hide data repr'><svg class='icon xr-icon-database'><use xlink:href='#icon-database'></use></svg></label><div class='xr-var-attrs'><dl class='xr-attrs'><dt><span>units :</span></dt><dd>metre</dd><dt><span>resolution :</span></dt><dd>30.0</dd><dt><span>crs :</span></dt><dd>epsg:32636</dd></dl></div><pre class='xr-var-data'>array([713955., 713985., 714015., ..., 769455., 769485., 769515.])</pre></li><li class='xr-var-item'><div class='xr-var-name'><span>spatial_ref</span></div><div class='xr-var-dims'>()</div><div class='xr-var-dtype'>int32</div><div class='xr-var-preview xr-preview'>32636</div><input id='attrs-daddadbc-9648-4557-b6bc-a7094e7af258' class='xr-var-attrs-in' type='checkbox' ><label for='attrs-daddadbc-9648-4557-b6bc-a7094e7af258' title='Show/Hide attributes'><svg class='icon xr-icon-file-text2'><use xlink:href='#icon-file-text2'></use></svg></label><input id='data-5614f5c1-e841-480e-b840-6c2e823fff43' class='xr-var-data-in' type='checkbox'><label for='data-5614f5c1-e841-480e-b840-6c2e823fff43' title='Show/Hide data repr'><svg class='icon xr-icon-database'><use xlink:href='#icon-database'></use></svg></label><div class='xr-var-attrs'><dl class='xr-attrs'><dt><span>spatial_ref :</span></dt><dd>PROJCS[&quot;WGS 84 / UTM zone 36N&quot;,GEOGCS[&quot;WGS 84&quot;,DATUM[&quot;WGS_1984&quot;,SPHEROID[&quot;WGS 84&quot;,6378137,298.257223563,AUTHORITY[&quot;EPSG&quot;,&quot;7030&quot;]],AUTHORITY[&quot;EPSG&quot;,&quot;6326&quot;]],PRIMEM[&quot;Greenwich&quot;,0,AUTHORITY[&quot;EPSG&quot;,&quot;8901&quot;]],UNIT[&quot;degree&quot;,0.0174532925199433,AUTHORITY[&quot;EPSG&quot;,&quot;9122&quot;]],AUTHORITY[&quot;EPSG&quot;,&quot;4326&quot;]],PROJECTION[&quot;Transverse_Mercator&quot;],PARAMETER[&quot;latitude_of_origin&quot;,0],PARAMETER[&quot;central_meridian&quot;,33],PARAMETER[&quot;scale_factor&quot;,0.9996],PARAMETER[&quot;false_easting&quot;,500000],PARAMETER[&quot;false_northing&quot;,0],UNIT[&quot;metre&quot;,1,AUTHORITY[&quot;EPSG&quot;,&quot;9001&quot;]],AXIS[&quot;Easting&quot;,EAST],AXIS[&quot;Northing&quot;,NORTH],AUTHORITY[&quot;EPSG&quot;,&quot;32636&quot;]]</dd><dt><span>grid_mapping_name :</span></dt><dd>transverse_mercator</dd></dl></div><pre class='xr-var-data'>array(32636, dtype=int32)</pre></li></ul></div></li><li class='xr-section-item'><input id='section-f54e327f-a253-4a1b-939c-0e53c6e45315' class='xr-section-summary-in' type='checkbox'  checked><label for='section-f54e327f-a253-4a1b-939c-0e53c6e45315' class='xr-section-summary' >Data variables: <span>(1)</span></label><div class='xr-section-inline-details'></div><div class='xr-section-details'><ul class='xr-var-list'><li class='xr-var-item'><div class='xr-var-name'><span>water</span></div><div class='xr-var-dims'>(time, y, x)</div><div class='xr-var-dtype'>uint8</div><div class='xr-var-preview xr-preview'>1 1 1 1 1 1 1 1 ... 1 1 1 1 1 1 1 1</div><input id='attrs-3c9195a7-f8d1-4197-a44c-a0b40aaecb35' class='xr-var-attrs-in' type='checkbox' ><label for='attrs-3c9195a7-f8d1-4197-a44c-a0b40aaecb35' title='Show/Hide attributes'><svg class='icon xr-icon-file-text2'><use xlink:href='#icon-file-text2'></use></svg></label><input id='data-3edc89e2-b27b-4ef7-9609-fb10399f905b' class='xr-var-data-in' type='checkbox'><label for='data-3edc89e2-b27b-4ef7-9609-fb10399f905b' title='Show/Hide data repr'><svg class='icon xr-icon-database'><use xlink:href='#icon-database'></use></svg></label><div class='xr-var-attrs'><dl class='xr-attrs'><dt><span>units :</span></dt><dd>1</dd><dt><span>nodata :</span></dt><dd>1</dd><dt><span>flags_definition :</span></dt><dd>{&#x27;dry&#x27;: {&#x27;bits&#x27;: [7, 6, 5, 4, 3, 1, 0], &#x27;values&#x27;: {&#x27;0&#x27;: True}, &#x27;description&#x27;: &#x27;Clear and dry&#x27;}, &#x27;sea&#x27;: {&#x27;bits&#x27;: 2, &#x27;values&#x27;: {&#x27;0&#x27;: False, &#x27;1&#x27;: True}, &#x27;description&#x27;: &#x27;Sea&#x27;}, &#x27;wet&#x27;: {&#x27;bits&#x27;: [7, 6, 5, 4, 3, 1, 0], &#x27;values&#x27;: {&#x27;128&#x27;: True}, &#x27;description&#x27;: &#x27;Clear and Wet&#x27;}, &#x27;cloud&#x27;: {&#x27;bits&#x27;: 6, &#x27;values&#x27;: {&#x27;0&#x27;: False, &#x27;1&#x27;: True}, &#x27;description&#x27;: &#x27;Cloudy&#x27;}, &#x27;nodata&#x27;: {&#x27;bits&#x27;: 0, &#x27;values&#x27;: {&#x27;0&#x27;: False, &#x27;1&#x27;: True}, &#x27;description&#x27;: &#x27;No data&#x27;}, &#x27;contiguous&#x27;: {&#x27;bits&#x27;: 1, &#x27;values&#x27;: {&#x27;0&#x27;: True, &#x27;1&#x27;: False}, &#x27;description&#x27;: &#x27;Contiguity&#x27;}, &#x27;cloud_shadow&#x27;: {&#x27;bits&#x27;: 5, &#x27;values&#x27;: {&#x27;0&#x27;: False, &#x27;1&#x27;: True}, &#x27;description&#x27;: &#x27;Cloud shadow&#x27;}, &#x27;water_observed&#x27;: {&#x27;bits&#x27;: 7, &#x27;values&#x27;: {&#x27;0&#x27;: False, &#x27;1&#x27;: True}, &#x27;description&#x27;: &#x27;Classified as water by the decision tree&#x27;}}</dd><dt><span>crs :</span></dt><dd>epsg:32636</dd><dt><span>grid_mapping :</span></dt><dd>spatial_ref</dd></dl></div><pre class='xr-var-data'>array([[[ 1,  1,  1, ..., 64, 64, 64],\n",
       "        [ 1,  1,  1, ..., 64, 64, 64],\n",
       "        [ 1,  1,  1, ..., 64, 64, 64],\n",
       "        ...,\n",
       "        [ 1,  1,  1, ..., 64, 64, 64],\n",
       "        [ 1,  1,  1, ..., 64, 64, 64],\n",
       "        [ 1,  1,  1, ..., 64, 64, 64]],\n",
       "\n",
       "       [[32, 32, 64, ..., 64, 64, 64],\n",
       "        [32, 64, 64, ..., 64, 64, 64],\n",
       "        [32, 64, 64, ..., 64, 64, 64],\n",
       "        ...,\n",
       "        [64, 64, 64, ...,  1,  1,  1],\n",
       "        [64, 64, 64, ...,  1,  1,  1],\n",
       "        [64, 64, 64, ...,  1,  1,  1]],\n",
       "\n",
       "       [[ 1,  1,  1, ..., 64, 64, 64],\n",
       "        [ 1,  1,  1, ..., 64, 64, 64],\n",
       "        [ 1,  1,  1, ..., 64, 64, 64],\n",
       "        ...,\n",
       "        [ 1,  1,  1, ..., 64, 64, 64],\n",
       "        [ 1,  1,  1, ..., 64, 64, 64],\n",
       "        [ 1,  1,  1, ..., 64, 64, 64]],\n",
       "\n",
       "       ...,\n",
       "\n",
       "       [[32, 32, 32, ..., 64, 64, 64],\n",
       "        [32, 32, 32, ..., 64, 64, 64],\n",
       "        [32, 32, 32, ..., 64, 64, 64],\n",
       "        ...,\n",
       "        [32, 32, 32, ...,  1,  1,  1],\n",
       "        [32, 32, 32, ...,  1,  1,  1],\n",
       "        [32, 32, 64, ...,  1,  1,  1]],\n",
       "\n",
       "       [[ 1,  1,  1, ..., 64, 64, 64],\n",
       "        [ 1,  1,  1, ..., 64, 64, 64],\n",
       "        [ 1,  1,  1, ..., 64, 64, 64],\n",
       "        ...,\n",
       "        [ 1,  1,  1, ..., 64, 64, 64],\n",
       "        [ 1,  1,  1, ..., 64, 64, 64],\n",
       "        [ 1,  1,  1, ..., 64, 64, 64]],\n",
       "\n",
       "       [[ 0,  0,  0, ...,  0,  0,  0],\n",
       "        [ 0,  0,  0, ...,  0,  0,  0],\n",
       "        [ 0,  0,  0, ...,  0,  0,  0],\n",
       "        ...,\n",
       "        [ 0, 32, 32, ...,  1,  1,  1],\n",
       "        [ 0,  0, 32, ...,  1,  1,  1],\n",
       "        [ 0,  0,  0, ...,  1,  1,  1]]], dtype=uint8)</pre></li></ul></div></li><li class='xr-section-item'><input id='section-1701a1ac-3fe1-44da-9a14-1bfc6369d8a5' class='xr-section-summary-in' type='checkbox'  checked><label for='section-1701a1ac-3fe1-44da-9a14-1bfc6369d8a5' class='xr-section-summary' >Attributes: <span>(2)</span></label><div class='xr-section-inline-details'></div><div class='xr-section-details'><dl class='xr-attrs'><dt><span>crs :</span></dt><dd>epsg:32636</dd><dt><span>grid_mapping :</span></dt><dd>spatial_ref</dd></dl></div></li></ul></div></div>"
      ],
      "text/plain": [
       "<xarray.Dataset>\n",
       "Dimensions:      (time: 190, x: 1853, y: 1852)\n",
       "Coordinates:\n",
       "  * time         (time) datetime64[ns] 2015-01-05T07:44:25.672915 ... 2019-03-12T07:50:10.449636\n",
       "  * y            (y) float64 -6.451e+05 -6.451e+05 ... -7.006e+05 -7.006e+05\n",
       "  * x            (x) float64 7.14e+05 7.14e+05 7.14e+05 ... 7.695e+05 7.695e+05\n",
       "    spatial_ref  int32 32636\n",
       "Data variables:\n",
       "    water        (time, y, x) uint8 1 1 1 1 1 1 1 1 1 1 ... 1 1 1 1 1 1 1 1 1 1\n",
       "Attributes:\n",
       "    crs:           epsg:32636\n",
       "    grid_mapping:  spatial_ref"
      ]
     },
     "execution_count": 36,
     "metadata": {},
     "output_type": "execute_result"
    }
   ],
   "source": [
    "#load wofs summary\n",
    "wofls= dc.load(product = 'ga_ls8c_wofs_2',group_by=\"solar_day\",fuse_func=wofs_fuser, output_crs = output_crs,**query)\n",
    "wofls"
   ]
  },
  {
   "cell_type": "code",
   "execution_count": 37,
   "metadata": {},
   "outputs": [
    {
     "data": {
      "text/plain": [
       "<matplotlib.collections.QuadMesh at 0x7f2c582d46d8>"
      ]
     },
     "execution_count": 37,
     "metadata": {},
     "output_type": "execute_result"
    },
    {
     "data": {
      "image/png": "[encoded data removed]",
      "text/plain": [
       "<Figure size 432x288 with 2 Axes>"
      ]
     },
     "metadata": {
      "needs_background": "light"
     },
     "output_type": "display_data"
    }
   ],
   "source": [
    "wofls.water.isel(time=5).plot()"
   ]
  },
  {
   "cell_type": "markdown",
   "metadata": {},
   "source": [
    "## Percentage of the Time that the Lake was Wet "
   ]
  },
  {
   "cell_type": "code",
   "execution_count": 38,
   "metadata": {},
   "outputs": [],
   "source": [
    "freq= dc.load(product = 'ga_ls8c_wofs_2_summary', output_crs = output_crs,**query)"
   ]
  },
  {
   "cell_type": "code",
   "execution_count": 39,
   "metadata": {},
   "outputs": [
    {
     "data": {
      "text/plain": [
       "<matplotlib.collections.QuadMesh at 0x7f2c54153f98>"
      ]
     },
     "execution_count": 39,
     "metadata": {},
     "output_type": "execute_result"
    },
    {
     "data": {
      "image/png": "[encoded data removed]",
      "text/plain": [
       "<Figure size 432x288 with 2 Axes>"
      ]
     },
     "metadata": {
      "needs_background": "light"
     },
     "output_type": "display_data"
    }
   ],
   "source": [
    "(freq.frequency*100).plot()"
   ]
  },
  {
   "cell_type": "markdown",
   "metadata": {
    "ExecuteTime": {
     "end_time": "2018-06-01T02:37:16.665404Z",
     "start_time": "2018-06-01T02:37:16.661016Z"
    }
   },
   "source": [
    "WOfS uses [bit flags](http://datacube-core.readthedocs.io/en/latest/dev/api/masking.html) to flag pixels as 'wet' or otherwise. For more details on how to do masking on WOfS, see the [Applying_WOfS_bit_masking](../Frequently_used_code/Applying_WOfS_bitmasking.ipynb) notebook."
   ]
  },
  {
   "cell_type": "markdown",
   "metadata": {},
   "source": [
    "## WOFL Mask in One Timestep:"
   ]
  },
  {
   "cell_type": "code",
   "execution_count": 40,
   "metadata": {
    "ExecuteTime": {
     "end_time": "2019-05-24T02:53:44.848625Z",
     "start_time": "2019-05-24T02:53:44.177691Z"
    }
   },
   "outputs": [
    {
     "data": {
      "text/plain": [
       "<matplotlib.collections.QuadMesh at 0x7f2c57c26780>"
      ]
     },
     "execution_count": 40,
     "metadata": {},
     "output_type": "execute_result"
    },
    {
     "data": {
      "image/png": "[encoded data removed]",
      "text/plain": [
       "<Figure size 432x288 with 2 Axes>"
      ]
     },
     "metadata": {
      "needs_background": "light"
     },
     "output_type": "display_data"
    }
   ],
   "source": [
    "wetwofl = masking.make_mask(wofls, wet=True)\n",
    "wetwofl.water.isel(time=5).plot()"
   ]
  },
  {
   "cell_type": "code",
   "execution_count": 41,
   "metadata": {},
   "outputs": [
    {
     "data": {
      "text/plain": [
       "<matplotlib.collections.QuadMesh at 0x7f2c57cb9748>"
      ]
     },
     "execution_count": 41,
     "metadata": {},
     "output_type": "execute_result"
    },
    {
     "data": {
      "image/png": "[encoded data removed]",
      "text/plain": [
       "<Figure size 432x288 with 2 Axes>"
      ]
     },
     "metadata": {
      "needs_background": "light"
     },
     "output_type": "display_data"
    }
   ],
   "source": [
    "drywofl = masking.make_mask(wofls, dry=True)\n",
    "drywofl.water.isel(time=5).plot()"
   ]
  },
  {
   "cell_type": "markdown",
   "metadata": {
    "ExecuteTime": {
     "end_time": "2018-05-31T00:34:17.482879Z",
     "start_time": "2018-05-31T00:34:17.479632Z"
    }
   },
   "source": [
    "## Save WOfS Summary to Cloud Optimised Geotiff (COG)"
   ]
  },
  {
   "cell_type": "markdown",
   "metadata": {},
   "source": [
    "### Export a single-band, single time-slice GeoTIFF\n",
    "\n",
    "This method uses the `datacube.utils.cog` function [write_cog](https://datacube-core.readthedocs.io/en/latest/dev/api/generate/datacube.utils.cog.write_cog.html), where cog stands for [Cloud-Optimised-Geotiff](https://www.cogeo.org/) to export a simple single-band, single time-slice COG. \n",
    "\n",
    "A few important caveats should be noted when using this function:\n",
    "1. It requires an `xarray.DataArray`; supplying an `xarray.Dataset` will return an error. To convert a `xarray.Dataset` to an array run the following: \n",
    "\n",
    "        da = ds.to_array()\n",
    "\n",
    "\n",
    "2. This function generates a temporary in-memory tiff file without compression.  This means the function will use about 1.5 to 2 times the memory required using the depreciated `datacube.helper.write_geotiff`.\n",
    "\n",
    "3. If you pass a `dask array` into the function, `write_cog` will not output a geotiff, but will instead return a` Dask Delayed` object. To trigger the output of the geotiff run `.compute()` on the dask delayed object: \n",
    "\n",
    "        write_cog(ds.red.isel(time=0), \"red.tif\").compute()"
   ]
  },
  {
   "cell_type": "code",
   "execution_count": 55,
   "metadata": {},
   "outputs": [
    {
     "data": {
      "text/plain": [
       "PosixPath('wofls')"
      ]
     },
     "execution_count": 55,
     "metadata": {},
     "output_type": "execute_result"
    }
   ],
   "source": [
    "# Write GeoTIFF to a location\n",
    "write_cog(wofls.water.isel(time=5),fname=\"wofls\",overwrite=True)"
   ]
  },
  {
   "cell_type": "markdown",
   "metadata": {},
   "source": [
    "## References\n",
    "1. GA, 2017. *Water Observations from Space 2.1.5 Product Description.* https://cmi.ga.gov.au/wo_25_2.1.5\n",
    "\n",
    "2. Mueller, et al. 2015., *Water observations from space: Mapping surface water from 25 years of Landsat imagery across Australia*, Remote Sensing of Environment. https://doi.org/10.1016/j.rse.2015.11.003\n",
    "\n",
    "GA, 2017. *Water Observations from Space Statistics 25m 2.1.5*, https://cmi.ga.gov.au/wo-stats_25_2.1.5\n",
    "\n",
    "\n",
    "https://github.com/GeoscienceAustralia/wofs\n",
    "\n",
    "GA, 2017. *Water Observations from Space Filtered Statistics 25m 2.1.5 Product Description*\n",
    "https://data.dea.ga.gov.au/WOfS/filtered_summary/v2.1.0/Product%20Description.pdf"
   ]
  },
  {
   "cell_type": "raw",
   "metadata": {},
   "source": [
    "**Tags:** :index:`Landsats 5,7,8`, :index:`products`, :index:`WOfS`, :index:`WOFL`,:index:`dc.list_products`, :index:`dc.load`, :index:`query`, :index:`plot`, :index:`image`, :index:`Plot Multiple Images`, index:`NetCDF`, index:`GeoTIFF`"
   ]
  }
 ],
 "metadata": {
  "celltoolbar": "Raw Cell Format",
  "kernelspec": {
   "display_name": "Python 3",
   "language": "python",
   "name": "python3"
  },
  "language_info": {
   "codemirror_mode": {
    "name": "ipython",
    "version": 3
   },
   "file_extension": ".py",
   "mimetype": "text/x-python",
   "name": "python",
   "nbconvert_exporter": "python",
   "pygments_lexer": "ipython3",
   "version": "3.6.9"
  }
 },
 "nbformat": 4,
 "nbformat_minor": 4
}
