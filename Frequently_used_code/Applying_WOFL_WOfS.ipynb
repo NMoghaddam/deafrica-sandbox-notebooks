{
 "cells": [
  {
   "cell_type": "markdown",
   "metadata": {},
   "source": [
    "# Applying WOfS and its Accuracy Assessment to Africa <img align=\"right\" src=\"../Supplementary_data/DE_Africa_Logo_Stacked_RGB_small.jpg\">\n",
    "\n",
    "* **Products used:** \n",
    "[ga_ls8c_wofs_2](https://explorer.digitalearth.africa/ga_ls8c_wofs_2)"
   ]
  },
  {
   "cell_type": "markdown",
   "metadata": {},
   "source": [
    "## Background\n",
    "The [Water Observations from Space (WOfS)](https://www.ga.gov.au/scientific-topics/community-safety/flood/wofs/about-wofs) is a derived product from Landsat 8 satellite observations as part of provisional Landsat Collection 2 surface reflectance and shows water detected for selected areas of Africa.\n",
    "\n",
    "Individual water classified images are called Water Observation Feature Layers (WOFLs), and are created in a 1-to-1 relationship with the input satellite data. \n",
    "Hence there is one WOFL for each satellite dataset processed for the occurrence of water."
   ]
  },
  {
   "cell_type": "markdown",
   "metadata": {},
   "source": [
    "## Description\n",
    "This notebook explains both the structure of the WOFLs, and how you can use WOfS derived product to perform accuracy assessment of the product using ground truth dataset.\n",
    "\n",
    "The data in a WOFL is stored as a bit field. \n",
    "This is a binary number, where each digit of the number is independantly set or not based on the presence (1) or absence (0) of a particular attribute (water, cloud, cloud shadow etc).\n",
    "In this way, the single decimal value associated to each pixel can provide information on a variety of features of that pixel. \n",
    "\n",
    "The notebook demonstrates how to:\n",
    "\n",
    "1. Load WOFL data for a given location and time period \n",
    "2. Inspect the WOFL bit flag information\n",
    "3. Use the WOFL bit flags to create a binary mask\n",
    "4. Apply WOFL-based masks to fractional cover dataset \n",
    "5. Generating a confusion error matrix for WOFL classification\n",
    "6. Assessing the accuracy of the classification \n",
    "***"
   ]
  },
  {
   "cell_type": "markdown",
   "metadata": {},
   "source": [
    "## Getting started\n",
    "\n",
    "To run this analysis, run all the cells in the notebook, starting with the \"Load packages\" cell.\n",
    "\n",
    "After finishing the analysis, you can modify some values in the \"Analysis parameters\" cell and re-run the analysis to load WOFLs for a different location or time period."
   ]
  },
  {
   "cell_type": "markdown",
   "metadata": {},
   "source": [
    "### Load packages"
   ]
  },
  {
   "cell_type": "code",
   "execution_count": 5,
   "metadata": {},
   "outputs": [],
   "source": [
    "%matplotlib inline\n",
    "\n",
    "import datacube\n",
    "from datacube.utils import masking \n",
    "import sys\n",
    "import os\n",
    "import dask \n",
    "import rasterio\n",
    "import xarray\n",
    "import numpy as np\n",
    "import pandas as pd\n",
    "import seaborn as sn\n",
    "import geopandas as gpd\n",
    "import subprocess as sp\n",
    "import matplotlib.pyplot as plt\n",
    "\n",
    "sys.path.append(\"../Scripts\")\n",
    "from deafrica_plotting import display_map\n",
    "from deafrica_datahandling import wofs_fuser, mostcommon_crs,load_ard\n",
    "from rasterio.mask import mask\n"
   ]
  },
  {
   "cell_type": "code",
   "execution_count": 3,
   "metadata": {},
   "outputs": [],
   "source": [
    "# #the following packages are essential for classification part using machine learning \n",
    "# import pydotplus\n",
    "# import warnings\n",
    "# import geopandas as gpd\n",
    "# from io import StringIO\n",
    "# from joblib import dump\n",
    "# from pprint import pprint\n",
    "# import multiprocessing as mp\n",
    "# from IPython.display import Image\n",
    "# from sklearn import tree, model_selection\n",
    "# from sklearn.model_selection import GridSearchCV\n",
    "# from sklearn.metrics import accuracy_score\n",
    "# from datacube.utils.dask import start_local_dask\n",
    "# from datacube.helpers import write_geotiff\n",
    "# from deafrica_classificationtools import predict_xr, collect_training_data\n",
    "# from deafrica_plotting import map_shapefile, rgb\n",
    "# from deafrica_bandindices import calculate_indices\n",
    "# warnings.filterwarnings(\"ignore\")"
   ]
  },
  {
   "cell_type": "markdown",
   "metadata": {},
   "source": [
    "### Connect to the datacube"
   ]
  },
  {
   "cell_type": "code",
   "execution_count": 6,
   "metadata": {},
   "outputs": [],
   "source": [
    "dc = datacube.Datacube(app=\"Applying_WOfS\")"
   ]
  },
  {
   "cell_type": "markdown",
   "metadata": {},
   "source": [
    "### Analysis parameters"
   ]
  },
  {
   "cell_type": "code",
   "execution_count": 12,
   "metadata": {},
   "outputs": [
    {
     "name": "stderr",
     "output_type": "stream",
     "text": [
      "../Scripts/deafrica_datahandling.py:600: UserWarning: Multiple UTM zones ['epsg:32637', 'epsg:32636'] were returned for this query. Defaulting to the most common zone: epsg:32637\n",
      "  UserWarning)\n"
     ]
    }
   ],
   "source": [
    "#Site location in Tanzania close to the border with Kenya\n",
    "#change the location to somewhere in Ghana \n",
    "lat, lon =  -6.083 ,35.184\n",
    "buffer = 0.10\n",
    "\n",
    "x = (lon-buffer, lon+buffer)\n",
    "y =  (lat+buffer, lat-buffer)\n",
    "\n",
    "# Create a reusable query\n",
    "query = {\n",
    "    'x': x,\n",
    "    'y': y,\n",
    "    'time': ('2019-01-01', '2019-03-20'),\n",
    "    'resolution': (-30, 30)\n",
    "}\n",
    "\n",
    "output_crs = mostcommon_crs(dc=dc, product='ga_ls8c_wofs_2', query=query) #use the collection 2 one here that should have 2018\n",
    "\n",
    "\n",
    "#The following part should change following update for training dataset in order to use ML classification \n",
    "path = '../Supplementary_data/Machine_learning_with_ODC/test_training_data.shp' # this part will change with having test training shapefile \n",
    "field = 'class'\n",
    "products =  ['ga_ls8c_wofs_2'] #this can be changed to another one that you want to use as your raster \n",
    "time = ('2018')\n",
    "reduce_func = None #'geomedian'\n",
    "custom_func = None\n",
    "band_indices = None #['NDVI'] \n",
    "drop = False\n",
    "zonal_stats = None #'median' \n",
    "resolution =  (-30, 30)\n",
    "align = (15,15)\n",
    "\n",
    "#automatically detect the number of cpus\n",
    "ncpus=int(float(sp.getoutput('env | grep CPU')[-3:]))\n"
   ]
  },
  {
   "cell_type": "markdown",
   "metadata": {},
   "source": [
    "### View the selected location"
   ]
  },
  {
   "cell_type": "code",
   "execution_count": 13,
   "metadata": {},
   "outputs": [
    {
     "data": {
      "text/html": [
       "<div style=\"width:100%;\"><div style=\"position:relative;width:100%;height:0;padding-bottom:60%;\"><iframe src=\"data:text/html;charset=utf-8;base64,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\" style=\"position:absolute;width:100%;height:100%;left:0;top:0;border:none !important;\" allowfullscreen webkitallowfullscreen mozallowfullscreen></iframe></div></div>"
      ],
      "text/plain": [
       "<folium.folium.Map at 0x7ff8f820c780>"
      ]
     },
     "execution_count": 13,
     "metadata": {},
     "output_type": "execute_result"
    }
   ],
   "source": [
    "display_map(x=x, y=y)"
   ]
  },
  {
   "cell_type": "markdown",
   "metadata": {},
   "source": [
    "## Load WOFL data\n"
   ]
  },
  {
   "cell_type": "markdown",
   "metadata": {},
   "source": [
    "To load WOFL data, we can first create a re-usable query that will define the spatial extent and time period we are interested in, as well as other important parameters that are used to correctly load the data.\n",
    "\n",
    "As WOFLs are created scene-by-scene, and some scenes overlap, it's important when loading data to `group_by` solar day, and ensure that the data between scenes is combined correctly by using the WOfS `fuse_func`.\n",
    "This will merge observations taken on the same day, and ensure that important data isn't lost when overlapping datasets are combined."
   ]
  },
  {
   "cell_type": "code",
   "execution_count": 14,
   "metadata": {},
   "outputs": [],
   "source": [
    "# Load the data from the datacube\n",
    "wofls = dc.load(product=\"ga_ls8c_wofs_2\", output_crs=output_crs, group_by=\"solar_day\",\n",
    "                            fuse_func=wofs_fuser, **query)"
   ]
  },
  {
   "cell_type": "code",
   "execution_count": 15,
   "metadata": {},
   "outputs": [
    {
     "data": {
      "image/png": "[encoded data removed]",
      "text/plain": [
       "<Figure size 720x648 with 10 Axes>"
      ]
     },
     "metadata": {
      "needs_background": "light"
     },
     "output_type": "display_data"
    }
   ],
   "source": [
    "# Plot the loaded WOFLs\n",
    "wofls.water.plot(col=\"time\", col_wrap=3)\n",
    "plt.show()"
   ]
  },
  {
   "cell_type": "code",
   "execution_count": 17,
   "metadata": {},
   "outputs": [],
   "source": [
    "# Select one image of interest (`time=2` selects the third observation)\n",
    "wofl = wofls.isel(time=1)"
   ]
  },
  {
   "cell_type": "markdown",
   "metadata": {},
   "source": [
    "### Understanding the WOFLs"
   ]
  },
  {
   "cell_type": "markdown",
   "metadata": {},
   "source": [
    "As mentioned above, WOFLs are stored as a binary number, where each digit of the number is independantly set or not based on the presence (1) or absence (0) of a particular feature. Below is a breakdown of which bits represent which features, along with the decimal value associated with that bit being set to true."
   ]
  },
  {
   "cell_type": "markdown",
   "metadata": {},
   "source": [
    "| Attribute | Bit / position   | Decimal value |\n",
    "|------|------|----|\n",
    "| No data | 0:   `0-------` or `1-------` | 1|\n",
    "| Non contiguous | 1:   `-0------` or `-1------` | 2 |\n",
    "| Sea | 2:   `--0-----` or `--1-----` | 4 |\n",
    "| Terrain or low solar angle | 3:   `---0----` or `---1----` | 8 |\n",
    "| High slope | 4:   `----0---` or `----1---` | 16 |\n",
    "| Cloud shadow | 5:   `-----0--` or `-----1--` | 32 |\n",
    "| Cloud | 6:   `------0-` or `------1-` | 64 |\n",
    "| Water | 7:   `-------0` or `-------1` | 128 |\n"
   ]
  },
  {
   "cell_type": "markdown",
   "metadata": {},
   "source": [
    "The values in the above plots are the decimal representation of the combination of set flags. \n",
    "For example a value of 136 indicates water (128) AND terrain shadow / low solar angle (8) were observed for the pixel,\n",
    "whereas a value of 144 would indicate water (128) AND high slope (16).\n",
    "\n",
    "This flag information is available inside the loaded data and can be visualised as below"
   ]
  },
  {
   "cell_type": "code",
   "execution_count": 18,
   "metadata": {},
   "outputs": [
    {
     "data": {
      "text/html": [
       "<div>\n",
       "<style scoped>\n",
       "    .dataframe tbody tr th:only-of-type {\n",
       "        vertical-align: middle;\n",
       "    }\n",
       "\n",
       "    .dataframe tbody tr th {\n",
       "        vertical-align: top;\n",
       "    }\n",
       "\n",
       "    .dataframe thead th {\n",
       "        text-align: right;\n",
       "    }\n",
       "</style>\n",
       "<table border=\"1\" class=\"dataframe\">\n",
       "  <thead>\n",
       "    <tr style=\"text-align: right;\">\n",
       "      <th></th>\n",
       "      <th>bits</th>\n",
       "      <th>values</th>\n",
       "      <th>description</th>\n",
       "    </tr>\n",
       "  </thead>\n",
       "  <tbody>\n",
       "    <tr>\n",
       "      <th>nodata</th>\n",
       "      <td>0</td>\n",
       "      <td>{'0': False, '1': True}</td>\n",
       "      <td>No data</td>\n",
       "    </tr>\n",
       "    <tr>\n",
       "      <th>contiguous</th>\n",
       "      <td>1</td>\n",
       "      <td>{'0': True, '1': False}</td>\n",
       "      <td>Contiguity</td>\n",
       "    </tr>\n",
       "    <tr>\n",
       "      <th>sea</th>\n",
       "      <td>2</td>\n",
       "      <td>{'0': False, '1': True}</td>\n",
       "      <td>Sea</td>\n",
       "    </tr>\n",
       "    <tr>\n",
       "      <th>cloud_shadow</th>\n",
       "      <td>5</td>\n",
       "      <td>{'0': False, '1': True}</td>\n",
       "      <td>Cloud shadow</td>\n",
       "    </tr>\n",
       "    <tr>\n",
       "      <th>cloud</th>\n",
       "      <td>6</td>\n",
       "      <td>{'0': False, '1': True}</td>\n",
       "      <td>Cloudy</td>\n",
       "    </tr>\n",
       "    <tr>\n",
       "      <th>water_observed</th>\n",
       "      <td>7</td>\n",
       "      <td>{'0': False, '1': True}</td>\n",
       "      <td>Classified as water by the decision tree</td>\n",
       "    </tr>\n",
       "    <tr>\n",
       "      <th>dry</th>\n",
       "      <td>[7, 6, 5, 4, 3, 1, 0]</td>\n",
       "      <td>{'0': True}</td>\n",
       "      <td>Clear and dry</td>\n",
       "    </tr>\n",
       "    <tr>\n",
       "      <th>wet</th>\n",
       "      <td>[7, 6, 5, 4, 3, 1, 0]</td>\n",
       "      <td>{'128': True}</td>\n",
       "      <td>Clear and Wet</td>\n",
       "    </tr>\n",
       "  </tbody>\n",
       "</table>\n",
       "</div>"
      ],
      "text/plain": [
       "                                 bits                   values  \\\n",
       "nodata                              0  {'0': False, '1': True}   \n",
       "contiguous                          1  {'0': True, '1': False}   \n",
       "sea                                 2  {'0': False, '1': True}   \n",
       "cloud_shadow                        5  {'0': False, '1': True}   \n",
       "cloud                               6  {'0': False, '1': True}   \n",
       "water_observed                      7  {'0': False, '1': True}   \n",
       "dry             [7, 6, 5, 4, 3, 1, 0]              {'0': True}   \n",
       "wet             [7, 6, 5, 4, 3, 1, 0]            {'128': True}   \n",
       "\n",
       "                                             description  \n",
       "nodata                                           No data  \n",
       "contiguous                                    Contiguity  \n",
       "sea                                                  Sea  \n",
       "cloud_shadow                                Cloud shadow  \n",
       "cloud                                             Cloudy  \n",
       "water_observed  Classified as water by the decision tree  \n",
       "dry                                        Clear and dry  \n",
       "wet                                        Clear and Wet  "
      ]
     },
     "execution_count": 18,
     "metadata": {},
     "output_type": "execute_result"
    }
   ],
   "source": [
    "# Display details of available flags\n",
    "flags = masking.describe_variable_flags(wofls)\n",
    "flags[\"bits\"] = flags[\"bits\"].astype(str)\n",
    "flags.sort_values(by=\"bits\")"
   ]
  },
  {
   "cell_type": "code",
   "execution_count": 19,
   "metadata": {},
   "outputs": [
    {
     "data": {
      "image/png": "[encoded data removed]",
      "text/plain": [
       "<Figure size 432x288 with 2 Axes>"
      ]
     },
     "metadata": {
      "needs_background": "light"
     },
     "output_type": "display_data"
    }
   ],
   "source": [
    "# Show areas flagged as water only (with no other flags set)\n",
    "(wofl.water == 128).plot.imshow()\n",
    "plt.show()"
   ]
  },
  {
   "cell_type": "markdown",
   "metadata": {},
   "source": [
    "We can convert the WOFL bit field into a binary array containing True and False values. This allows us to use the WOFL data as a mask that can be applied to other datasets.\n",
    "The `make_mask` function allows us to create a mask using the flag labels (e.g. \"wet\" or \"dry\") rather than the binary numbers we used above. For more details on how to do masking on WOfS, see the [Applying_WOfS_bit_masking](../Frequently_used_code/Applying_WOfS_bitmasking.ipynb) notebook.\n"
   ]
  },
  {
   "cell_type": "markdown",
   "metadata": {},
   "source": [
    "## Extract training data using a shapefile\n",
    "\n",
    "**Training data** as part of machine learning workflow has a greater impact on the classification than the algorithm used. In order to reduce the high variance in the prediction and improve classification accuracy, large and accurate training data sets are preferable. Capturing `spectral variability` of the class and using satellite imagery from the classification time period rather than relying on basemap, could improve the quality of training dataset. `class imbalance` is another common problem with training data that occurs when one of classes is relatively rare and comprise a smaller proportion of the training set. This normally will result in under-prediction of less abundant classes relative to their true proportion in final classification.  \n",
    "\n",
    "> **Note**: The training data provided by default is `for demonstration purposes only` and should not be relied upon for real world analysis.  \n",
    "\n",
    "***\n",
    "\n",
    "Firstly, let's open our training data and visualize it using the function `map_shapefile`"
   ]
  },
  {
   "cell_type": "code",
   "execution_count": null,
   "metadata": {},
   "outputs": [],
   "source": [
    "#open shapefile and ensure its in WGS84 coordinates\n",
    "input_data = gpd.read_file(path).to_crs('epsg:4326')\n",
    "\n",
    "#check the shapfile by plotting it\n",
    "map_shapefile(input_data, attribute=field)"
   ]
  },
  {
   "cell_type": "markdown",
   "metadata": {},
   "source": [
    "To train our model, we need to obtain satellite data that corresponds with the labelled input data locations. \n",
    "\n",
    "The function `collect_training_data` takes our shapefile containing class labels and extracts traning data from the datacube over the location specified by the input geometries. The function will also pre-process our training data by stacking the arrays into a useful format and removing an `NaN` (not-a-number) values.\n",
    "\n",
    "\n",
    "> **The following cell can take several minutes to run.** The class labels will be contained in the first column of the output array.  If you set `ncpus > 1`, then this function will be run in parallel across the specified number of processes.\n"
   ]
  },
  {
   "cell_type": "code",
   "execution_count": null,
   "metadata": {},
   "outputs": [],
   "source": [
    "#generate a datacube query object (The measurement needs to be changed based on the WOfS layer)\n",
    "query = {\n",
    "    'time': time,\n",
    "    'measurements': ['blue',\n",
    "                     'green',\n",
    "                     'red',\n",
    "                     'nir',\n",
    "                     'swir1',\n",
    "                     'swir2'],\n",
    "    'resolution': resolution,\n",
    "    'align' : align,\n",
    "    'group_by' :'solar_day',\n",
    "}"
   ]
  },
  {
   "cell_type": "code",
   "execution_count": null,
   "metadata": {},
   "outputs": [],
   "source": [
    "#Collect the training data from the datacube\n",
    "column_names, model_input = collect_training_data(\n",
    "                                    gdf=input_data,\n",
    "                                    products=products,\n",
    "                                    dc_query=query,\n",
    "                                    ncpus=ncpus,\n",
    "                                    custom_func=custom_func,\n",
    "                                    field=field,\n",
    "                                    calc_indices=band_indices,\n",
    "                                    reduce_func=reduce_func,\n",
    "                                    drop=drop,\n",
    "                                    zonal_stats=zonal_stats)"
   ]
  },
  {
   "cell_type": "markdown",
   "metadata": {},
   "source": [
    "So that we can access the accuracy of our classification, we split our data into training and testing data. \n",
    "80% is used for training with 20% held back for testing.\n",
    "When splitting our data, we stratify the training data by the distributions of class membership.\n",
    "This sampling method leads to a similar distribution of class membership in the training data."
   ]
  },
  {
   "cell_type": "code",
   "execution_count": null,
   "metadata": {},
   "outputs": [],
   "source": [
    "# Split into training and testing data\n",
    "model_train, model_test = model_selection.train_test_split(model_input, \n",
    "                                                           stratify=model_input[:, 0],\n",
    "                                                           train_size=0.8, \n",
    "                                                           random_state=0)\n",
    "print(\"Train shape:\", model_train.shape)\n",
    "print(\"Test shape:\", model_test.shape)"
   ]
  },
  {
   "cell_type": "markdown",
   "metadata": {},
   "source": [
    "## Model Preparation "
   ]
  },
  {
   "cell_type": "markdown",
   "metadata": {},
   "source": [
    "This section automatically creates a list of varaible names and their respective indices for each of the training data variables.\n",
    "\n",
    "> **Note:** To use a custom subset of the satellite bands loaded above to train our data, you can replace `column_names[1:]` with a list of selected band names (e.g. `['red', 'green', 'blue']`)"
   ]
  },
  {
   "cell_type": "code",
   "execution_count": null,
   "metadata": {},
   "outputs": [],
   "source": [
    "# Select the variables we want to use to train our model\n",
    "model_variables = column_names[1:]\n",
    "\n",
    "# Extract relevant indices from the processed shapefile\n",
    "model_col_indices = [column_names.index(var_name) for var_name in model_variables]"
   ]
  },
  {
   "cell_type": "markdown",
   "metadata": {},
   "source": [
    "A **decision tree model** is chosen as it is one of the simplest supervised machine learning models we can implement. \n",
    "\n",
    "Its strengths are its explainability and cheap computational cost.\n",
    "\n",
    "Parameter tuning can be conducted in the model initialisation below by adding or changing variables in the `classifier_params` below - details on how the different parameters will affect the model are [here](https://scikit-learn.org/stable/modules/tree.html#tips-on-practical-use)."
   ]
  },
  {
   "cell_type": "code",
   "execution_count": null,
   "metadata": {},
   "outputs": [],
   "source": [
    "classifier_params = {'criterion': 'gini',\n",
    "                     'max_depth' : 10,\n",
    "                     'splitter' : 'random',\n",
    "                     'min_samples_split' : 100}\n",
    "\n",
    "model = tree.DecisionTreeClassifier(**classifier_params, random_state=1)"
   ]
  },
  {
   "cell_type": "markdown",
   "metadata": {},
   "source": [
    "## Train model "
   ]
  },
  {
   "cell_type": "markdown",
   "metadata": {},
   "source": [
    "The model is fitted / trained using the prepared training data. The fitting process uses the decision tree approach to create a generalised representation of reality based on the training data. This fitted / trained model can then be used to predict which class new data belongs to."
   ]
  },
  {
   "cell_type": "code",
   "execution_count": null,
   "metadata": {},
   "outputs": [],
   "source": [
    "# Train model\n",
    "model.fit(model_train[:, model_col_indices], model_train[:, 0])\n",
    "#We can save the model as joblib that allows for importing it into other scripts should we wish to use the same model to classify a different region.\n",
    "dump(model, 'ml_model.joblib')"
   ]
  },
  {
   "cell_type": "markdown",
   "metadata": {},
   "source": [
    "## Prediction "
   ]
  },
  {
   "cell_type": "markdown",
   "metadata": {},
   "source": [
    "Now that we have a trained model, we can load new data and use the `predict_xr` function to predict landcover classes. \n",
    "\n",
    "The trained model can technically be used to classify any dataset or product with the same bands as the data originally used to train the data.\n",
    "However, it is typically highly advisable to classify data from the same product that the data was originally trained on.\n",
    "\n",
    "> If you changed any of the parameters in the `Analysis Parameters` section from their default values, then these changes will need to be reflected in the code below. For the prediction section to work, it requires loading the same data as is loaded in the training data. The user needs to update this section manually."
   ]
  },
  {
   "cell_type": "code",
   "execution_count": null,
   "metadata": {},
   "outputs": [],
   "source": [
    "# Load the data based on query around the user supplied\n",
    "# lat/long and buffer \n",
    "q = {'x': (long-buffer, long+buffer),\n",
    "     'y': (lat+buffer, lat-buffer)}\n",
    "query.update(q)\n",
    "        \n",
    "#get output crs    \n",
    "output_crs = mostcommon_crs(dc=dc, product=products, query=query)\n",
    "\n",
    "#load geomedian data and mask no-data values\n",
    "data = dc.load(product='ga_ls8c_gm_2_annual', **query)\n",
    "data = data.where(data!=0, np.nan)\n",
    "\n",
    "#calcuate band indices\n",
    "if band_indices is not None:\n",
    "    data = calculate_indices(data,\n",
    "                             band_indices, \n",
    "                             drop=drop,\n",
    "                             collection='c2')\n"
   ]
  },
  {
   "cell_type": "code",
   "execution_count": null,
   "metadata": {},
   "outputs": [],
   "source": [
    "# Predict landcover using the trained model\n",
    "predicted = predict_xr(model, data, progress=True)"
   ]
  },
  {
   "cell_type": "markdown",
   "metadata": {},
   "source": [
    "## Plotting "
   ]
  },
  {
   "cell_type": "markdown",
   "metadata": {},
   "source": [
    "To qualitatively evaluate how well the classification performed, we can plot the classifed/predicted data next to our input satellite imagery.\n",
    "\n",
    "> **Note:** The output below is unlikely to be optimal the first time the classification is run.\n",
    "The model training process is one of experimentation and assumption checking that occurs in an iterative cycle - Use the `Evaluate Classifier` steps below to help you improve the model"
   ]
  },
  {
   "cell_type": "code",
   "execution_count": null,
   "metadata": {},
   "outputs": [],
   "source": [
    "# Set up plot\n",
    "fig, axes = plt.subplots(1, 2, figsize=(14, 7))\n",
    "\n",
    "# Plot classified image\n",
    "predicted.plot(ax=axes[0], \n",
    "               cmap='Blues', \n",
    "               add_labels=False, \n",
    "               add_colorbar=False)\n",
    "\n",
    "# Plot true colour image\n",
    "rgb(data, ax=axes[1], percentile_stretch=(0.01, 0.99))\n",
    "\n",
    "# Remove axis on right plot\n",
    "axes[1].get_yaxis().set_visible(False)\n",
    "\n",
    "# Add plot titles\n",
    "axes[0].set_title('Classified Image')\n",
    "axes[1].set_title('True Colour Image');"
   ]
  },
  {
   "cell_type": "markdown",
   "metadata": {},
   "source": [
    "We can evaluate the classifier if there is any need later."
   ]
  },
  {
   "cell_type": "markdown",
   "metadata": {},
   "source": [
    "## Validation Data Sampling "
   ]
  },
  {
   "cell_type": "code",
   "execution_count": 4,
   "metadata": {},
   "outputs": [],
   "source": [
    "JRC = '../Supplementary_data/Validation/GSWE_CentralAEZ-0000065536-0000065536.tif'\n",
    "#Samples = ''"
   ]
  },
  {
   "cell_type": "code",
   "execution_count": 7,
   "metadata": {},
   "outputs": [
    {
     "data": {
      "text/html": [
       "<div><svg style=\"position: absolute; width: 0; height: 0; overflow: hidden\">\n",
       "<defs>\n",
       "<symbol id=\"icon-database\" viewBox=\"0 0 32 32\">\n",
       "<title>Show/Hide data repr</title>\n",
       "<path d=\"M16 0c-8.837 0-16 2.239-16 5v4c0 2.761 7.163 5 16 5s16-2.239 16-5v-4c0-2.761-7.163-5-16-5z\"></path>\n",
       "<path d=\"M16 17c-8.837 0-16-2.239-16-5v6c0 2.761 7.163 5 16 5s16-2.239 16-5v-6c0 2.761-7.163 5-16 5z\"></path>\n",
       "<path d=\"M16 26c-8.837 0-16-2.239-16-5v6c0 2.761 7.163 5 16 5s16-2.239 16-5v-6c0 2.761-7.163 5-16 5z\"></path>\n",
       "</symbol>\n",
       "<symbol id=\"icon-file-text2\" viewBox=\"0 0 32 32\">\n",
       "<title>Show/Hide attributes</title>\n",
       "<path d=\"M28.681 7.159c-0.694-0.947-1.662-2.053-2.724-3.116s-2.169-2.030-3.116-2.724c-1.612-1.182-2.393-1.319-2.841-1.319h-15.5c-1.378 0-2.5 1.121-2.5 2.5v27c0 1.378 1.122 2.5 2.5 2.5h23c1.378 0 2.5-1.122 2.5-2.5v-19.5c0-0.448-0.137-1.23-1.319-2.841zM24.543 5.457c0.959 0.959 1.712 1.825 2.268 2.543h-4.811v-4.811c0.718 0.556 1.584 1.309 2.543 2.268zM28 29.5c0 0.271-0.229 0.5-0.5 0.5h-23c-0.271 0-0.5-0.229-0.5-0.5v-27c0-0.271 0.229-0.5 0.5-0.5 0 0 15.499-0 15.5 0v7c0 0.552 0.448 1 1 1h7v19.5z\"></path>\n",
       "<path d=\"M23 26h-14c-0.552 0-1-0.448-1-1s0.448-1 1-1h14c0.552 0 1 0.448 1 1s-0.448 1-1 1z\"></path>\n",
       "<path d=\"M23 22h-14c-0.552 0-1-0.448-1-1s0.448-1 1-1h14c0.552 0 1 0.448 1 1s-0.448 1-1 1z\"></path>\n",
       "<path d=\"M23 18h-14c-0.552 0-1-0.448-1-1s0.448-1 1-1h14c0.552 0 1 0.448 1 1s-0.448 1-1 1z\"></path>\n",
       "</symbol>\n",
       "</defs>\n",
       "</svg>\n",
       "<style>/* CSS stylesheet for displaying xarray objects in jupyterlab.\n",
       " *\n",
       " */\n",
       "\n",
       ":root {\n",
       "  --xr-font-color0: var(--jp-content-font-color0, rgba(0, 0, 0, 1));\n",
       "  --xr-font-color2: var(--jp-content-font-color2, rgba(0, 0, 0, 0.54));\n",
       "  --xr-font-color3: var(--jp-content-font-color3, rgba(0, 0, 0, 0.38));\n",
       "  --xr-border-color: var(--jp-border-color2, #e0e0e0);\n",
       "  --xr-disabled-color: var(--jp-layout-color3, #bdbdbd);\n",
       "  --xr-background-color: var(--jp-layout-color0, white);\n",
       "  --xr-background-color-row-even: var(--jp-layout-color1, white);\n",
       "  --xr-background-color-row-odd: var(--jp-layout-color2, #eeeeee);\n",
       "}\n",
       "\n",
       ".xr-wrap {\n",
       "  min-width: 300px;\n",
       "  max-width: 700px;\n",
       "}\n",
       "\n",
       ".xr-header {\n",
       "  padding-top: 6px;\n",
       "  padding-bottom: 6px;\n",
       "  margin-bottom: 4px;\n",
       "  border-bottom: solid 1px var(--xr-border-color);\n",
       "}\n",
       "\n",
       ".xr-header > div,\n",
       ".xr-header > ul {\n",
       "  display: inline;\n",
       "  margin-top: 0;\n",
       "  margin-bottom: 0;\n",
       "}\n",
       "\n",
       ".xr-obj-type,\n",
       ".xr-array-name {\n",
       "  margin-left: 2px;\n",
       "  margin-right: 10px;\n",
       "}\n",
       "\n",
       ".xr-obj-type {\n",
       "  color: var(--xr-font-color2);\n",
       "}\n",
       "\n",
       ".xr-sections {\n",
       "  padding-left: 0 !important;\n",
       "  display: grid;\n",
       "  grid-template-columns: 150px auto auto 1fr 20px 20px;\n",
       "}\n",
       "\n",
       ".xr-section-item {\n",
       "  display: contents;\n",
       "}\n",
       "\n",
       ".xr-section-item input {\n",
       "  display: none;\n",
       "}\n",
       "\n",
       ".xr-section-item input + label {\n",
       "  color: var(--xr-disabled-color);\n",
       "}\n",
       "\n",
       ".xr-section-item input:enabled + label {\n",
       "  cursor: pointer;\n",
       "  color: var(--xr-font-color2);\n",
       "}\n",
       "\n",
       ".xr-section-item input:enabled + label:hover {\n",
       "  color: var(--xr-font-color0);\n",
       "}\n",
       "\n",
       ".xr-section-summary {\n",
       "  grid-column: 1;\n",
       "  color: var(--xr-font-color2);\n",
       "  font-weight: 500;\n",
       "}\n",
       "\n",
       ".xr-section-summary > span {\n",
       "  display: inline-block;\n",
       "  padding-left: 0.5em;\n",
       "}\n",
       "\n",
       ".xr-section-summary-in:disabled + label {\n",
       "  color: var(--xr-font-color2);\n",
       "}\n",
       "\n",
       ".xr-section-summary-in + label:before {\n",
       "  display: inline-block;\n",
       "  content: '►';\n",
       "  font-size: 11px;\n",
       "  width: 15px;\n",
       "  text-align: center;\n",
       "}\n",
       "\n",
       ".xr-section-summary-in:disabled + label:before {\n",
       "  color: var(--xr-disabled-color);\n",
       "}\n",
       "\n",
       ".xr-section-summary-in:checked + label:before {\n",
       "  content: '▼';\n",
       "}\n",
       "\n",
       ".xr-section-summary-in:checked + label > span {\n",
       "  display: none;\n",
       "}\n",
       "\n",
       ".xr-section-summary,\n",
       ".xr-section-inline-details {\n",
       "  padding-top: 4px;\n",
       "  padding-bottom: 4px;\n",
       "}\n",
       "\n",
       ".xr-section-inline-details {\n",
       "  grid-column: 2 / -1;\n",
       "}\n",
       "\n",
       ".xr-section-details {\n",
       "  display: none;\n",
       "  grid-column: 1 / -1;\n",
       "  margin-bottom: 5px;\n",
       "}\n",
       "\n",
       ".xr-section-summary-in:checked ~ .xr-section-details {\n",
       "  display: contents;\n",
       "}\n",
       "\n",
       ".xr-array-wrap {\n",
       "  grid-column: 1 / -1;\n",
       "  display: grid;\n",
       "  grid-template-columns: 20px auto;\n",
       "}\n",
       "\n",
       ".xr-array-wrap > label {\n",
       "  grid-column: 1;\n",
       "  vertical-align: top;\n",
       "}\n",
       "\n",
       ".xr-preview {\n",
       "  color: var(--xr-font-color3);\n",
       "}\n",
       "\n",
       ".xr-array-preview,\n",
       ".xr-array-data {\n",
       "  padding: 0 5px !important;\n",
       "  grid-column: 2;\n",
       "}\n",
       "\n",
       ".xr-array-data,\n",
       ".xr-array-in:checked ~ .xr-array-preview {\n",
       "  display: none;\n",
       "}\n",
       "\n",
       ".xr-array-in:checked ~ .xr-array-data,\n",
       ".xr-array-preview {\n",
       "  display: inline-block;\n",
       "}\n",
       "\n",
       ".xr-dim-list {\n",
       "  display: inline-block !important;\n",
       "  list-style: none;\n",
       "  padding: 0 !important;\n",
       "  margin: 0;\n",
       "}\n",
       "\n",
       ".xr-dim-list li {\n",
       "  display: inline-block;\n",
       "  padding: 0;\n",
       "  margin: 0;\n",
       "}\n",
       "\n",
       ".xr-dim-list:before {\n",
       "  content: '(';\n",
       "}\n",
       "\n",
       ".xr-dim-list:after {\n",
       "  content: ')';\n",
       "}\n",
       "\n",
       ".xr-dim-list li:not(:last-child):after {\n",
       "  content: ',';\n",
       "  padding-right: 5px;\n",
       "}\n",
       "\n",
       ".xr-has-index {\n",
       "  font-weight: bold;\n",
       "}\n",
       "\n",
       ".xr-var-list,\n",
       ".xr-var-item {\n",
       "  display: contents;\n",
       "}\n",
       "\n",
       ".xr-var-item > div,\n",
       ".xr-var-item label,\n",
       ".xr-var-item > .xr-var-name span {\n",
       "  background-color: var(--xr-background-color-row-even);\n",
       "  margin-bottom: 0;\n",
       "}\n",
       "\n",
       ".xr-var-item > .xr-var-name:hover span {\n",
       "  padding-right: 5px;\n",
       "}\n",
       "\n",
       ".xr-var-list > li:nth-child(odd) > div,\n",
       ".xr-var-list > li:nth-child(odd) > label,\n",
       ".xr-var-list > li:nth-child(odd) > .xr-var-name span {\n",
       "  background-color: var(--xr-background-color-row-odd);\n",
       "}\n",
       "\n",
       ".xr-var-name {\n",
       "  grid-column: 1;\n",
       "}\n",
       "\n",
       ".xr-var-dims {\n",
       "  grid-column: 2;\n",
       "}\n",
       "\n",
       ".xr-var-dtype {\n",
       "  grid-column: 3;\n",
       "  text-align: right;\n",
       "  color: var(--xr-font-color2);\n",
       "}\n",
       "\n",
       ".xr-var-preview {\n",
       "  grid-column: 4;\n",
       "}\n",
       "\n",
       ".xr-var-name,\n",
       ".xr-var-dims,\n",
       ".xr-var-dtype,\n",
       ".xr-preview,\n",
       ".xr-attrs dt {\n",
       "  white-space: nowrap;\n",
       "  overflow: hidden;\n",
       "  text-overflow: ellipsis;\n",
       "  padding-right: 10px;\n",
       "}\n",
       "\n",
       ".xr-var-name:hover,\n",
       ".xr-var-dims:hover,\n",
       ".xr-var-dtype:hover,\n",
       ".xr-attrs dt:hover {\n",
       "  overflow: visible;\n",
       "  width: auto;\n",
       "  z-index: 1;\n",
       "}\n",
       "\n",
       ".xr-var-attrs,\n",
       ".xr-var-data {\n",
       "  display: none;\n",
       "  background-color: var(--xr-background-color) !important;\n",
       "  padding-bottom: 5px !important;\n",
       "}\n",
       "\n",
       ".xr-var-attrs-in:checked ~ .xr-var-attrs,\n",
       ".xr-var-data-in:checked ~ .xr-var-data {\n",
       "  display: block;\n",
       "}\n",
       "\n",
       ".xr-var-data > table {\n",
       "  float: right;\n",
       "}\n",
       "\n",
       ".xr-var-name span,\n",
       ".xr-var-data,\n",
       ".xr-attrs {\n",
       "  padding-left: 25px !important;\n",
       "}\n",
       "\n",
       ".xr-attrs,\n",
       ".xr-var-attrs,\n",
       ".xr-var-data {\n",
       "  grid-column: 1 / -1;\n",
       "}\n",
       "\n",
       "dl.xr-attrs {\n",
       "  padding: 0;\n",
       "  margin: 0;\n",
       "  display: grid;\n",
       "  grid-template-columns: 125px auto;\n",
       "}\n",
       "\n",
       ".xr-attrs dt, dd {\n",
       "  padding: 0;\n",
       "  margin: 0;\n",
       "  float: left;\n",
       "  padding-right: 10px;\n",
       "  width: auto;\n",
       "}\n",
       "\n",
       ".xr-attrs dt {\n",
       "  font-weight: normal;\n",
       "  grid-column: 1;\n",
       "}\n",
       "\n",
       ".xr-attrs dt:hover span {\n",
       "  display: inline-block;\n",
       "  background: var(--xr-background-color);\n",
       "  padding-right: 10px;\n",
       "}\n",
       "\n",
       ".xr-attrs dd {\n",
       "  grid-column: 2;\n",
       "  white-space: pre-wrap;\n",
       "  word-break: break-all;\n",
       "}\n",
       "\n",
       ".xr-icon-database,\n",
       ".xr-icon-file-text2 {\n",
       "  display: inline-block;\n",
       "  vertical-align: middle;\n",
       "  width: 1em;\n",
       "  height: 1.5em !important;\n",
       "  stroke-width: 0;\n",
       "  stroke: currentColor;\n",
       "  fill: currentColor;\n",
       "}\n",
       "</style><div class='xr-wrap'><div class='xr-header'><div class='xr-obj-type'>xarray.DataArray</div><div class='xr-array-name'></div><ul class='xr-dim-list'><li><span class='xr-has-index'>band</span>: 1</li><li><span class='xr-has-index'>y</span>: 64396</li><li><span class='xr-has-index'>x</span>: 49869</li></ul></div><ul class='xr-sections'><li class='xr-section-item'><div class='xr-array-wrap'><input id='section-3039bba9-be0b-45d4-9c9d-ca81feeb0c56' class='xr-array-in' type='checkbox' ><label for='section-3039bba9-be0b-45d4-9c9d-ca81feeb0c56' title='Show/hide data repr'><svg class='icon xr-icon-database'><use xlink:href='#icon-database'></use></svg></label><div class='xr-array-preview xr-preview'><span>dask.array&lt;chunksize=(1, 1000, 1000), meta=np.ndarray&gt;</span></div><pre class='xr-array-data'><table>\n",
       "<tr>\n",
       "<td>\n",
       "<table>\n",
       "  <thead>\n",
       "    <tr><td> </td><th> Array </th><th> Chunk </th></tr>\n",
       "  </thead>\n",
       "  <tbody>\n",
       "    <tr><th> Bytes </th><td> 3.21 GB </td> <td> 1000.00 kB </td></tr>\n",
       "    <tr><th> Shape </th><td> (1, 64396, 49869) </td> <td> (1, 1000, 1000) </td></tr>\n",
       "    <tr><th> Count </th><td> 3251 Tasks </td><td> 3250 Chunks </td></tr>\n",
       "    <tr><th> Type </th><td> uint8 </td><td> numpy.ndarray </td></tr>\n",
       "  </tbody>\n",
       "</table>\n",
       "</td>\n",
       "<td>\n",
       "<svg width=\"167\" height=\"184\" style=\"stroke:rgb(0,0,0);stroke-width:1\" >\n",
       "\n",
       "  <!-- Horizontal lines -->\n",
       "  <line x1=\"10\" y1=\"0\" x2=\"24\" y2=\"14\" style=\"stroke-width:2\" />\n",
       "  <line x1=\"10\" y1=\"1\" x2=\"24\" y2=\"16\" />\n",
       "  <line x1=\"10\" y1=\"3\" x2=\"24\" y2=\"18\" />\n",
       "  <line x1=\"10\" y1=\"5\" x2=\"24\" y2=\"20\" />\n",
       "  <line x1=\"10\" y1=\"7\" x2=\"24\" y2=\"22\" />\n",
       "  <line x1=\"10\" y1=\"9\" x2=\"24\" y2=\"24\" />\n",
       "  <line x1=\"10\" y1=\"11\" x2=\"24\" y2=\"26\" />\n",
       "  <line x1=\"10\" y1=\"13\" x2=\"24\" y2=\"27\" />\n",
       "  <line x1=\"10\" y1=\"14\" x2=\"24\" y2=\"29\" />\n",
       "  <line x1=\"10\" y1=\"16\" x2=\"24\" y2=\"31\" />\n",
       "  <line x1=\"10\" y1=\"18\" x2=\"24\" y2=\"33\" />\n",
       "  <line x1=\"10\" y1=\"20\" x2=\"24\" y2=\"35\" />\n",
       "  <line x1=\"10\" y1=\"22\" x2=\"24\" y2=\"37\" />\n",
       "  <line x1=\"10\" y1=\"24\" x2=\"24\" y2=\"39\" />\n",
       "  <line x1=\"10\" y1=\"26\" x2=\"24\" y2=\"41\" />\n",
       "  <line x1=\"10\" y1=\"27\" x2=\"24\" y2=\"42\" />\n",
       "  <line x1=\"10\" y1=\"29\" x2=\"24\" y2=\"44\" />\n",
       "  <line x1=\"10\" y1=\"31\" x2=\"24\" y2=\"46\" />\n",
       "  <line x1=\"10\" y1=\"33\" x2=\"24\" y2=\"48\" />\n",
       "  <line x1=\"10\" y1=\"35\" x2=\"24\" y2=\"50\" />\n",
       "  <line x1=\"10\" y1=\"37\" x2=\"24\" y2=\"52\" />\n",
       "  <line x1=\"10\" y1=\"39\" x2=\"24\" y2=\"54\" />\n",
       "  <line x1=\"10\" y1=\"40\" x2=\"24\" y2=\"55\" />\n",
       "  <line x1=\"10\" y1=\"42\" x2=\"24\" y2=\"57\" />\n",
       "  <line x1=\"10\" y1=\"44\" x2=\"24\" y2=\"59\" />\n",
       "  <line x1=\"10\" y1=\"46\" x2=\"24\" y2=\"61\" />\n",
       "  <line x1=\"10\" y1=\"48\" x2=\"24\" y2=\"63\" />\n",
       "  <line x1=\"10\" y1=\"50\" x2=\"24\" y2=\"65\" />\n",
       "  <line x1=\"10\" y1=\"52\" x2=\"24\" y2=\"67\" />\n",
       "  <line x1=\"10\" y1=\"54\" x2=\"24\" y2=\"68\" />\n",
       "  <line x1=\"10\" y1=\"55\" x2=\"24\" y2=\"70\" />\n",
       "  <line x1=\"10\" y1=\"57\" x2=\"24\" y2=\"72\" />\n",
       "  <line x1=\"10\" y1=\"59\" x2=\"24\" y2=\"74\" />\n",
       "  <line x1=\"10\" y1=\"61\" x2=\"24\" y2=\"76\" />\n",
       "  <line x1=\"10\" y1=\"63\" x2=\"24\" y2=\"78\" />\n",
       "  <line x1=\"10\" y1=\"65\" x2=\"24\" y2=\"80\" />\n",
       "  <line x1=\"10\" y1=\"67\" x2=\"24\" y2=\"82\" />\n",
       "  <line x1=\"10\" y1=\"68\" x2=\"24\" y2=\"83\" />\n",
       "  <line x1=\"10\" y1=\"70\" x2=\"24\" y2=\"85\" />\n",
       "  <line x1=\"10\" y1=\"72\" x2=\"24\" y2=\"87\" />\n",
       "  <line x1=\"10\" y1=\"74\" x2=\"24\" y2=\"89\" />\n",
       "  <line x1=\"10\" y1=\"76\" x2=\"24\" y2=\"91\" />\n",
       "  <line x1=\"10\" y1=\"78\" x2=\"24\" y2=\"93\" />\n",
       "  <line x1=\"10\" y1=\"80\" x2=\"24\" y2=\"95\" />\n",
       "  <line x1=\"10\" y1=\"81\" x2=\"24\" y2=\"96\" />\n",
       "  <line x1=\"10\" y1=\"83\" x2=\"24\" y2=\"98\" />\n",
       "  <line x1=\"10\" y1=\"85\" x2=\"24\" y2=\"100\" />\n",
       "  <line x1=\"10\" y1=\"87\" x2=\"24\" y2=\"102\" />\n",
       "  <line x1=\"10\" y1=\"89\" x2=\"24\" y2=\"104\" />\n",
       "  <line x1=\"10\" y1=\"91\" x2=\"24\" y2=\"106\" />\n",
       "  <line x1=\"10\" y1=\"93\" x2=\"24\" y2=\"108\" />\n",
       "  <line x1=\"10\" y1=\"95\" x2=\"24\" y2=\"109\" />\n",
       "  <line x1=\"10\" y1=\"96\" x2=\"24\" y2=\"111\" />\n",
       "  <line x1=\"10\" y1=\"98\" x2=\"24\" y2=\"113\" />\n",
       "  <line x1=\"10\" y1=\"100\" x2=\"24\" y2=\"115\" />\n",
       "  <line x1=\"10\" y1=\"102\" x2=\"24\" y2=\"117\" />\n",
       "  <line x1=\"10\" y1=\"104\" x2=\"24\" y2=\"119\" />\n",
       "  <line x1=\"10\" y1=\"106\" x2=\"24\" y2=\"121\" />\n",
       "  <line x1=\"10\" y1=\"108\" x2=\"24\" y2=\"123\" />\n",
       "  <line x1=\"10\" y1=\"109\" x2=\"24\" y2=\"124\" />\n",
       "  <line x1=\"10\" y1=\"111\" x2=\"24\" y2=\"126\" />\n",
       "  <line x1=\"10\" y1=\"113\" x2=\"24\" y2=\"128\" />\n",
       "  <line x1=\"10\" y1=\"115\" x2=\"24\" y2=\"130\" />\n",
       "  <line x1=\"10\" y1=\"117\" x2=\"24\" y2=\"132\" />\n",
       "  <line x1=\"10\" y1=\"119\" x2=\"24\" y2=\"134\" />\n",
       "  <line x1=\"10\" y1=\"120\" x2=\"24\" y2=\"134\" style=\"stroke-width:2\" />\n",
       "\n",
       "  <!-- Vertical lines -->\n",
       "  <line x1=\"10\" y1=\"0\" x2=\"10\" y2=\"120\" style=\"stroke-width:2\" />\n",
       "  <line x1=\"24\" y1=\"14\" x2=\"24\" y2=\"134\" style=\"stroke-width:2\" />\n",
       "\n",
       "  <!-- Colored Rectangle -->\n",
       "  <polygon points=\"10.000000,0.000000 24.948598,14.948598 24.948598,134.948598 10.000000,120.000000\" style=\"fill:#ECB172A0;stroke-width:0\"/>\n",
       "\n",
       "  <!-- Horizontal lines -->\n",
       "  <line x1=\"10\" y1=\"0\" x2=\"102\" y2=\"0\" style=\"stroke-width:2\" />\n",
       "  <line x1=\"24\" y1=\"14\" x2=\"117\" y2=\"14\" style=\"stroke-width:2\" />\n",
       "\n",
       "  <!-- Vertical lines -->\n",
       "  <line x1=\"10\" y1=\"0\" x2=\"24\" y2=\"14\" style=\"stroke-width:2\" />\n",
       "  <line x1=\"11\" y1=\"0\" x2=\"26\" y2=\"14\" />\n",
       "  <line x1=\"13\" y1=\"0\" x2=\"28\" y2=\"14\" />\n",
       "  <line x1=\"15\" y1=\"0\" x2=\"30\" y2=\"14\" />\n",
       "  <line x1=\"17\" y1=\"0\" x2=\"32\" y2=\"14\" />\n",
       "  <line x1=\"19\" y1=\"0\" x2=\"34\" y2=\"14\" />\n",
       "  <line x1=\"21\" y1=\"0\" x2=\"36\" y2=\"14\" />\n",
       "  <line x1=\"23\" y1=\"0\" x2=\"37\" y2=\"14\" />\n",
       "  <line x1=\"24\" y1=\"0\" x2=\"39\" y2=\"14\" />\n",
       "  <line x1=\"26\" y1=\"0\" x2=\"41\" y2=\"14\" />\n",
       "  <line x1=\"28\" y1=\"0\" x2=\"43\" y2=\"14\" />\n",
       "  <line x1=\"30\" y1=\"0\" x2=\"45\" y2=\"14\" />\n",
       "  <line x1=\"32\" y1=\"0\" x2=\"47\" y2=\"14\" />\n",
       "  <line x1=\"34\" y1=\"0\" x2=\"49\" y2=\"14\" />\n",
       "  <line x1=\"36\" y1=\"0\" x2=\"51\" y2=\"14\" />\n",
       "  <line x1=\"37\" y1=\"0\" x2=\"52\" y2=\"14\" />\n",
       "  <line x1=\"39\" y1=\"0\" x2=\"54\" y2=\"14\" />\n",
       "  <line x1=\"41\" y1=\"0\" x2=\"56\" y2=\"14\" />\n",
       "  <line x1=\"43\" y1=\"0\" x2=\"58\" y2=\"14\" />\n",
       "  <line x1=\"45\" y1=\"0\" x2=\"60\" y2=\"14\" />\n",
       "  <line x1=\"47\" y1=\"0\" x2=\"62\" y2=\"14\" />\n",
       "  <line x1=\"49\" y1=\"0\" x2=\"64\" y2=\"14\" />\n",
       "  <line x1=\"50\" y1=\"0\" x2=\"65\" y2=\"14\" />\n",
       "  <line x1=\"52\" y1=\"0\" x2=\"67\" y2=\"14\" />\n",
       "  <line x1=\"54\" y1=\"0\" x2=\"69\" y2=\"14\" />\n",
       "  <line x1=\"56\" y1=\"0\" x2=\"71\" y2=\"14\" />\n",
       "  <line x1=\"58\" y1=\"0\" x2=\"73\" y2=\"14\" />\n",
       "  <line x1=\"60\" y1=\"0\" x2=\"75\" y2=\"14\" />\n",
       "  <line x1=\"62\" y1=\"0\" x2=\"77\" y2=\"14\" />\n",
       "  <line x1=\"64\" y1=\"0\" x2=\"78\" y2=\"14\" />\n",
       "  <line x1=\"65\" y1=\"0\" x2=\"80\" y2=\"14\" />\n",
       "  <line x1=\"67\" y1=\"0\" x2=\"82\" y2=\"14\" />\n",
       "  <line x1=\"69\" y1=\"0\" x2=\"84\" y2=\"14\" />\n",
       "  <line x1=\"71\" y1=\"0\" x2=\"86\" y2=\"14\" />\n",
       "  <line x1=\"73\" y1=\"0\" x2=\"88\" y2=\"14\" />\n",
       "  <line x1=\"75\" y1=\"0\" x2=\"90\" y2=\"14\" />\n",
       "  <line x1=\"77\" y1=\"0\" x2=\"92\" y2=\"14\" />\n",
       "  <line x1=\"78\" y1=\"0\" x2=\"93\" y2=\"14\" />\n",
       "  <line x1=\"80\" y1=\"0\" x2=\"95\" y2=\"14\" />\n",
       "  <line x1=\"82\" y1=\"0\" x2=\"97\" y2=\"14\" />\n",
       "  <line x1=\"84\" y1=\"0\" x2=\"99\" y2=\"14\" />\n",
       "  <line x1=\"86\" y1=\"0\" x2=\"101\" y2=\"14\" />\n",
       "  <line x1=\"88\" y1=\"0\" x2=\"103\" y2=\"14\" />\n",
       "  <line x1=\"90\" y1=\"0\" x2=\"105\" y2=\"14\" />\n",
       "  <line x1=\"91\" y1=\"0\" x2=\"106\" y2=\"14\" />\n",
       "  <line x1=\"93\" y1=\"0\" x2=\"108\" y2=\"14\" />\n",
       "  <line x1=\"95\" y1=\"0\" x2=\"110\" y2=\"14\" />\n",
       "  <line x1=\"97\" y1=\"0\" x2=\"112\" y2=\"14\" />\n",
       "  <line x1=\"99\" y1=\"0\" x2=\"114\" y2=\"14\" />\n",
       "  <line x1=\"101\" y1=\"0\" x2=\"116\" y2=\"14\" />\n",
       "  <line x1=\"102\" y1=\"0\" x2=\"117\" y2=\"14\" style=\"stroke-width:2\" />\n",
       "\n",
       "  <!-- Colored Rectangle -->\n",
       "  <polygon points=\"10.000000,0.000000 102.929374,0.000000 117.877972,14.948598 24.948598,14.948598\" style=\"fill:#ECB172A0;stroke-width:0\"/>\n",
       "\n",
       "  <!-- Horizontal lines -->\n",
       "  <line x1=\"24\" y1=\"14\" x2=\"117\" y2=\"14\" style=\"stroke-width:2\" />\n",
       "  <line x1=\"24\" y1=\"16\" x2=\"117\" y2=\"16\" />\n",
       "  <line x1=\"24\" y1=\"18\" x2=\"117\" y2=\"18\" />\n",
       "  <line x1=\"24\" y1=\"20\" x2=\"117\" y2=\"20\" />\n",
       "  <line x1=\"24\" y1=\"22\" x2=\"117\" y2=\"22\" />\n",
       "  <line x1=\"24\" y1=\"24\" x2=\"117\" y2=\"24\" />\n",
       "  <line x1=\"24\" y1=\"26\" x2=\"117\" y2=\"26\" />\n",
       "  <line x1=\"24\" y1=\"27\" x2=\"117\" y2=\"27\" />\n",
       "  <line x1=\"24\" y1=\"29\" x2=\"117\" y2=\"29\" />\n",
       "  <line x1=\"24\" y1=\"31\" x2=\"117\" y2=\"31\" />\n",
       "  <line x1=\"24\" y1=\"33\" x2=\"117\" y2=\"33\" />\n",
       "  <line x1=\"24\" y1=\"35\" x2=\"117\" y2=\"35\" />\n",
       "  <line x1=\"24\" y1=\"37\" x2=\"117\" y2=\"37\" />\n",
       "  <line x1=\"24\" y1=\"39\" x2=\"117\" y2=\"39\" />\n",
       "  <line x1=\"24\" y1=\"41\" x2=\"117\" y2=\"41\" />\n",
       "  <line x1=\"24\" y1=\"42\" x2=\"117\" y2=\"42\" />\n",
       "  <line x1=\"24\" y1=\"44\" x2=\"117\" y2=\"44\" />\n",
       "  <line x1=\"24\" y1=\"46\" x2=\"117\" y2=\"46\" />\n",
       "  <line x1=\"24\" y1=\"48\" x2=\"117\" y2=\"48\" />\n",
       "  <line x1=\"24\" y1=\"50\" x2=\"117\" y2=\"50\" />\n",
       "  <line x1=\"24\" y1=\"52\" x2=\"117\" y2=\"52\" />\n",
       "  <line x1=\"24\" y1=\"54\" x2=\"117\" y2=\"54\" />\n",
       "  <line x1=\"24\" y1=\"55\" x2=\"117\" y2=\"55\" />\n",
       "  <line x1=\"24\" y1=\"57\" x2=\"117\" y2=\"57\" />\n",
       "  <line x1=\"24\" y1=\"59\" x2=\"117\" y2=\"59\" />\n",
       "  <line x1=\"24\" y1=\"61\" x2=\"117\" y2=\"61\" />\n",
       "  <line x1=\"24\" y1=\"63\" x2=\"117\" y2=\"63\" />\n",
       "  <line x1=\"24\" y1=\"65\" x2=\"117\" y2=\"65\" />\n",
       "  <line x1=\"24\" y1=\"67\" x2=\"117\" y2=\"67\" />\n",
       "  <line x1=\"24\" y1=\"68\" x2=\"117\" y2=\"68\" />\n",
       "  <line x1=\"24\" y1=\"70\" x2=\"117\" y2=\"70\" />\n",
       "  <line x1=\"24\" y1=\"72\" x2=\"117\" y2=\"72\" />\n",
       "  <line x1=\"24\" y1=\"74\" x2=\"117\" y2=\"74\" />\n",
       "  <line x1=\"24\" y1=\"76\" x2=\"117\" y2=\"76\" />\n",
       "  <line x1=\"24\" y1=\"78\" x2=\"117\" y2=\"78\" />\n",
       "  <line x1=\"24\" y1=\"80\" x2=\"117\" y2=\"80\" />\n",
       "  <line x1=\"24\" y1=\"82\" x2=\"117\" y2=\"82\" />\n",
       "  <line x1=\"24\" y1=\"83\" x2=\"117\" y2=\"83\" />\n",
       "  <line x1=\"24\" y1=\"85\" x2=\"117\" y2=\"85\" />\n",
       "  <line x1=\"24\" y1=\"87\" x2=\"117\" y2=\"87\" />\n",
       "  <line x1=\"24\" y1=\"89\" x2=\"117\" y2=\"89\" />\n",
       "  <line x1=\"24\" y1=\"91\" x2=\"117\" y2=\"91\" />\n",
       "  <line x1=\"24\" y1=\"93\" x2=\"117\" y2=\"93\" />\n",
       "  <line x1=\"24\" y1=\"95\" x2=\"117\" y2=\"95\" />\n",
       "  <line x1=\"24\" y1=\"96\" x2=\"117\" y2=\"96\" />\n",
       "  <line x1=\"24\" y1=\"98\" x2=\"117\" y2=\"98\" />\n",
       "  <line x1=\"24\" y1=\"100\" x2=\"117\" y2=\"100\" />\n",
       "  <line x1=\"24\" y1=\"102\" x2=\"117\" y2=\"102\" />\n",
       "  <line x1=\"24\" y1=\"104\" x2=\"117\" y2=\"104\" />\n",
       "  <line x1=\"24\" y1=\"106\" x2=\"117\" y2=\"106\" />\n",
       "  <line x1=\"24\" y1=\"108\" x2=\"117\" y2=\"108\" />\n",
       "  <line x1=\"24\" y1=\"109\" x2=\"117\" y2=\"109\" />\n",
       "  <line x1=\"24\" y1=\"111\" x2=\"117\" y2=\"111\" />\n",
       "  <line x1=\"24\" y1=\"113\" x2=\"117\" y2=\"113\" />\n",
       "  <line x1=\"24\" y1=\"115\" x2=\"117\" y2=\"115\" />\n",
       "  <line x1=\"24\" y1=\"117\" x2=\"117\" y2=\"117\" />\n",
       "  <line x1=\"24\" y1=\"119\" x2=\"117\" y2=\"119\" />\n",
       "  <line x1=\"24\" y1=\"121\" x2=\"117\" y2=\"121\" />\n",
       "  <line x1=\"24\" y1=\"123\" x2=\"117\" y2=\"123\" />\n",
       "  <line x1=\"24\" y1=\"124\" x2=\"117\" y2=\"124\" />\n",
       "  <line x1=\"24\" y1=\"126\" x2=\"117\" y2=\"126\" />\n",
       "  <line x1=\"24\" y1=\"128\" x2=\"117\" y2=\"128\" />\n",
       "  <line x1=\"24\" y1=\"130\" x2=\"117\" y2=\"130\" />\n",
       "  <line x1=\"24\" y1=\"132\" x2=\"117\" y2=\"132\" />\n",
       "  <line x1=\"24\" y1=\"134\" x2=\"117\" y2=\"134\" />\n",
       "  <line x1=\"24\" y1=\"134\" x2=\"117\" y2=\"134\" style=\"stroke-width:2\" />\n",
       "\n",
       "  <!-- Vertical lines -->\n",
       "  <line x1=\"24\" y1=\"14\" x2=\"24\" y2=\"134\" style=\"stroke-width:2\" />\n",
       "  <line x1=\"26\" y1=\"14\" x2=\"26\" y2=\"134\" />\n",
       "  <line x1=\"28\" y1=\"14\" x2=\"28\" y2=\"134\" />\n",
       "  <line x1=\"30\" y1=\"14\" x2=\"30\" y2=\"134\" />\n",
       "  <line x1=\"32\" y1=\"14\" x2=\"32\" y2=\"134\" />\n",
       "  <line x1=\"34\" y1=\"14\" x2=\"34\" y2=\"134\" />\n",
       "  <line x1=\"36\" y1=\"14\" x2=\"36\" y2=\"134\" />\n",
       "  <line x1=\"37\" y1=\"14\" x2=\"37\" y2=\"134\" />\n",
       "  <line x1=\"39\" y1=\"14\" x2=\"39\" y2=\"134\" />\n",
       "  <line x1=\"41\" y1=\"14\" x2=\"41\" y2=\"134\" />\n",
       "  <line x1=\"43\" y1=\"14\" x2=\"43\" y2=\"134\" />\n",
       "  <line x1=\"45\" y1=\"14\" x2=\"45\" y2=\"134\" />\n",
       "  <line x1=\"47\" y1=\"14\" x2=\"47\" y2=\"134\" />\n",
       "  <line x1=\"49\" y1=\"14\" x2=\"49\" y2=\"134\" />\n",
       "  <line x1=\"51\" y1=\"14\" x2=\"51\" y2=\"134\" />\n",
       "  <line x1=\"52\" y1=\"14\" x2=\"52\" y2=\"134\" />\n",
       "  <line x1=\"54\" y1=\"14\" x2=\"54\" y2=\"134\" />\n",
       "  <line x1=\"56\" y1=\"14\" x2=\"56\" y2=\"134\" />\n",
       "  <line x1=\"58\" y1=\"14\" x2=\"58\" y2=\"134\" />\n",
       "  <line x1=\"60\" y1=\"14\" x2=\"60\" y2=\"134\" />\n",
       "  <line x1=\"62\" y1=\"14\" x2=\"62\" y2=\"134\" />\n",
       "  <line x1=\"64\" y1=\"14\" x2=\"64\" y2=\"134\" />\n",
       "  <line x1=\"65\" y1=\"14\" x2=\"65\" y2=\"134\" />\n",
       "  <line x1=\"67\" y1=\"14\" x2=\"67\" y2=\"134\" />\n",
       "  <line x1=\"69\" y1=\"14\" x2=\"69\" y2=\"134\" />\n",
       "  <line x1=\"71\" y1=\"14\" x2=\"71\" y2=\"134\" />\n",
       "  <line x1=\"73\" y1=\"14\" x2=\"73\" y2=\"134\" />\n",
       "  <line x1=\"75\" y1=\"14\" x2=\"75\" y2=\"134\" />\n",
       "  <line x1=\"77\" y1=\"14\" x2=\"77\" y2=\"134\" />\n",
       "  <line x1=\"78\" y1=\"14\" x2=\"78\" y2=\"134\" />\n",
       "  <line x1=\"80\" y1=\"14\" x2=\"80\" y2=\"134\" />\n",
       "  <line x1=\"82\" y1=\"14\" x2=\"82\" y2=\"134\" />\n",
       "  <line x1=\"84\" y1=\"14\" x2=\"84\" y2=\"134\" />\n",
       "  <line x1=\"86\" y1=\"14\" x2=\"86\" y2=\"134\" />\n",
       "  <line x1=\"88\" y1=\"14\" x2=\"88\" y2=\"134\" />\n",
       "  <line x1=\"90\" y1=\"14\" x2=\"90\" y2=\"134\" />\n",
       "  <line x1=\"92\" y1=\"14\" x2=\"92\" y2=\"134\" />\n",
       "  <line x1=\"93\" y1=\"14\" x2=\"93\" y2=\"134\" />\n",
       "  <line x1=\"95\" y1=\"14\" x2=\"95\" y2=\"134\" />\n",
       "  <line x1=\"97\" y1=\"14\" x2=\"97\" y2=\"134\" />\n",
       "  <line x1=\"99\" y1=\"14\" x2=\"99\" y2=\"134\" />\n",
       "  <line x1=\"101\" y1=\"14\" x2=\"101\" y2=\"134\" />\n",
       "  <line x1=\"103\" y1=\"14\" x2=\"103\" y2=\"134\" />\n",
       "  <line x1=\"105\" y1=\"14\" x2=\"105\" y2=\"134\" />\n",
       "  <line x1=\"106\" y1=\"14\" x2=\"106\" y2=\"134\" />\n",
       "  <line x1=\"108\" y1=\"14\" x2=\"108\" y2=\"134\" />\n",
       "  <line x1=\"110\" y1=\"14\" x2=\"110\" y2=\"134\" />\n",
       "  <line x1=\"112\" y1=\"14\" x2=\"112\" y2=\"134\" />\n",
       "  <line x1=\"114\" y1=\"14\" x2=\"114\" y2=\"134\" />\n",
       "  <line x1=\"116\" y1=\"14\" x2=\"116\" y2=\"134\" />\n",
       "  <line x1=\"117\" y1=\"14\" x2=\"117\" y2=\"134\" style=\"stroke-width:2\" />\n",
       "\n",
       "  <!-- Colored Rectangle -->\n",
       "  <polygon points=\"24.948598,14.948598 117.877972,14.948598 117.877972,134.948598 24.948598,134.948598\" style=\"fill:#ECB172A0;stroke-width:0\"/>\n",
       "\n",
       "  <!-- Text -->\n",
       "  <text x=\"71.413285\" y=\"154.948598\" font-size=\"1.0rem\" font-weight=\"100\" text-anchor=\"middle\" >49869</text>\n",
       "  <text x=\"137.877972\" y=\"74.948598\" font-size=\"1.0rem\" font-weight=\"100\" text-anchor=\"middle\" transform=\"rotate(-90,137.877972,74.948598)\">64396</text>\n",
       "  <text x=\"7.474299\" y=\"147.474299\" font-size=\"1.0rem\" font-weight=\"100\" text-anchor=\"middle\" transform=\"rotate(45,7.474299,147.474299)\">1</text>\n",
       "</svg>\n",
       "</td>\n",
       "</tr>\n",
       "</table></pre></div></li><li class='xr-section-item'><input id='section-677224cd-c87a-4927-bd04-cf06290daf35' class='xr-section-summary-in' type='checkbox'  checked><label for='section-677224cd-c87a-4927-bd04-cf06290daf35' class='xr-section-summary' >Coordinates: <span>(3)</span></label><div class='xr-section-inline-details'></div><div class='xr-section-details'><ul class='xr-var-list'><li class='xr-var-item'><div class='xr-var-name'><span class='xr-has-index'>band</span></div><div class='xr-var-dims'>(band)</div><div class='xr-var-dtype'>int64</div><div class='xr-var-preview xr-preview'>1</div><input id='attrs-6ded74a9-bae3-4fbb-ac17-3db171786efc' class='xr-var-attrs-in' type='checkbox' disabled><label for='attrs-6ded74a9-bae3-4fbb-ac17-3db171786efc' title='Show/Hide attributes'><svg class='icon xr-icon-file-text2'><use xlink:href='#icon-file-text2'></use></svg></label><input id='data-ec5619ae-4a78-4c54-8283-bf98d5f339dc' class='xr-var-data-in' type='checkbox'><label for='data-ec5619ae-4a78-4c54-8283-bf98d5f339dc' title='Show/Hide data repr'><svg class='icon xr-icon-database'><use xlink:href='#icon-database'></use></svg></label><div class='xr-var-attrs'><dl class='xr-attrs'></dl></div><pre class='xr-var-data'>array([1])</pre></li><li class='xr-var-item'><div class='xr-var-name'><span class='xr-has-index'>y</span></div><div class='xr-var-dims'>(y)</div><div class='xr-var-dtype'>float64</div><div class='xr-var-preview xr-preview'>-2.119 -2.119 ... -19.47 -19.47</div><input id='attrs-6498010b-eb0d-433a-b877-36ba627e5c29' class='xr-var-attrs-in' type='checkbox' disabled><label for='attrs-6498010b-eb0d-433a-b877-36ba627e5c29' title='Show/Hide attributes'><svg class='icon xr-icon-file-text2'><use xlink:href='#icon-file-text2'></use></svg></label><input id='data-1600dcc2-a024-46c9-8e4a-4b330ce38658' class='xr-var-data-in' type='checkbox'><label for='data-1600dcc2-a024-46c9-8e4a-4b330ce38658' title='Show/Hide data repr'><svg class='icon xr-icon-database'><use xlink:href='#icon-database'></use></svg></label><div class='xr-var-attrs'><dl class='xr-attrs'></dl></div><pre class='xr-var-data'>array([ -2.118632,  -2.118901,  -2.119171, ..., -19.472197, -19.472466,\n",
       "       -19.472735])</pre></li><li class='xr-var-item'><div class='xr-var-name'><span class='xr-has-index'>x</span></div><div class='xr-var-dims'>(x)</div><div class='xr-var-dtype'>float64</div><div class='xr-var-preview xr-preview'>21.96 21.96 21.96 ... 35.4 35.4</div><input id='attrs-5dc2ac0a-2c62-4dcc-8223-0a8d083f55ae' class='xr-var-attrs-in' type='checkbox' disabled><label for='attrs-5dc2ac0a-2c62-4dcc-8223-0a8d083f55ae' title='Show/Hide attributes'><svg class='icon xr-icon-file-text2'><use xlink:href='#icon-file-text2'></use></svg></label><input id='data-24452e68-6e41-4e11-b879-266d7d568cc3' class='xr-var-data-in' type='checkbox'><label for='data-24452e68-6e41-4e11-b879-266d7d568cc3' title='Show/Hide data repr'><svg class='icon xr-icon-database'><use xlink:href='#icon-database'></use></svg></label><div class='xr-var-attrs'><dl class='xr-attrs'></dl></div><pre class='xr-var-data'>array([21.96071 , 21.960979, 21.961248, ..., 35.399326, 35.399596, 35.399865])</pre></li></ul></div></li><li class='xr-section-item'><input id='section-0c1ea4d1-91ac-40a6-8a0b-3e9bac90f8a8' class='xr-section-summary-in' type='checkbox'  checked><label for='section-0c1ea4d1-91ac-40a6-8a0b-3e9bac90f8a8' class='xr-section-summary' >Attributes: <span>(8)</span></label><div class='xr-section-inline-details'></div><div class='xr-section-details'><dl class='xr-attrs'><dt><span>transform :</span></dt><dd>(0.0002694945852358564, 0.0, 21.960574761699448, 0.0, -0.0002694945852358564, -2.11849693453906)</dd><dt><span>crs :</span></dt><dd>+init=epsg:4326</dd><dt><span>res :</span></dt><dd>(0.0002694945852358564, 0.0002694945852358564)</dd><dt><span>is_tiled :</span></dt><dd>1</dd><dt><span>nodatavals :</span></dt><dd>(nan,)</dd><dt><span>scales :</span></dt><dd>(1.0,)</dd><dt><span>offsets :</span></dt><dd>(0.0,)</dd><dt><span>AREA_OR_POINT :</span></dt><dd>Area</dd></dl></div></li></ul></div></div>"
      ],
      "text/plain": [
       "<xarray.DataArray (band: 1, y: 64396, x: 49869)>\n",
       "dask.array<open_rasterio-d98fe0923501f85918ff6e59a9e1cdf9<this-array>, shape=(1, 64396, 49869), dtype=uint8, chunksize=(1, 1000, 1000), chunktype=numpy.ndarray>\n",
       "Coordinates:\n",
       "  * band     (band) int64 1\n",
       "  * y        (y) float64 -2.119 -2.119 -2.119 -2.119 ... -19.47 -19.47 -19.47\n",
       "  * x        (x) float64 21.96 21.96 21.96 21.96 21.96 ... 35.4 35.4 35.4 35.4\n",
       "Attributes:\n",
       "    transform:      (0.0002694945852358564, 0.0, 21.960574761699448, 0.0, -0....\n",
       "    crs:            +init=epsg:4326\n",
       "    res:            (0.0002694945852358564, 0.0002694945852358564)\n",
       "    is_tiled:       1\n",
       "    nodatavals:     (nan,)\n",
       "    scales:         (1.0,)\n",
       "    offsets:        (0.0,)\n",
       "    AREA_OR_POINT:  Area"
      ]
     },
     "execution_count": 7,
     "metadata": {},
     "output_type": "execute_result"
    }
   ],
   "source": [
    "xarray.open_rasterio(JRC, chunks={'x':1000, 'y':1000})"
   ]
  },
  {
   "cell_type": "markdown",
   "metadata": {},
   "source": []
  },
  {
   "cell_type": "code",
   "execution_count": null,
   "metadata": {},
   "outputs": [],
   "source": [
    "\n",
    "shapefile = gpd.read_file(\"extraction.shp\")\n",
    "# extract the geometry in GeoJSON format\n",
    "geoms = shapefile.geometry.values # list of shapely geometries\n",
    "geometry = geoms[0] # shapely geometry\n",
    "# transform to GeJSON format\n",
    "from shapely.geometry import mapping\n",
    "geoms = [mapping(geoms[0])]\n",
    "# extract the raster values values within the polygon \n",
    "with rasterio.open(\"raster.tif\") as src:\n",
    "     out_image, out_transform = mask(src, geoms, crop=True)"
   ]
  },
  {
   "cell_type": "markdown",
   "metadata": {},
   "source": [
    "## Accuracy Assessment for WOFLs\n",
    "\n",
    "Accuracy assessment includes generating a confusion error matrix for a WOFL binary classification.\n",
    "\n",
    "The inputs for the assessment are a binary classification of water/non-water output and a shapefile conaining water/non-water points to serve as the \"ground-truth\" dataset. A confusion error matrix containing overall, producer's and user's accuracy is the output of this analysis. "
   ]
  },
  {
   "cell_type": "markdown",
   "metadata": {},
   "source": [
    "### Analysis Parameters"
   ]
  },
  {
   "cell_type": "code",
   "execution_count": null,
   "metadata": {},
   "outputs": [],
   "source": [
    "pred_tif = ''\n",
    "grd_truth = ''\n",
    "aez = ''"
   ]
  },
  {
   "cell_type": "markdown",
   "metadata": {},
   "source": [
    "#### Load the dataset "
   ]
  },
  {
   "cell_type": "code",
   "execution_count": null,
   "metadata": {},
   "outputs": [],
   "source": [
    "#ground truth shapefile\n",
    "ground_truth = gpd.read_file(grd_truth).to_crs('EPSG:6933')"
   ]
  },
  {
   "cell_type": "code",
   "execution_count": null,
   "metadata": {},
   "outputs": [],
   "source": [
    "# rename the class column to 'actual'\n",
    "ground_truth = ground_truth.rename(columns={'class':'Actual'})\n",
    "ground_truth.head()"
   ]
  },
  {
   "cell_type": "markdown",
   "metadata": {},
   "source": [
    "Clip ground_truth data points to the simplified AEZ"
   ]
  },
  {
   "cell_type": "code",
   "execution_count": null,
   "metadata": {},
   "outputs": [],
   "source": [
    "#open shapefile\n",
    "aez=gpd.read_file(aez_region).to_crs('EPSG:6933')\n",
    "# clip points to region\n",
    "ground_truth = gpd.overlay(ground_truth,aez,how='intersection')"
   ]
  },
  {
   "cell_type": "markdown",
   "metadata": {},
   "source": [
    "Raster of predicted classes"
   ]
  },
  {
   "cell_type": "code",
   "execution_count": null,
   "metadata": {},
   "outputs": [],
   "source": [
    "# Raster of predicted classes\n",
    "prediction = rasterio.open(pred_tif)"
   ]
  },
  {
   "cell_type": "markdown",
   "metadata": {},
   "source": [
    "#### Extract a list of coordinate values "
   ]
  },
  {
   "cell_type": "code",
   "execution_count": null,
   "metadata": {},
   "outputs": [],
   "source": [
    "coords = [(x,y) for x, y in zip(ground_truth.geometry.x, ground_truth.geometry.y)]"
   ]
  },
  {
   "cell_type": "markdown",
   "metadata": {},
   "source": [
    "#### Sample the prediction raster at the ground truth coordinate"
   ]
  },
  {
   "cell_type": "code",
   "execution_count": null,
   "metadata": {},
   "outputs": [],
   "source": [
    "# Sample the raster at every point location and store values in DataFrame\n",
    "ground_truth['Prediction'] = [int(x[0]) for x in prediction.sample(coords)]\n",
    "ground_truth.head()"
   ]
  },
  {
   "cell_type": "markdown",
   "metadata": {},
   "source": [
    "### Create a Confusion Matrix "
   ]
  },
  {
   "cell_type": "code",
   "execution_count": null,
   "metadata": {},
   "outputs": [],
   "source": [
    "confusion_matrix = pd.crosstab(ground_truth['Actual'],\n",
    "                               ground_truth['Prediction'],\n",
    "                               rownames=['Actual'],\n",
    "                               colnames=['Prediction'],\n",
    "                               margins=True)\n",
    "confusion_matrix"
   ]
  },
  {
   "cell_type": "markdown",
   "metadata": {},
   "source": [
    "#### Calculate User's and Producer's Accuracy"
   ]
  },
  {
   "cell_type": "markdown",
   "metadata": {},
   "source": [
    "##### User's accuracy"
   ]
  },
  {
   "cell_type": "code",
   "execution_count": null,
   "metadata": {},
   "outputs": [],
   "source": [
    "confusion_matrix[\"User's\"] = [confusion_matrix.loc[0, 0] / confusion_matrix.loc[0, 'All'] * 100,\n",
    "                              confusion_matrix.loc[1, 1] / confusion_matrix.loc[1, 'All'] * 100,\n",
    "                              np.nan]"
   ]
  },
  {
   "cell_type": "markdown",
   "metadata": {},
   "source": [
    "##### Producer's accuracy "
   ]
  },
  {
   "cell_type": "code",
   "execution_count": null,
   "metadata": {},
   "outputs": [],
   "source": [
    "producers_accuracy = pd.Series([confusion_matrix[0][0] / confusion_matrix[0]['All'] * 100,\n",
    "                                confusion_matrix[1][1] / confusion_matrix[1]['All'] * 100]\n",
    "                         ).rename(\"Producer's\")\n",
    "\n",
    "confusion_matrix = confusion_matrix.append(producers_accuracy)"
   ]
  },
  {
   "cell_type": "markdown",
   "metadata": {},
   "source": [
    "##### Overall accuracy"
   ]
  },
  {
   "cell_type": "code",
   "execution_count": null,
   "metadata": {},
   "outputs": [],
   "source": [
    "confusion_matrix.loc[\"Producer's\", \"User's\"] = (confusion_matrix.loc[0, 0] + \n",
    "                                                confusion_matrix.loc[1, 1]) / confusion_matrix.loc['All', 'All'] * 100"
   ]
  },
  {
   "cell_type": "markdown",
   "metadata": {},
   "source": [
    "F1 Score"
   ]
  },
  {
   "cell_type": "markdown",
   "metadata": {},
   "source": [
    "The F1 score is the harmonic mean of the precision and recall, where an F1 score reaches its best value at 1 (perfect precision and recall), and is calculated as:"
   ]
  },
  {
   "cell_type": "markdown",
   "metadata": {},
   "source": [
    "$$\n",
    "\\begin{aligned}\n",
    "\\text{Fscore} = 2 \\times \\frac{\\text{UA} \\times \\text{PA}}{\\text{UA} + \\text{PA}}.\n",
    "\\end{aligned}\n",
    "$$"
   ]
  },
  {
   "cell_type": "markdown",
   "metadata": {},
   "source": [
    "Where UA = Users Accuracy, and PA = Producer's Accuracy"
   ]
  },
  {
   "cell_type": "code",
   "execution_count": null,
   "metadata": {},
   "outputs": [],
   "source": [
    "fscore = pd.Series([(2*(confusion_matrix.loc[0, \"User's\"]*confusion_matrix.loc[\"Producer's\", 0]) / (confusion_matrix.loc[0, \"User's\"]+confusion_matrix.loc[\"Producer's\", 0])) / 100,\n",
    "                    f1_score(ground_truth['Actual'], ground_truth['Prediction'], average='binary')]\n",
    "                         ).rename(\"F-score\")\n",
    "\n",
    "confusion_matrix = confusion_matrix.append(fscore)"
   ]
  },
  {
   "cell_type": "markdown",
   "metadata": {},
   "source": [
    "#### Tidy Confusion Matrix"
   ]
  },
  {
   "cell_type": "markdown",
   "metadata": {},
   "source": [
    "- Limit decimal places,\n",
    "- Add readable class names\n",
    "- Remove non-sensical values"
   ]
  },
  {
   "cell_type": "code",
   "execution_count": null,
   "metadata": {},
   "outputs": [],
   "source": [
    "# round numbers\n",
    "confusion_matrix = confusion_matrix.round(decimals=2)"
   ]
  },
  {
   "cell_type": "code",
   "execution_count": null,
   "metadata": {},
   "outputs": [],
   "source": [
    "# rename booleans to class names\n",
    "confusion_matrix = confusion_matrix.rename(columns={0:'Non-crop', 1:'Crop', 'All':'Total'},\n",
    "                                            index={0:'Non-crop', 1:'Crop', 'All':'Total'})"
   ]
  },
  {
   "cell_type": "code",
   "execution_count": null,
   "metadata": {},
   "outputs": [],
   "source": [
    "#remove the nonsensical values in the table\n",
    "confusion_matrix.loc['Total', \"User's\"] = '--'\n",
    "confusion_matrix.loc[\"Producer's\", 'Total'] = '--'\n",
    "confusion_matrix.loc[\"F-score\", 'Total'] = '--'\n",
    "confusion_matrix.loc[\"F-score\", \"User's\"] = '--'"
   ]
  },
  {
   "cell_type": "code",
   "execution_count": null,
   "metadata": {},
   "outputs": [],
   "source": [
    "confusion_matrix"
   ]
  },
  {
   "cell_type": "markdown",
   "metadata": {},
   "source": [
    "#### Export csv"
   ]
  },
  {
   "cell_type": "code",
   "execution_count": null,
   "metadata": {},
   "outputs": [],
   "source": [
    "#confusion_matrix.to_csv('results/confusion_matrix.csv')"
   ]
  },
  {
   "cell_type": "markdown",
   "metadata": {},
   "source": [
    "***\n",
    "\n",
    "## Additional information\n",
    "\n",
    "**License:** The code in this notebook is licensed under the [Apache License, Version 2.0](https://www.apache.org/licenses/LICENSE-2.0). \n",
    "Digital Earth Africa data is licensed under the [Creative Commons by Attribution 4.0](https://creativecommons.org/licenses/by/4.0/) license.\n",
    "\n",
    "**Contact:** If you need assistance, please post a question on the [Open Data Cube Slack channel](http://slack.opendatacube.org/) or on the [GIS Stack Exchange](https://gis.stackexchange.com/questions/ask?tags=open-data-cube) using the `open-data-cube` tag (you can view previously asked questions [here](https://gis.stackexchange.com/questions/tagged/open-data-cube)).\n",
    "If you would like to report an issue with this notebook, you can file one on [Github](https://github.com/digitalearthafrica/deafrica-sandbox-notebooks).\n",
    "\n",
    "**Last modified:** January 2020\n",
    "\n",
    "**Compatible datacube version:** "
   ]
  },
  {
   "cell_type": "code",
   "execution_count": null,
   "metadata": {},
   "outputs": [],
   "source": []
  },
  {
   "cell_type": "code",
   "execution_count": 16,
   "metadata": {},
   "outputs": [
    {
     "name": "stdout",
     "output_type": "stream",
     "text": [
      "1.7+253.ga031f3f4.dirty\n"
     ]
    }
   ],
   "source": [
    "print(datacube.__version__)"
   ]
  },
  {
   "cell_type": "markdown",
   "metadata": {},
   "source": [
    "## Tags\n",
    "Browse all available tags on the DE Africa User Guide's [Tags Index](https://) (placeholder as this does not exist yet)"
   ]
  },
  {
   "cell_type": "raw",
   "metadata": {
    "raw_mimetype": "text/restructuredtext"
   },
   "source": [
    "**Tags**:  :index:`WOfS`, :index:`fractional cover`, :index:`deafrica_plotting`, :index:`deafrica_datahandling`, :index:`display_map`, :index:`wofs_fuser`, :index:`WOFL`, :index:`masking`"
   ]
  }
 ],
 "metadata": {
  "kernelspec": {
   "display_name": "Python 3",
   "language": "python",
   "name": "python3"
  },
  "language_info": {
   "codemirror_mode": {
    "name": "ipython",
    "version": 3
   },
   "file_extension": ".py",
   "mimetype": "text/x-python",
   "name": "python",
   "nbconvert_exporter": "python",
   "pygments_lexer": "ipython3",
   "version": "3.6.9"
  },
  "widgets": {
   "application/vnd.jupyter.widget-state+json": {
    "state": {
     "9e3fa49adf8c4170abfcd954c2ec045a": {
      "model_module": "jupyter-leaflet",
      "model_module_version": "^0.11.1",
      "model_name": "LeafletZoomControlModel",
      "state": {
       "_model_module_version": "^0.11.1",
       "_view_count": null,
       "_view_module_version": "^0.11.1",
       "options": [
        "position",
        "zoom_in_text",
        "zoom_in_title",
        "zoom_out_text",
        "zoom_out_title"
       ]
      }
     },
     "dc642f11c1fb492ca419b0ed6fc4f8c3": {
      "model_module": "jupyter-leaflet",
      "model_module_version": "^0.11.1",
      "model_name": "LeafletAttributionControlModel",
      "state": {
       "_model_module_version": "^0.11.1",
       "_view_count": null,
       "_view_module_version": "^0.11.1",
       "options": [
        "position",
        "prefix"
       ],
       "position": "bottomright",
       "prefix": "Leaflet"
      }
     }
    },
    "version_major": 2,
    "version_minor": 0
   }
  }
 },
 "nbformat": 4,
 "nbformat_minor": 4
}
