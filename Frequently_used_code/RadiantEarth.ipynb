{
 "cells": [
  {
   "cell_type": "markdown",
   "metadata": {},
   "source": [
    "# API Request for Connection to Sentinel Hub <img align=\"right\" src=\"../Supplementary_data/DE_Africa_Logo_Stacked_RGB_small.jpg\">\n",
    "\n",
    "* **Products used:**\n",
    "[Sentinel-2 image patches](http://bigearth.net/)\n",
    "\n",
    "*Dataset and tool is external to the Digital Earth Africa platform.*\n"
   ]
  },
  {
   "cell_type": "markdown",
   "metadata": {},
   "source": [
    "## Description \n",
    "\n",
    "This notebook shows basic examples of how to use the API to download labels and source imagery for the BigEarthNet dataset. Full documentation for the API is available at [docs.mlhub.earth](https://github.com/radiantearth/mlhub-tutorials). Each item in the collection is explained in json format compliant with STAC label extension definition.\n",
    "\n",
    "By running this notebook you will be able to achive the following targets:\n",
    "1.  Setting up API authorization, query on a list of available collections and datasets, and retrieve the items from each collection\n",
    "2.  Connect to Radiant MLHub API for getting access to open Earth imagery training data and use it for machine learning applications\n",
    "***"
   ]
  },
  {
   "cell_type": "markdown",
   "metadata": {},
   "source": [
    "## How to Access RadiantEarth API and Collection "
   ]
  },
  {
   "cell_type": "markdown",
   "metadata": {},
   "source": [
    "Following sign up to Radiant MLHub API in order to get access to Open Library for Earth Observations Machine Learning available [here](https://www.mlhub.earth/) , the user will be allocated an account credentials with a dynamic dashboard that has links to the API, documentation and tutorial page with specific token the user."
   ]
  },
  {
   "cell_type": "markdown",
   "metadata": {},
   "source": [
    "## Getting started \n",
    "\n",
    "Checking user authentication, sending request to API, and getting response by granting a specific token "
   ]
  },
  {
   "cell_type": "code",
   "execution_count": 26,
   "metadata": {},
   "outputs": [],
   "source": [
    "import requests\n",
    "ACCESS_TOKEN = 'PASTE_YOUR_ACCESS_TOKEN_HERE'"
   ]
  },
  {
   "cell_type": "code",
   "execution_count": 13,
   "metadata": {},
   "outputs": [],
   "source": [
    "# these headers will be used in each request\n",
    "headers = {\n",
    "    'Authorization': f'Bearer {ACCESS_TOKEN}',\n",
    "    'Accept':'application/json'\n",
    "}"
   ]
  },
  {
   "cell_type": "code",
   "execution_count": 14,
   "metadata": {},
   "outputs": [
    {
     "name": "stdout",
     "output_type": "stream",
     "text": [
      "ID:       ref_african_crops_uganda_01\n",
      "License:  CC-BY-SA-4.0\n",
      "Citation: Bocquet, C., Dalberg Data Insights. (2019) Dalberg Data Insights Uganda Crop Classification, Version 1. [Indicate subset used]. Radiant ML Hub. [Date Accessed]\n",
      "\n",
      "ID:       microsoft_chesapeake_nlcd\n",
      "License:  CDLA-permissive-1.0\n",
      "Citation: Robinson C, Hou L, Malkin K, Soobitsky R, Czawlytko J, Dilkina B, Jojic N. Large Scale High-Resolution Land Cover Mapping with Multi-Resolution Data. Proceedings of the 2019 Conference on Computer Vision and Pattern Recognition (CVPR 2019).\n",
      "\n",
      "ID:       ref_african_crops_tanzania_01\n",
      "License:  CC-BY-SA-4.0\n",
      "Citation: Great African Food Company. (2019) Great African Food Company Tanzania Ground Reference Crop Type Dataset, Version 1. [Indicate subset used]. Radiant ML Hub. [Date Accessed]\n",
      "\n",
      "ID:       ref_african_crops_kenya_02_source\n",
      "License:  CC-BY-SA-4.0\n",
      "Citation: Radiant Earth Foundation (2020) CV4A Competition Kenya Crop Type Dataset, Version 1. [Indicate subset used]. Radiant ML Hub. [Date Accessed]\n",
      "\n",
      "ID:       microsoft_chesapeake_landsat_leaf_on\n",
      "License:  See https://landsat.usgs.gov/sites/default/files/documents/Landsat_Data_Policy.pdf\n",
      "Citation: Robinson C, Hou L, Malkin K, Soobitsky R, Czawlytko J, Dilkina B, Jojic N. Large Scale High-Resolution Land Cover Mapping with Multi-Resolution Data. Proceedings of the 2019 Conference on Computer Vision and Pattern Recognition (CVPR 2019).\n",
      "\n",
      "ID:       bigearthnet_v1_labels\n",
      "License:  CDLA-Permissive-1.0\n",
      "Citation: G. Sumbul, M. Charfuelan, B. Demir, V. Markl, \"BigEarthNet: A Large-Scale Benchmark Archive for Remote Sensing Image Understanding\", IEEE International Geoscience and Remote Sensing Symposium, pp. 5901-5904, Yokohama, Japan, 2019.\n",
      "\n",
      "ID:       bigearthnet_v1_source\n",
      "License:  CDLA-Permissive-1.0\n",
      "Citation: G. Sumbul, M. Charfuelan, B. Demir, V. Markl, \"BigEarthNet: A Large-Scale Benchmark Archive for Remote Sensing Image Understanding\", IEEE International Geoscience and Remote Sensing Symposium, pp. 5901-5904, Yokohama, Japan, 2019.\n",
      "\n",
      "ID:       ref_african_crops_imagery_01\n",
      "License:  CC-BY-SA-4.0\n",
      "Citation: N/A\n",
      "\n",
      "ID:       ref_african_crops_kenya_02_labels\n",
      "License:  CC-BY-SA-4.0\n",
      "Citation: Radiant Earth Foundation (2020) CV4A Competition Kenya Crop Type Dataset, Version 1. [Indicate subset used]. Radiant ML Hub. [Date Accessed]\n",
      "\n",
      "ID:       microsoft_chesapeake_naip\n",
      "License:  public domain with attribution\n",
      "Citation: Robinson C, Hou L, Malkin K, Soobitsky R, Czawlytko J, Dilkina B, Jojic N. Large Scale High-Resolution Land Cover Mapping with Multi-Resolution Data. Proceedings of the 2019 Conference on Computer Vision and Pattern Recognition (CVPR 2019).\n",
      "\n",
      "ID:       microsoft_chesapeake_landsat_leaf_off\n",
      "License:  See https://landsat.usgs.gov/sites/default/files/documents/Landsat_Data_Policy.pdf\n",
      "Citation: Robinson C, Hou L, Malkin K, Soobitsky R, Czawlytko J, Dilkina B, Jojic N. Large Scale High-Resolution Land Cover Mapping with Multi-Resolution Data. Proceedings of the 2019 Conference on Computer Vision and Pattern Recognition (CVPR 2019).\n",
      "\n",
      "ID:       ref_african_crops_kenya_01\n",
      "License:  CC-BY-SA-4.0\n",
      "Citation: PlantVillage. (2019) PlantVillage Kenya Ground Reference Crop Type Dataset, Version 1. [Indicate subset used]. Radiant ML Hub. [Date Accessed]\n",
      "\n",
      "ID:       microsoft_chesapeake_lc\n",
      "License:  CDLA-permissive-1.0\n",
      "Citation: Robinson C, Hou L, Malkin K, Soobitsky R, Czawlytko J, Dilkina B, Jojic N. Large Scale High-Resolution Land Cover Mapping with Multi-Resolution Data. Proceedings of the 2019 Conference on Computer Vision and Pattern Recognition (CVPR 2019).\n",
      "\n",
      "ID:       microsoft_chesapeake_buildings\n",
      "License:  CDLA-permissive-1.0\n",
      "Citation: Robinson C, Hou L, Malkin K, Soobitsky R, Czawlytko J, Dilkina B, Jojic N. Large Scale High-Resolution Land Cover Mapping with Multi-Resolution Data. Proceedings of the 2019 Conference on Computer Vision and Pattern Recognition (CVPR 2019).\n",
      "\n",
      "ID:       sn_AOI_3_Paris\n",
      "License:  CC-BY-SA-4.0\n",
      "Citation: N/A\n",
      "\n",
      "ID:       sn_AOI_2_Vegas\n",
      "License:  CC-BY-SA-4.0\n",
      "Citation: N/A\n",
      "\n",
      "ID:       sn_AOI_4_Shanghai\n",
      "License:  CC-BY-SA-4.0\n",
      "Citation: N/A\n",
      "\n",
      "ID:       sn_AOI_5_Khartoum\n",
      "License:  CC-BY-SA-4.0\n",
      "Citation: N/A\n",
      "\n"
     ]
    }
   ],
   "source": [
    "# get list of all collections\n",
    "r = requests.get('https://api.radiant.earth/mlhub/v1/collections', headers=headers)\n",
    "h = r.json()\n",
    "collections = h['collections']\n",
    "\n",
    "# print the list of collections \n",
    "for c in collections:\n",
    "    print(f'ID:       {c[\"id\"]}\\nLicense:  {c.get(\"license\", \"N/A\")}\\nCitation: {c.get(\"sci:citation\", \"N/A\")}\\n')"
   ]
  },
  {
   "cell_type": "code",
   "execution_count": 15,
   "metadata": {},
   "outputs": [],
   "source": [
    "# paste the id of the collection you are interested in here:\n",
    "collectionId = 'ref_african_crops_kenya_01'\n",
    "# use these optional parameters to control what items are returned. maximum limit is 10000\n",
    "limit = 10\n",
    "bounding_box = []\n",
    "date_time = []\n",
    "\n",
    "# retrieves the items and their metadata in the collection\n",
    "r = requests.get(f'https://api.radiant.earth/mlhub/v1/collections/{collectionId}/items', params={'limit':limit, 'bbox':bounding_box,'datetime':date_time},headers=headers)\n",
    "collection = r.json()"
   ]
  },
  {
   "cell_type": "code",
   "execution_count": 16,
   "metadata": {},
   "outputs": [],
   "source": [
    "selected_item = None\n",
    "assets = None\n",
    "for feature in collection.get('features', []):\n",
    "    selected_item = feature\n",
    "    assets = list(feature.get('assets').keys())\n",
    "    # For demo purposes we only want the first item\n",
    "    break"
   ]
  },
  {
   "cell_type": "code",
   "execution_count": 17,
   "metadata": {},
   "outputs": [
    {
     "name": "stdout",
     "output_type": "stream",
     "text": [
      "documentation\n",
      "labels\n",
      "property_descriptions\n"
     ]
    }
   ],
   "source": [
    "import re\n",
    "\n",
    "# List all assets which don't match the pattern \"year_month_day_*\"\n",
    "for asset in assets:\n",
    "    if not re.match('\\d{4}_\\d{2}_\\d{2}_.*', asset):\n",
    "        print(asset)"
   ]
  },
  {
   "cell_type": "code",
   "execution_count": 18,
   "metadata": {},
   "outputs": [],
   "source": [
    "from urllib.parse import urlparse\n",
    "\n",
    "def get_download_url(item, asset_key, headers):\n",
    "    asset = item.get('assets', {}).get(asset_key, None)\n",
    "    if asset is None:\n",
    "        print(f'Asset \"{asset_key}\" does not exist in this item')\n",
    "        return None\n",
    "    r = requests.get(asset.get('href'), headers=headers, allow_redirects=False)\n",
    "    return r.headers.get('Location')\n",
    "\n",
    "def download_file(url):\n",
    "    filename = urlparse(url).path.split('/')[-1]\n",
    "    r = requests.get(url)\n",
    "    f = open(filename, 'wb')\n",
    "    for chunk in r.iter_content(chunk_size=512 * 1024): \n",
    "        if chunk:\n",
    "            f.write(chunk)\n",
    "    f.close()\n",
    "    print(f'Downloaded {filename}')\n",
    "    return "
   ]
  },
  {
   "cell_type": "code",
   "execution_count": 19,
   "metadata": {},
   "outputs": [
    {
     "name": "stdout",
     "output_type": "stream",
     "text": [
      "Downloaded ref_african_crops_kenya_01_tile_001.geojson\n"
     ]
    }
   ],
   "source": [
    "download_file(get_download_url(selected_item, 'labels', headers))"
   ]
  },
  {
   "cell_type": "code",
   "execution_count": 20,
   "metadata": {},
   "outputs": [
    {
     "name": "stdout",
     "output_type": "stream",
     "text": [
      "Downloaded Kenya_Documentation.pdf\n",
      "Downloaded Kenya_properties.csv\n"
     ]
    }
   ],
   "source": [
    "download_file(get_download_url(selected_item, 'documentation', headers))\n",
    "download_file(get_download_url(selected_item, 'property_descriptions', headers))"
   ]
  },
  {
   "cell_type": "code",
   "execution_count": 21,
   "metadata": {},
   "outputs": [],
   "source": [
    "import boto3\n",
    "AWS_ACCESS_KEY_ID = 'PASTE_YOUR_AWS_ACCESS_KEY_ID'\n",
    "AWS_SECRET_KEY = 'PASTE_YOUR_AWS_SECRET_KEY'\n",
    "\n",
    "def download_s3_file(url, access_key, secret_key):\n",
    "    parsed_url = urlparse(url)\n",
    "    \n",
    "    bucket = parsed_url.hostname.split('.')[0]\n",
    "    path = parsed_url.path[1:]\n",
    "    filename = path.split('/')[-1]\n",
    "    \n",
    "    s3 = boto3.client(\n",
    "        's3',\n",
    "        aws_access_key_id=AWS_ACCESS_KEY_ID,\n",
    "        aws_secret_access_key=AWS_SECRET_KEY\n",
    "    )\n",
    "    \n",
    "    s3.download_file(bucket, path, filename, ExtraArgs={'RequestPayer': 'requester'})\n",
    "    print(f'Downloaded s3://{bucket}/{path}')"
   ]
  },
  {
   "cell_type": "code",
   "execution_count": 24,
   "metadata": {},
   "outputs": [],
   "source": [
    "#there is a need for AWS access key and secret key before running this cell. \n",
    "true_color_asset_url = get_download_url(selected_item, '2019_07_31_tci', headers)\n",
    "download_s3_file(true_color_asset_url, AWS_ACCESS_KEY_ID, AWS_SECRET_KEY)"
   ]
  }
 ],
 "metadata": {
  "kernelspec": {
   "display_name": "Python 3",
   "language": "python",
   "name": "python3"
  },
  "language_info": {
   "codemirror_mode": {
    "name": "ipython",
    "version": 3
   },
   "file_extension": ".py",
   "mimetype": "text/x-python",
   "name": "python",
   "nbconvert_exporter": "python",
   "pygments_lexer": "ipython3",
   "version": "3.6.9"
  }
 },
 "nbformat": 4,
 "nbformat_minor": 4
}
