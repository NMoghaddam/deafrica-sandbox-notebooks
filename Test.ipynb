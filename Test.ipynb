{
 "cells": [
  {
   "cell_type": "code",
   "execution_count": 1,
   "metadata": {},
   "outputs": [
    {
     "name": "stdout",
     "output_type": "stream",
     "text": [
      "Looking in indexes: https://pypi.org/simple, https://packages.dea.ga.gov.au\n",
      "Collecting odc-algo\n",
      "  Downloading https://packages.dea.ga.gov.au/odc-algo/odc_algo-0.1.dev494%2Bge117022-py3-none-any.whl (16 kB)\n",
      "Requirement already satisfied, skipping upgrade: affine in /env/lib/python3.6/site-packages (from odc-algo) (2.3.0)\n",
      "Requirement already satisfied, skipping upgrade: numexpr in /env/lib/python3.6/site-packages (from odc-algo) (2.7.1)\n",
      "Requirement already satisfied, skipping upgrade: numpy in /env/lib/python3.6/site-packages (from odc-algo) (1.18.5)\n",
      "Requirement already satisfied, skipping upgrade: dask in /env/lib/python3.6/site-packages (from odc-algo) (2.16.0)\n",
      "Requirement already satisfied, skipping upgrade: distributed in /env/lib/python3.6/site-packages (from odc-algo) (2.16.0)\n",
      "Requirement already satisfied, skipping upgrade: xarray in /env/lib/python3.6/site-packages (from odc-algo) (0.15.1)\n",
      "Requirement already satisfied, skipping upgrade: toolz in /env/lib/python3.6/site-packages (from odc-algo) (0.10.0)\n",
      "Requirement already satisfied, skipping upgrade: tblib>=1.6.0 in /env/lib/python3.6/site-packages (from distributed->odc-algo) (1.6.0)\n",
      "Requirement already satisfied, skipping upgrade: psutil>=5.0 in /env/lib/python3.6/site-packages (from distributed->odc-algo) (5.7.0)\n",
      "Requirement already satisfied, skipping upgrade: pyyaml in /env/lib/python3.6/site-packages (from distributed->odc-algo) (5.1.2)\n",
      "Requirement already satisfied, skipping upgrade: cloudpickle>=0.2.2 in /env/lib/python3.6/site-packages (from distributed->odc-algo) (1.4.1)\n",
      "Requirement already satisfied, skipping upgrade: click>=6.6 in /env/lib/python3.6/site-packages (from distributed->odc-algo) (7.1.2)\n",
      "Requirement already satisfied, skipping upgrade: msgpack>=0.6.0 in /env/lib/python3.6/site-packages (from distributed->odc-algo) (1.0.0)\n",
      "Requirement already satisfied, skipping upgrade: setuptools in /env/lib/python3.6/site-packages (from distributed->odc-algo) (47.3.1)\n",
      "Requirement already satisfied, skipping upgrade: contextvars; python_version < \"3.7\" in /env/lib/python3.6/site-packages (from distributed->odc-algo) (2.4)\n",
      "Requirement already satisfied, skipping upgrade: sortedcontainers!=2.0.0,!=2.0.1 in /env/lib/python3.6/site-packages (from distributed->odc-algo) (2.2.2)\n",
      "Requirement already satisfied, skipping upgrade: zict>=0.1.3 in /env/lib/python3.6/site-packages (from distributed->odc-algo) (2.0.0)\n",
      "Requirement already satisfied, skipping upgrade: tornado>=5; python_version < \"3.8\" in /env/lib/python3.6/site-packages (from distributed->odc-algo) (6.0.4)\n",
      "Requirement already satisfied, skipping upgrade: pandas>=0.25 in /env/lib/python3.6/site-packages (from xarray->odc-algo) (1.0.5)\n",
      "Requirement already satisfied, skipping upgrade: immutables>=0.9 in /env/lib/python3.6/site-packages (from contextvars; python_version < \"3.7\"->distributed->odc-algo) (0.14)\n",
      "Requirement already satisfied, skipping upgrade: heapdict in /env/lib/python3.6/site-packages (from zict>=0.1.3->distributed->odc-algo) (1.0.1)\n",
      "Requirement already satisfied, skipping upgrade: python-dateutil>=2.6.1 in /env/lib/python3.6/site-packages (from pandas>=0.25->xarray->odc-algo) (2.8.0)\n",
      "Requirement already satisfied, skipping upgrade: pytz>=2017.2 in /env/lib/python3.6/site-packages (from pandas>=0.25->xarray->odc-algo) (2020.1)\n",
      "Requirement already satisfied, skipping upgrade: six>=1.5 in /env/lib/python3.6/site-packages (from python-dateutil>=2.6.1->pandas>=0.25->xarray->odc-algo) (1.15.0)\n",
      "Installing collected packages: odc-algo\n",
      "  Attempting uninstall: odc-algo\n",
      "    Found existing installation: odc-algo 0.1.dev493+g2dd45fb\n",
      "    Uninstalling odc-algo-0.1.dev493+g2dd45fb:\n",
      "      Successfully uninstalled odc-algo-0.1.dev493+g2dd45fb\n",
      "Successfully installed odc-algo-0.1.dev494+ge117022\n",
      "Note: you may need to restart the kernel to use updated packages.\n"
     ]
    }
   ],
   "source": [
    "pip install -U --extra-index-url=\"https://packages.dea.ga.gov.au\" odc-algo"
   ]
  },
  {
   "cell_type": "code",
   "execution_count": 4,
   "metadata": {},
   "outputs": [],
   "source": [
    "import odc.algo"
   ]
  },
  {
   "cell_type": "code",
   "execution_count": null,
   "metadata": {},
   "outputs": [],
   "source": []
  }
 ],
 "metadata": {
  "kernelspec": {
   "display_name": "Python 3",
   "language": "python",
   "name": "python3"
  },
  "language_info": {
   "codemirror_mode": {
    "name": "ipython",
    "version": 3
   },
   "file_extension": ".py",
   "mimetype": "text/x-python",
   "name": "python",
   "nbconvert_exporter": "python",
   "pygments_lexer": "ipython3",
   "version": "3.6.9"
  }
 },
 "nbformat": 4,
 "nbformat_minor": 4
}
