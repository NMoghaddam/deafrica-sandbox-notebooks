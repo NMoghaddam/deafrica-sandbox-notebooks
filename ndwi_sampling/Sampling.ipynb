{
 "cells": [
  {
   "cell_type": "markdown",
   "metadata": {},
   "source": [
    "# Stratified random sampling from NDWI mosaic"
   ]
  },
  {
   "cell_type": "markdown",
   "metadata": {},
   "source": [
    "## Load packages"
   ]
  },
  {
   "cell_type": "code",
   "execution_count": 4,
   "metadata": {},
   "outputs": [],
   "source": [
    "%matplotlib inline\n",
    "\n",
    "import os\n",
    "import xarray as xr\n",
    "import numpy as np\n",
    "import pandas as pd\n",
    "import geopandas as gpd\n",
    "from matplotlib import pyplot as plt\n",
    "\n",
    "import sys\n",
    "sys.path.append('../../Scripts')\n",
    "from deafrica_spatialtools import xr_rasterize\n"
   ]
  },
  {
   "cell_type": "code",
   "execution_count": 5,
   "metadata": {},
   "outputs": [],
   "source": [
    "# define area name\n",
    "\n",
    "area_name = 'Central'"
   ]
  },
  {
   "cell_type": "markdown",
   "metadata": {},
   "source": [
    "## Convert to one mosaic (only do it once)"
   ]
  },
  {
   "cell_type": "code",
   "execution_count": 6,
   "metadata": {},
   "outputs": [],
   "source": [
    "# make tif\n",
    "\n",
    "if not os.path.exists(f\"NDWI_composite/{area_name.lower()}_NDWI_mosaic.tif\"):\n",
    "    os.chdir('NDWI_composite')\n",
    "    os.system(f\"gdalbuildvrt {area_name.lower()}_NDWI_mosaic.vrt {area_name.lower()}_NDWI_tile*.tif\")\n",
    "    os.system(\"gdal_translate \"\\\n",
    "       \"-co BIGTIFF=YES \"\\\n",
    "       \"-co COMPRESS=DEFLATE \"\\\n",
    "       \"-co ZLEVEL=9 \"\\\n",
    "       \"-co PREDICTOR=1 \"\\\n",
    "       \"-co TILED=YES \"\\\n",
    "       \"-co BLOCKXSIZE=1024 \"\\\n",
    "       \"-co BLOCKYSIZE=1024 \"\\\n",
    "       +f\"{area_name.lower()}_NDWI_mosaic.vrt \"+ f\"{area_name.lower()}_NDWI_mosaic.tif\")\n",
    "    os.chdir('../')"
   ]
  },
  {
   "cell_type": "markdown",
   "metadata": {},
   "source": [
    "## Load NDWI mosaic and clip to AEZ (TODO: use AEZ-large_water_bodies)"
   ]
  },
  {
   "cell_type": "code",
   "execution_count": null,
   "metadata": {},
   "outputs": [],
   "source": [
    "if not os.path.exists(area_name): os.mkdir(area_name)"
   ]
  },
  {
   "cell_type": "code",
   "execution_count": null,
   "metadata": {},
   "outputs": [],
   "source": [
    "ds = xr.open_rasterio(f\"NDWI_composite/{area_name.lower()}_NDWI_mosaic.tif\").squeeze()"
   ]
  },
  {
   "cell_type": "code",
   "execution_count": null,
   "metadata": {},
   "outputs": [],
   "source": [
    "#load shapefile\n",
    "gdf = gpd.read_file(f'../../../../shapes/simplified_AEZs/{area_name}.shp')\n",
    "#rasterize shapeile\n",
    "mask = xr_rasterize(gdf=gdf,\n",
    "                     da=ds)\n",
    "\n",
    "ds = ds.where(mask)\n",
    "ds = ds.where(ds!=0)"
   ]
  },
  {
   "cell_type": "code",
   "execution_count": null,
   "metadata": {},
   "outputs": [],
   "source": [
    "dataset = ds.to_dataset(name='ndwi')"
   ]
  },
  {
   "cell_type": "code",
   "execution_count": null,
   "metadata": {},
   "outputs": [],
   "source": [
    "\n",
    "#ds.plot.imshow();"
   ]
  },
  {
   "cell_type": "code",
   "execution_count": null,
   "metadata": {},
   "outputs": [],
   "source": [
    "del mask"
   ]
  },
  {
   "cell_type": "markdown",
   "metadata": {},
   "source": [
    "## Check NDWI distribution and determine thresholds"
   ]
  },
  {
   "cell_type": "code",
   "execution_count": null,
   "metadata": {},
   "outputs": [],
   "source": [
    "if not os.path.exists(f'{area_name}/ndwi_{area_name}.csv'):\n",
    "    histy, histx, tmp = dataset.ndwi.plot.hist(bins=100, cumulative=True, density=True);\n",
    "    np.savetxt(f'{area_name}/ndwi_{area_name}.csv', np.vstack((histx[1:], histy)).transpose(),fmt='%.3f', delimiter=',')"
   ]
  },
  {
   "cell_type": "code",
   "execution_count": null,
   "metadata": {},
   "outputs": [],
   "source": [
    "# use wofs\n",
    "x, y = np.loadtxt(f'wofs_summary_aez/wofs_{area_name}.csv', delimiter=',', unpack=True)\n",
    "ephem = 0.1\n",
    "perm = 0.9\n",
    "perc = np.interp([ephem, perm], x, y)\n",
    "print('percentile for ephemeral and permanent water', perc)\n",
    "histx, histy = np.loadtxt(f'{area_name}/ndwi_{area_name}.csv', delimiter=',', unpack=True)\n",
    "thresh = np.interp(perc, histy, histx)\n",
    "print('Thresholds', thresh)"
   ]
  },
  {
   "cell_type": "markdown",
   "metadata": {},
   "source": [
    "## Classify into dry, ephemeral and permanent"
   ]
  },
  {
   "cell_type": "code",
   "execution_count": null,
   "metadata": {},
   "outputs": [],
   "source": [
    "#threshold = {'Eastern': (-0.06, 0.03),\n",
    "#             'Western': (-0.14, -0.035)\n",
    "##            }\n",
    "#low, high = threshold[area_name]\n",
    "\n",
    "low, high = thresh[0], thresh[1]\n",
    "\n",
    "label = np.zeros_like(dataset.ndwi.values, dtype=np.uint8)\n",
    "label += (dataset.ndwi.values>=high).astype(np.uint8)*3\n",
    "label += ((dataset.ndwi.values>=low) & (dataset.ndwi.values<high)).astype(np.uint8)*2\n",
    "label +=(dataset.ndwi.values<low).astype(np.uint8)*1\n",
    "dataset['label'] = ('y','x'), label\n",
    "dataset['label'].attrs = dataset.ndwi.attrs"
   ]
  },
  {
   "cell_type": "code",
   "execution_count": 1,
   "metadata": {},
   "outputs": [
    {
     "ename": "NameError",
     "evalue": "name 'dataset' is not defined",
     "output_type": "error",
     "traceback": [
      "\u001b[0;31m---------------------------------------------------------------------------\u001b[0m",
      "\u001b[0;31mNameError\u001b[0m                                 Traceback (most recent call last)",
      "\u001b[0;32m<ipython-input-1-26641c66525b>\u001b[0m in \u001b[0;36m<module>\u001b[0;34m\u001b[0m\n\u001b[1;32m      3\u001b[0m \u001b[0;32mfrom\u001b[0m \u001b[0mdatacube\u001b[0m\u001b[0;34m.\u001b[0m\u001b[0mutils\u001b[0m\u001b[0;34m.\u001b[0m\u001b[0mcog\u001b[0m \u001b[0;32mimport\u001b[0m \u001b[0mwrite_cog\u001b[0m\u001b[0;34m\u001b[0m\u001b[0;34m\u001b[0m\u001b[0m\n\u001b[1;32m      4\u001b[0m \u001b[0;34m\u001b[0m\u001b[0m\n\u001b[0;32m----> 5\u001b[0;31m \u001b[0mwrite_cog\u001b[0m\u001b[0;34m(\u001b[0m\u001b[0mdataset\u001b[0m\u001b[0;34m.\u001b[0m\u001b[0mlabel\u001b[0m\u001b[0;34m,\u001b[0m \u001b[0;34mf'{area_name}/{area_name}_label.tif'\u001b[0m\u001b[0;34m)\u001b[0m\u001b[0;34m\u001b[0m\u001b[0;34m\u001b[0m\u001b[0m\n\u001b[0m",
      "\u001b[0;31mNameError\u001b[0m: name 'dataset' is not defined"
     ]
    }
   ],
   "source": [
    "# save classes\n",
    "\n",
    "from datacube.utils.cog import write_cog\n",
    "\n",
    "write_cog(dataset.label, f'{area_name}/{area_name}_label.tif')"
   ]
  },
  {
   "cell_type": "markdown",
   "metadata": {},
   "source": [
    "## plot classified ndwi"
   ]
  },
  {
   "cell_type": "code",
   "execution_count": null,
   "metadata": {},
   "outputs": [],
   "source": [
    "#dataset.label.plot.imshow(figsize=(10,10));\n",
    "#plt.savefig(f'{area_name}_ndwi_classes.png')"
   ]
  },
  {
   "cell_type": "markdown",
   "metadata": {},
   "source": [
    "## sample from array"
   ]
  },
  {
   "cell_type": "code",
   "execution_count": null,
   "metadata": {},
   "outputs": [],
   "source": [
    "del ds"
   ]
  },
  {
   "cell_type": "code",
   "execution_count": null,
   "metadata": {},
   "outputs": [],
   "source": [
    "n_class= 3\n",
    "class_sizes =[]\n",
    "for class_id in np.arange(1, n_class+1):\n",
    "    class_sizes.append((dataset.label==class_id).sum().values)\n",
    "\n",
    "class_sizes = np.array(class_sizes)\n",
    "print(class_sizes)\n",
    "print(class_sizes/class_sizes.sum())"
   ]
  },
  {
   "cell_type": "code",
   "execution_count": null,
   "metadata": {},
   "outputs": [],
   "source": [
    "n_sample = 500\n",
    "n_sample_class = np.ceil(n_sample*1./ n_class).astype(int)\n",
    "print(n_sample_class)"
   ]
  },
  {
   "cell_type": "code",
   "execution_count": null,
   "metadata": {},
   "outputs": [],
   "source": [
    "label_picked = {}\n",
    "for class_id in np.arange(1, n_class+1):\n",
    "    index = np.argwhere(dataset.label.values.flatten() == class_id).squeeze()\n",
    "    picked = np.random.choice(index, n_sample_class, replace=False)\n",
    "    # convert back to x, y \n",
    "    y, x  = np.unravel_index(picked, dataset.label.values.shape)\n",
    "    label_picked[class_id] = (y, x)\n",
    "    np.savetxt(f'{area_name}/{area_name}_class_{class_id}.csv', np.vstack((dataset.y[y].values, dataset.x[x].values)).transpose(),fmt='%d', delimiter=',')"
   ]
  },
  {
   "cell_type": "code",
   "execution_count": null,
   "metadata": {},
   "outputs": [],
   "source": [
    "for class_id in np.arange(1, n_class+1):\n",
    "    y, x = label_picked[class_id]\n",
    "    df = pd.DataFrame({'y':y, 'x':x})\n",
    "    df['class']=class_id\n",
    "    if class_id ==1: \n",
    "        dfs = df\n",
    "    else: \n",
    "        dfs = dfs.append(df, ignore_index=True)"
   ]
  },
  {
   "cell_type": "code",
   "execution_count": null,
   "metadata": {},
   "outputs": [],
   "source": [
    "gdf = gpd.GeoDataFrame(\n",
    "        dfs,\n",
    "        crs=dataset.label.crs,\n",
    "        geometry=gpd.points_from_xy(dfs.x, dfs.y)).reset_index()\n",
    "\n",
    "gdf = gdf.drop(['x', 'y'],axis=1)\n",
    "\n",
    "gdf.to_file(f'{area_name}/{area_name}_samples.shp')"
   ]
  },
  {
   "cell_type": "code",
   "execution_count": null,
   "metadata": {},
   "outputs": [],
   "source": []
  }
 ],
 "metadata": {
  "kernelspec": {
   "display_name": "Python 3",
   "language": "python",
   "name": "python3"
  },
  "language_info": {
   "codemirror_mode": {
    "name": "ipython",
    "version": 3
   },
   "file_extension": ".py",
   "mimetype": "text/x-python",
   "name": "python",
   "nbconvert_exporter": "python",
   "pygments_lexer": "ipython3",
   "version": "3.6.9"
  }
 },
 "nbformat": 4,
 "nbformat_minor": 4
}
