{
 "cells": [
  {
   "cell_type": "code",
   "execution_count": 5,
   "metadata": {},
   "outputs": [],
   "source": [
    "%matplotlib inline\n",
    "from matplotlib import pyplot as plt\n",
    "\n",
    "import datacube\n",
    "from datacube.utils import geometry\n",
    "import numpy as np\n",
    "import geopandas as gpd\n",
    "\n",
    "import sys\n",
    "sys.path.append('../Scripts')\n",
    "from deafrica_spatialtools import xr_rasterize\n"
   ]
  },
  {
   "cell_type": "code",
   "execution_count": 6,
   "metadata": {},
   "outputs": [],
   "source": [
    "dc = datacube.Datacube()"
   ]
  },
  {
   "cell_type": "code",
   "execution_count": 7,
   "metadata": {},
   "outputs": [],
   "source": [
    "import glob, os\n",
    "\n",
    "areas = glob.glob('../../shapes/simplified_AEZs/*.shp')"
   ]
  },
  {
   "cell_type": "code",
   "execution_count": null,
   "metadata": {},
   "outputs": [
    {
     "name": "stdout",
     "output_type": "stream",
     "text": [
      "Indian_ocean\n",
      "Rasterizing to match xarray.DataArray dimensions (57389, 24975) and projection system/CRS (e.g. PROJCS[\"WGS 84 / NSIDC EASE-Grid 2.0 Global\",GEOGCS[\"WGS 84\",DATUM[\"WGS_1984\",SPHEROID[\"WGS 84\",6378137,298.257223563,AUTHORITY[\"EPSG\",\"7030\"]],AUTHORITY[\"EPSG\",\"6326\"]],PRIMEM[\"Greenwich\",0,AUTHORITY[\"EPSG\",\"8901\"]],UNIT[\"degree\",0.0174532925199433,AUTHORITY[\"EPSG\",\"9122\"]],AUTHORITY[\"EPSG\",\"4326\"]],PROJECTION[\"Cylindrical_Equal_Area\"],PARAMETER[\"standard_parallel_1\",30],PARAMETER[\"central_meridian\",0],PARAMETER[\"false_easting\",0],PARAMETER[\"false_northing\",0],UNIT[\"metre\",1,AUTHORITY[\"EPSG\",\"9001\"]],AXIS[\"Easting\",EAST],AXIS[\"Northing\",NORTH],AUTHORITY[\"EPSG\",\"6933\"]])\n"
     ]
    }
   ],
   "source": [
    "%%time\n",
    "\n",
    "for aez_region in areas:\n",
    "    name = aez_region.split('/')[-1].split('.')[0]\n",
    "    if os.path.exists(f'wofs_summary_aez/wofs_{name}.csv'): continue\n",
    "    if name in ['Sahel', 'Northern','Southern']: continue\n",
    "    print(name)\n",
    "    aez=gpd.read_file(aez_region)\n",
    "    geom = geometry.Geometry(aez.iloc[0].geometry.__geo_interface__,\n",
    "                             geometry.CRS(f'EPSG:{aez.crs.to_epsg()}'))\n",
    "    # load wofs\n",
    "    wofs = dc.load(product='ga_ls8c_wofs_2_summary', measurements=['frequency'], dask_chunks={'x':2000,'y':2000}, geopolygon=geom).squeeze()\n",
    "    # clip\n",
    "    mask = xr_rasterize(gdf=aez, da=wofs.frequency)\n",
    "    clipped_wofs = wofs.where(mask)\n",
    "    \n",
    "    histy, histx, temp = clipped_wofs.frequency.plot.hist(bins=np.arange(0.0,1.05,0.05), cumulative=True, density=True)\n",
    "    np.savetxt(f'results/wofs_summary_aez/wofs_{name}.csv', np.vstack((histx[1:], histy)).transpose(),fmt='%.3f', delimiter=',')\n",
    "    \n",
    "    fig=plt.figure()\n",
    "    plt.plot(histx[1:],histy)\n",
    "    plt.xlim((0,1))\n",
    "    plt.xticks(np.arange(0,1.05,0.1))\n",
    "    plt.xlabel('upper bound wofs frequency')\n",
    "    plt.ylabel('fraction of pixels')\n",
    "    plt.savefig(f'wofs_summary_aez/wofs_{name}.png')\n",
    "\n",
    "    \n",
    "    continue\n",
    "    # for bigger regions\n",
    "    bins = np.arange(0.1,1.05,0.1)\n",
    "    cum_count = []\n",
    "    for upper in bins:\n",
    "        cum_count.append((clipped_wofs.frequency<upper).sum().values)\n",
    "    cum_count = np.array(cum_count)\n",
    "    cum = cum_count/cum_count[-1]\n",
    "    np.savetxt(f'wofs_summary_aez/wofs_{name}.csv', np.vstack((bins[1:], cum, cum_count)).transpose(),fmt='%.2f, %.3f, %d', delimiter=',')\n",
    "    "
   ]
  },
  {
   "cell_type": "code",
   "execution_count": null,
   "metadata": {},
   "outputs": [],
   "source": []
  }
 ],
 "metadata": {
  "kernelspec": {
   "display_name": "Python 3",
   "language": "python",
   "name": "python3"
  },
  "language_info": {
   "codemirror_mode": {
    "name": "ipython",
    "version": 3
   },
   "file_extension": ".py",
   "mimetype": "text/x-python",
   "name": "python",
   "nbconvert_exporter": "python",
   "pygments_lexer": "ipython3",
   "version": "3.6.9"
  }
 },
 "nbformat": 4,
 "nbformat_minor": 4
}
