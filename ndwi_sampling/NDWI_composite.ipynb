{
 "cells": [
  {
   "cell_type": "markdown",
   "metadata": {},
   "source": [
    "# NDWI composites\n",
    "\n",
    "For use in stratifying WOfS validation\n"
   ]
  },
  {
   "cell_type": "markdown",
   "metadata": {},
   "source": [
    "### Load packages"
   ]
  },
  {
   "cell_type": "code",
   "execution_count": 12,
   "metadata": {},
   "outputs": [],
   "source": [
    "%matplotlib inline\n",
    "\n",
    "import geopandas as gpd\n",
    "import datacube\n",
    "from datacube.utils import geometry\n",
    "# from datacube.helpers import write_geotiff\n",
    "from datacube.utils.cog import write_cog\n",
    "import warnings\n",
    "warnings.filterwarnings(\"ignore\")\n",
    "\n",
    "import os\n",
    "import xarray as xr\n",
    "import numpy as np\n",
    "\n",
    "\n",
    "import sys\n",
    "sys.path.append('../Scripts')\n",
    "from deafrica_datahandling import load_ard\n",
    "from deafrica_dask import create_local_dask_cluster\n",
    "from deafrica_spatialtools import xr_rasterize\n",
    "from deafrica_classificationtools import HiddenPrints\n",
    "from deafrica_plotting import map_shapefile\n",
    "from deafrica_bandindices import calculate_indices"
   ]
  },
  {
   "cell_type": "markdown",
   "metadata": {},
   "source": [
    "### Set up a dask cluster"
   ]
  },
  {
   "cell_type": "code",
   "execution_count": 13,
   "metadata": {},
   "outputs": [
    {
     "data": {
      "text/html": [
       "<table style=\"border: 2px solid white;\">\n",
       "<tr>\n",
       "<td style=\"vertical-align: top; border: 0px solid white\">\n",
       "<h3 style=\"text-align: left;\">Client</h3>\n",
       "<ul style=\"text-align: left; list-style: none; margin: 0; padding: 0;\">\n",
       "  <li><b>Scheduler: </b>tcp://127.0.0.1:45617</li>\n",
       "  <li><b>Dashboard: </b><a href='/user/neginm/proxy/35263/status' target='_blank'>/user/neginm/proxy/35263/status</a></li>\n",
       "</ul>\n",
       "</td>\n",
       "<td style=\"vertical-align: top; border: 0px solid white\">\n",
       "<h3 style=\"text-align: left;\">Cluster</h3>\n",
       "<ul style=\"text-align: left; list-style:none; margin: 0; padding: 0;\">\n",
       "  <li><b>Workers: </b>1</li>\n",
       "  <li><b>Cores: </b>15</li>\n",
       "  <li><b>Memory: </b>104.37 GB</li>\n",
       "</ul>\n",
       "</td>\n",
       "</tr>\n",
       "</table>"
      ],
      "text/plain": [
       "<Client: 'tcp://127.0.0.1:45617' processes=1 threads=15, memory=104.37 GB>"
      ]
     },
     "metadata": {},
     "output_type": "display_data"
    }
   ],
   "source": [
    "create_local_dask_cluster(aws_unsigned=False)"
   ]
  },
  {
   "cell_type": "markdown",
   "metadata": {},
   "source": [
    "### Connect to the datacube"
   ]
  },
  {
   "cell_type": "code",
   "execution_count": 14,
   "metadata": {},
   "outputs": [],
   "source": [
    "dc = datacube.Datacube(app='Geomedian_composites')"
   ]
  },
  {
   "cell_type": "markdown",
   "metadata": {},
   "source": [
    "## Analysis Parameters"
   ]
  },
  {
   "cell_type": "code",
   "execution_count": 15,
   "metadata": {},
   "outputs": [],
   "source": [
    "area = 'Northern'"
   ]
  },
  {
   "cell_type": "code",
   "execution_count": 16,
   "metadata": {},
   "outputs": [],
   "source": [
    "time_range = ('2013','2019')\n",
    "\n",
    "vector_file = 'data/Tiles/tiles.shp'\n",
    "attribute_col = 'id'\n",
    "aez_region = f'data/simplified_AEZs/AEZs_ExcludeLargeWB_{area}.shp'\n",
    "\n",
    "products = ['usgs_ls8c_level2_2']\n",
    "measurements = ['green', 'nir']\n",
    "resolution = (-30, 30)\n",
    "output_crs = 'EPSG:6933'\n",
    "align = (15,15)\n",
    "dask_chunks= {'x':2500,'y':2500, 'time':1}\n",
    "\n",
    "export_prefix=f\"NDWI_composite/{area.lower()}_NDWI_tile-\"\n",
    "if not os.path.exists(os.path.dirname(export_prefix)): os.system('mkdir -p '+os.path.dirname(export_prefix))"
   ]
  },
  {
   "cell_type": "markdown",
   "metadata": {},
   "source": [
    "### Set up a query"
   ]
  },
  {
   "cell_type": "code",
   "execution_count": 17,
   "metadata": {},
   "outputs": [
    {
     "data": {
      "text/plain": [
       "{'time': ('2013', '2019'),\n",
       " 'measurements': ['green', 'nir'],\n",
       " 'resolution': (-30, 30),\n",
       " 'output_crs': 'EPSG:6933',\n",
       " 'align': (15, 15),\n",
       " 'dask_chunks': {'x': 2500, 'y': 2500, 'time': 1}}"
      ]
     },
     "execution_count": 17,
     "metadata": {},
     "output_type": "execute_result"
    }
   ],
   "source": [
    "# Create a reusable query\n",
    "query = {'time': time_range,\n",
    "         'measurements': measurements,\n",
    "         'resolution': resolution,\n",
    "         'output_crs': output_crs,\n",
    "         'align': align,\n",
    "         'dask_chunks':dask_chunks\n",
    "         }\n",
    "\n",
    "query"
   ]
  },
  {
   "cell_type": "markdown",
   "metadata": {},
   "source": [
    "### Open and clip shapefiles\n",
    "\n",
    "Open `tiles.shp` and clip it to the boundary shapefile (in this example the `aez_region`)\n"
   ]
  },
  {
   "cell_type": "code",
   "execution_count": 18,
   "metadata": {},
   "outputs": [],
   "source": [
    "#read shapefile\n",
    "gdf = gpd.read_file(vector_file)\n",
    "\n",
    "#open shapefile\n",
    "aez=gpd.read_file(aez_region)\n",
    "\n",
    "# clip points to region\n",
    "gdf = gpd.overlay(gdf, aez, how='intersection')"
   ]
  },
  {
   "cell_type": "markdown",
   "metadata": {},
   "source": [
    "### Add a unique identifier\n",
    "\n",
    "and plot the tiles using `map_shapefile`, you can hover your mouse over the tiles to see the ID "
   ]
  },
  {
   "cell_type": "code",
   "execution_count": 19,
   "metadata": {},
   "outputs": [
    {
     "name": "stdout",
     "output_type": "stream",
     "text": [
      "      FID  OBJECTID      Zone      AreaSQKM  Shape_Leng  Shape_Area  \\\n",
      "0       1         5  Northern  5.746049e+06  196.217268  527.213303   \n",
      "1       2         5  Northern  5.746049e+06  196.217268  527.213303   \n",
      "2       3         5  Northern  5.746049e+06  196.217268  527.213303   \n",
      "3       4         5  Northern  5.746049e+06  196.217268  527.213303   \n",
      "4       5         5  Northern  5.746049e+06  196.217268  527.213303   \n",
      "..    ...       ...       ...           ...         ...         ...   \n",
      "317  1371         5  Northern  5.746049e+06  196.217268  527.213303   \n",
      "318  1372         5  Northern  5.746049e+06  196.217268  527.213303   \n",
      "319  1373         5  Northern  5.746049e+06  196.217268  527.213303   \n",
      "320  1374         5  Northern  5.746049e+06  196.217268  527.213303   \n",
      "321  1375         5  Northern  5.746049e+06  196.217268  527.213303   \n",
      "\n",
      "                                              geometry   id  \n",
      "0    POLYGON ((-1.55463 29.47104, -1.55463 30.82621...    0  \n",
      "1    POLYGON ((-3.10925 28.13338, -3.10925 29.47104...    1  \n",
      "2    POLYGON ((-1.55463 28.13338, -1.55463 29.47104...    2  \n",
      "3    POLYGON ((-3.10925 29.47104, -3.10925 30.82621...    3  \n",
      "4    POLYGON ((-4.66388 29.47104, -4.66388 30.82621...    4  \n",
      "..                                                 ...  ...  \n",
      "317  POLYGON ((10.88238 24.21247, 10.88238 25.50530...  317  \n",
      "318  POLYGON ((12.43700 23.42161, 12.43700 24.21247...  318  \n",
      "319  POLYGON ((12.43700 24.21247, 12.43700 25.50530...  319  \n",
      "320  POLYGON ((13.99163 24.21247, 13.99163 25.50530...  320  \n",
      "321  POLYGON ((13.99163 22.93235, 13.99163 24.21247...  321  \n",
      "\n",
      "[322 rows x 8 columns]\n"
     ]
    },
    {
     "data": {
      "application/vnd.jupyter.widget-view+json": {
       "model_id": "774e4a1b011d4596874fd70b9e0bcf91",
       "version_major": 2,
       "version_minor": 0
      },
      "text/plain": [
       "Label(value='')"
      ]
     },
     "metadata": {},
     "output_type": "display_data"
    },
    {
     "data": {
      "application/vnd.jupyter.widget-view+json": {
       "model_id": "5bcb6af7baa24956ab702af35dd134e8",
       "version_major": 2,
       "version_minor": 0
      },
      "text/plain": [
       "Map(center=[28.15482499997384, 9.34584000001604], controls=(ZoomControl(options=['position', 'zoom_in_text', '…"
      ]
     },
     "metadata": {},
     "output_type": "display_data"
    }
   ],
   "source": [
    "# add an ID column\n",
    "gdf[attribute_col]=range(0, len(gdf))\n",
    "\n",
    "print (gdf)\n",
    "map_shapefile(gdf, attribute_col)"
   ]
  },
  {
   "cell_type": "code",
   "execution_count": 20,
   "metadata": {},
   "outputs": [
    {
     "data": {
      "text/plain": [
       "322"
      ]
     },
     "execution_count": 20,
     "metadata": {},
     "output_type": "execute_result"
    }
   ],
   "source": [
    "len(gdf)"
   ]
  },
  {
   "cell_type": "markdown",
   "metadata": {},
   "source": [
    "### Generate a NDWI composite\n"
   ]
  },
  {
   "cell_type": "code",
   "execution_count": 21,
   "metadata": {},
   "outputs": [
    {
     "name": "stdout",
     "output_type": "stream",
     "text": [
      "Working on tile: 177\n",
      "     Writing to file...\n",
      "CPU times: user 36.2 s, sys: 2.67 s, total: 38.9 s\n",
      "Wall time: 3min 25s\n"
     ]
    }
   ],
   "source": [
    "%%time\n",
    "\n",
    "# Loop through polygons in geodataframe and extract satellite data\n",
    "for index, row in gdf.iloc[gdf['id'].loc[175:178]].iterrows():\n",
    "    \n",
    "    output_name = export_prefix+str(row[attribute_col]) + '.tif'\n",
    "    if os.path.exists(output_name):\n",
    "        # redo tiles with missing data\n",
    "        data = xr.open_rasterio(output_name)\n",
    "        bad_frac = np.isnan(data).mean().values\n",
    "        if bad_frac < 0.0001: continue\n",
    "        t = os.system('rm '+output_name)\n",
    "    \n",
    "    print(\"Working on tile: \"+str(gdf['id'][index]))\n",
    "    \n",
    "    # Get the geometry\n",
    "    geom = geometry.Geometry(row.geometry.__geo_interface__,\n",
    "                             geometry.CRS(f'EPSG:{gdf.crs.to_epsg()}'))\n",
    "    \n",
    "    # Update dc query with geometry      \n",
    "    query.update({'geopolygon': geom}) \n",
    "    \n",
    "    #try to comment this following bit in order to see whether it works or not - hides the printing out the unncessary information  \n",
    "    with HiddenPrints():\n",
    "        try:\n",
    "            ds = load_ard(dc=dc, \n",
    "                          products=products,                 \n",
    "                          group_by='solar_day',\n",
    "                          **query)\n",
    "        except: \n",
    "            continue\n",
    "    \n",
    "    # Generate a polygon mask to keep only data within the polygon\n",
    "#     with HiddenPrints():\n",
    "#         mask = xr_rasterize(gdf.iloc[[index]], ds)\n",
    "    \n",
    "#     # Mask dataset to set pixels outside the polygon to `NaN`\n",
    "#     ds = ds.where(mask)\n",
    "    \n",
    "    with HiddenPrints():\n",
    "        ds = calculate_indices(ds, 'NDWI',collection='c2', drop=True)\n",
    "    \n",
    "    ndwi = ds.NDWI.median('time') \n",
    "    \n",
    "    print(\"     Writing to file...\")    \n",
    "    write_cog(ndwi.compute(), output_name)\n",
    "    "
   ]
  },
  {
   "cell_type": "markdown",
   "metadata": {},
   "source": [
    "---\n",
    "Code to get geojson from datacube UI "
   ]
  },
  {
   "cell_type": "code",
   "execution_count": 11,
   "metadata": {},
   "outputs": [
    {
     "data": {
      "application/vnd.jupyter.widget-view+json": {
       "model_id": "89b98665db854242a62ec747ece73754",
       "version_major": 2,
       "version_minor": 0
      },
      "text/plain": [
       "VBox(children=(HBox(children=(Dropdown(layout=Layout(flex='0 1 auto', width='10em'), options=('ga_ls8c_gm_2_an…"
      ]
     },
     "metadata": {},
     "output_type": "display_data"
    }
   ],
   "source": [
    "from datacube import Datacube\n",
    "from odc.ui import DcViewer\n",
    "dc = Datacube()\n",
    "ui = DcViewer(dc, \"2018\", products=['ga_ls8c_gm_2_annual'])\n",
    "ui"
   ]
  },
  {
   "cell_type": "code",
   "execution_count": 12,
   "metadata": {},
   "outputs": [],
   "source": [
    "x = ui._gui.map.layers[1].data\n",
    "\n",
    "from shapely.geometry import shape\n",
    "geom = [shape(i) for i in x['features']]\n",
    "gdf = gpd.GeoDataFrame({'geometry':geom}, crs='EPSG:4326')\n",
    "gdf.to_file('data/tiles.shp')"
   ]
  }
 ],
 "metadata": {
  "kernelspec": {
   "display_name": "Python 3",
   "language": "python",
   "name": "python3"
  },
  "language_info": {
   "codemirror_mode": {
    "name": "ipython",
    "version": 3
   },
   "file_extension": ".py",
   "mimetype": "text/x-python",
   "name": "python",
   "nbconvert_exporter": "python",
   "pygments_lexer": "ipython3",
   "version": "3.6.9"
  },
  "widgets": {
   "application/vnd.jupyter.widget-state+json": {
    "state": {},
    "version_major": 2,
    "version_minor": 0
   }
  }
 },
 "nbformat": 4,
 "nbformat_minor": 4
}
