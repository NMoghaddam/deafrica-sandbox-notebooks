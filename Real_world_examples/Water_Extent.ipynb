{
 "cells": [
  {
   "cell_type": "markdown",
   "metadata": {},
   "source": [
    "# Water Extent <img align=\"right\" src=\"../Supplementary_data/DE_Africa_Logo_Stacked_RGB_small.jpg\">\n",
    "\n",
    "* **Products used:** \n",
    "[ls8_usgs_sr_scene](https://explorer.digitalearth.africa/ls8_usgs_sr_scene), \n",
    "[ga_ls8c_wofs_2_annual_summary](ga_ls8c_wofs_2_annual_summary),\n",
    "\n"
   ]
  },
  {
   "cell_type": "markdown",
   "metadata": {},
   "source": [
    "## Background\n",
    "An *optional* overview of the scientific, economic or environmental management issue or challenge being addressed by Digital Earth Africa. \n",
    "For `Beginners_Guide` or `Frequently_Used_Code` notebooks, this may include information about why the particular technique or approach is useful or required. \n",
    "If you need to cite a scientific paper or link to a website, use a persistent DOI link if possible and link in-text (e.g. [Dhu et al. 2017](https://doi.org/10.1080/20964471.2017.1402490))."
   ]
  },
  {
   "cell_type": "markdown",
   "metadata": {},
   "source": [
    "## Description\n",
    "A _compulsory_ description of the notebook, including a brief overview of how Digital Earth Africa helps to address the problem set out above.\n",
    "It can be good to include a run-down of the tools/methods that will be demonstrated in the notebook:\n",
    "\n",
    "1. First we do this\n",
    "2. Then we do this\n",
    "3. Finally we do this\n",
    "\n",
    "***"
   ]
  },
  {
   "cell_type": "markdown",
   "metadata": {},
   "source": [
    "## Getting started\n",
    "\n",
    "Provide any particular instructions that the user might need, e.g. To run this analysis, run all the cells in the notebook, starting with the \"Load packages\" cell. "
   ]
  },
  {
   "cell_type": "markdown",
   "metadata": {},
   "source": [
    "### Load packages\n",
    "Import Python packages that are used for the analysis.\n",
    "\n",
    "Use standard import commands; some are shown below. \n",
    "Begin with any `iPython` magic commands, followed by standard Python packages, then any additional functionality you need from the `Scripts` directory."
   ]
  },
  {
   "cell_type": "code",
   "execution_count": 1,
   "metadata": {},
   "outputs": [],
   "source": [
    "%matplotlib inline\n",
    "\n",
    "import datacube\n",
    "import matplotlib.pyplot as plt\n",
    "import numpy as np\n",
    "import pandas as pd\n",
    "import sys, warnings\n",
    "import xarray as xr\n",
    "\n",
    "sys.path.append('../Scripts')\n",
    "\n",
    "warnings.filterwarnings(\"ignore\")\n",
    "\n",
    "from deafrica_datahandling import mostcommon_crs, load_ard, wofs_fuser\n",
    "from deafrica_bandindices import calculate_indices\n",
    "from deafrica_plotting import display_map, rgb\n",
    "from deafrica_dask import create_local_dask_cluster\n",
    "\n"
   ]
  },
  {
   "cell_type": "markdown",
   "metadata": {},
   "source": [
    "### Connect to the datacube\n",
    "\n",
    "Connect to the datacube so we can access DEA data.\n",
    "The `app` parameter is a unique name for the analysis which is based on the notebook file name."
   ]
  },
  {
   "cell_type": "code",
   "execution_count": 2,
   "metadata": {},
   "outputs": [
    {
     "data": {
      "text/html": [
       "<table style=\"border: 2px solid white;\">\n",
       "<tr>\n",
       "<td style=\"vertical-align: top; border: 0px solid white\">\n",
       "<h3 style=\"text-align: left;\">Client</h3>\n",
       "<ul style=\"text-align: left; list-style: none; margin: 0; padding: 0;\">\n",
       "  <li><b>Scheduler: </b>tcp://127.0.0.1:38493</li>\n",
       "  <li><b>Dashboard: </b><a href='/user/nanaboamah/proxy/8787/status' target='_blank'>/user/nanaboamah/proxy/8787/status</a></li>\n",
       "</ul>\n",
       "</td>\n",
       "<td style=\"vertical-align: top; border: 0px solid white\">\n",
       "<h3 style=\"text-align: left;\">Cluster</h3>\n",
       "<ul style=\"text-align: left; list-style:none; margin: 0; padding: 0;\">\n",
       "  <li><b>Workers: </b>1</li>\n",
       "  <li><b>Cores: </b>2</li>\n",
       "  <li><b>Memory: </b>14.18 GB</li>\n",
       "</ul>\n",
       "</td>\n",
       "</tr>\n",
       "</table>"
      ],
      "text/plain": [
       "<Client: 'tcp://127.0.0.1:38493' processes=1 threads=2, memory=14.18 GB>"
      ]
     },
     "metadata": {},
     "output_type": "display_data"
    }
   ],
   "source": [
    "dc = datacube.Datacube(app='water_extent')\n",
    "\n",
    "create_local_dask_cluster()"
   ]
  },
  {
   "cell_type": "code",
   "execution_count": 3,
   "metadata": {},
   "outputs": [],
   "source": [
    "# Define the area of interest\n",
    "\n",
    "# Lake Sulunga, Tanzania\n",
    "# lat_range = (-6.3605, -5.8252) # Large \n",
    "# lon_range  = (34.9756, 35.4535) # Large\n",
    "lat_range = (-6.2593, -5.8701) # Small (close fit)\n",
    "lon_range = (34.9901, 35.3641) #  Small (close fit)\n",
    "\n",
    "\n",
    "# Set the range of dates for the complete sample\n",
    "time = ('2013-01-01', '2019-12-01')\n"
   ]
  },
  {
   "cell_type": "code",
   "execution_count": 4,
   "metadata": {},
   "outputs": [
    {
     "data": {
      "text/html": [
       "<div style=\"width:100%;\"><div style=\"position:relative;width:100%;height:0;padding-bottom:60%;\"><iframe src=\"data:text/html;charset=utf-8;base64,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\" style=\"position:absolute;width:100%;height:100%;left:0;top:0;border:none !important;\" allowfullscreen webkitallowfullscreen mozallowfullscreen></iframe></div></div>"
      ],
      "text/plain": [
       "<folium.folium.Map at 0x7f04e4071b70>"
      ]
     },
     "execution_count": 4,
     "metadata": {},
     "output_type": "execute_result"
    }
   ],
   "source": [
    "display_map(x=lon_range, y=lat_range, zoom_bias=1 )"
   ]
  },
  {
   "cell_type": "markdown",
   "metadata": {},
   "source": [
    "## Load and view Landsat data\n",
    "\n",
    "The first step in the analysis is to load Landsat data for the specified area of interest and time range. \n",
    "\n",
    "The code below will create a query dictionary for our region of interest, find the correct `crs` object for the area of interest, and then load the Landsat data using the `load_ard` function.\n",
    "For more infmation, see the [Using load_ard notebook](../Frequently_used_code/Using_load_ard.ipynb).\n",
    "The function will also automatically mask out clouds from the dataset, allowing us to focus on pixels that contain useful data.\n",
    "It will also exclude images where more than 70% of the pixels are masked, which is set using the `min_gooddata` parameter in the `load_ard` call.\n"
   ]
  },
  {
   "cell_type": "code",
   "execution_count": 5,
   "metadata": {},
   "outputs": [],
   "source": [
    "#Create a query object\n",
    "\n",
    "start_year = 2013\n",
    "end_year = 2019\n",
    "\n",
    "query = {\n",
    "    'x': lon_range,\n",
    "    'y': lat_range,\n",
    "    'group_by': 'solar_day',\n",
    "    'resolution': (-30, 30),\n",
    "    'align': (15, 15),\n",
    "    'time': (start_year, end_year)\n",
    "}\n",
    "\n",
    "# find the right crs for the location\n",
    "crs = mostcommon_crs(dc=dc, product='ga_ls8c_wofs_2', query=query)\n",
    "\n",
    "\n",
    "ds = dc.load(product=[\"ga_ls8c_wofs_2\"],\n",
    "             output_crs=crs,\n",
    "             dask_chunks={'time': 1, 'x': 500, 'y': 500},\n",
    "             fuse_func=wofs_fuser,\n",
    "             **query\n",
    "            )\n",
    "\n"
   ]
  },
  {
   "cell_type": "code",
   "execution_count": 6,
   "metadata": {},
   "outputs": [
    {
     "data": {
      "text/html": [
       "<div><svg style=\"position: absolute; width: 0; height: 0; overflow: hidden\">\n",
       "<defs>\n",
       "<symbol id=\"icon-database\" viewBox=\"0 0 32 32\">\n",
       "<title>Show/Hide data repr</title>\n",
       "<path d=\"M16 0c-8.837 0-16 2.239-16 5v4c0 2.761 7.163 5 16 5s16-2.239 16-5v-4c0-2.761-7.163-5-16-5z\"></path>\n",
       "<path d=\"M16 17c-8.837 0-16-2.239-16-5v6c0 2.761 7.163 5 16 5s16-2.239 16-5v-6c0 2.761-7.163 5-16 5z\"></path>\n",
       "<path d=\"M16 26c-8.837 0-16-2.239-16-5v6c0 2.761 7.163 5 16 5s16-2.239 16-5v-6c0 2.761-7.163 5-16 5z\"></path>\n",
       "</symbol>\n",
       "<symbol id=\"icon-file-text2\" viewBox=\"0 0 32 32\">\n",
       "<title>Show/Hide attributes</title>\n",
       "<path d=\"M28.681 7.159c-0.694-0.947-1.662-2.053-2.724-3.116s-2.169-2.030-3.116-2.724c-1.612-1.182-2.393-1.319-2.841-1.319h-15.5c-1.378 0-2.5 1.121-2.5 2.5v27c0 1.378 1.122 2.5 2.5 2.5h23c1.378 0 2.5-1.122 2.5-2.5v-19.5c0-0.448-0.137-1.23-1.319-2.841zM24.543 5.457c0.959 0.959 1.712 1.825 2.268 2.543h-4.811v-4.811c0.718 0.556 1.584 1.309 2.543 2.268zM28 29.5c0 0.271-0.229 0.5-0.5 0.5h-23c-0.271 0-0.5-0.229-0.5-0.5v-27c0-0.271 0.229-0.5 0.5-0.5 0 0 15.499-0 15.5 0v7c0 0.552 0.448 1 1 1h7v19.5z\"></path>\n",
       "<path d=\"M23 26h-14c-0.552 0-1-0.448-1-1s0.448-1 1-1h14c0.552 0 1 0.448 1 1s-0.448 1-1 1z\"></path>\n",
       "<path d=\"M23 22h-14c-0.552 0-1-0.448-1-1s0.448-1 1-1h14c0.552 0 1 0.448 1 1s-0.448 1-1 1z\"></path>\n",
       "<path d=\"M23 18h-14c-0.552 0-1-0.448-1-1s0.448-1 1-1h14c0.552 0 1 0.448 1 1s-0.448 1-1 1z\"></path>\n",
       "</symbol>\n",
       "</defs>\n",
       "</svg>\n",
       "<style>/* CSS stylesheet for displaying xarray objects in jupyterlab.\n",
       " *\n",
       " */\n",
       "\n",
       ":root {\n",
       "  --xr-font-color0: var(--jp-content-font-color0, rgba(0, 0, 0, 1));\n",
       "  --xr-font-color2: var(--jp-content-font-color2, rgba(0, 0, 0, 0.54));\n",
       "  --xr-font-color3: var(--jp-content-font-color3, rgba(0, 0, 0, 0.38));\n",
       "  --xr-border-color: var(--jp-border-color2, #e0e0e0);\n",
       "  --xr-disabled-color: var(--jp-layout-color3, #bdbdbd);\n",
       "  --xr-background-color: var(--jp-layout-color0, white);\n",
       "  --xr-background-color-row-even: var(--jp-layout-color1, white);\n",
       "  --xr-background-color-row-odd: var(--jp-layout-color2, #eeeeee);\n",
       "}\n",
       "\n",
       ".xr-wrap {\n",
       "  min-width: 300px;\n",
       "  max-width: 700px;\n",
       "}\n",
       "\n",
       ".xr-header {\n",
       "  padding-top: 6px;\n",
       "  padding-bottom: 6px;\n",
       "  margin-bottom: 4px;\n",
       "  border-bottom: solid 1px var(--xr-border-color);\n",
       "}\n",
       "\n",
       ".xr-header > div,\n",
       ".xr-header > ul {\n",
       "  display: inline;\n",
       "  margin-top: 0;\n",
       "  margin-bottom: 0;\n",
       "}\n",
       "\n",
       ".xr-obj-type,\n",
       ".xr-array-name {\n",
       "  margin-left: 2px;\n",
       "  margin-right: 10px;\n",
       "}\n",
       "\n",
       ".xr-obj-type {\n",
       "  color: var(--xr-font-color2);\n",
       "}\n",
       "\n",
       ".xr-sections {\n",
       "  padding-left: 0 !important;\n",
       "  display: grid;\n",
       "  grid-template-columns: 150px auto auto 1fr 20px 20px;\n",
       "}\n",
       "\n",
       ".xr-section-item {\n",
       "  display: contents;\n",
       "}\n",
       "\n",
       ".xr-section-item input {\n",
       "  display: none;\n",
       "}\n",
       "\n",
       ".xr-section-item input + label {\n",
       "  color: var(--xr-disabled-color);\n",
       "}\n",
       "\n",
       ".xr-section-item input:enabled + label {\n",
       "  cursor: pointer;\n",
       "  color: var(--xr-font-color2);\n",
       "}\n",
       "\n",
       ".xr-section-item input:enabled + label:hover {\n",
       "  color: var(--xr-font-color0);\n",
       "}\n",
       "\n",
       ".xr-section-summary {\n",
       "  grid-column: 1;\n",
       "  color: var(--xr-font-color2);\n",
       "  font-weight: 500;\n",
       "}\n",
       "\n",
       ".xr-section-summary > span {\n",
       "  display: inline-block;\n",
       "  padding-left: 0.5em;\n",
       "}\n",
       "\n",
       ".xr-section-summary-in:disabled + label {\n",
       "  color: var(--xr-font-color2);\n",
       "}\n",
       "\n",
       ".xr-section-summary-in + label:before {\n",
       "  display: inline-block;\n",
       "  content: '►';\n",
       "  font-size: 11px;\n",
       "  width: 15px;\n",
       "  text-align: center;\n",
       "}\n",
       "\n",
       ".xr-section-summary-in:disabled + label:before {\n",
       "  color: var(--xr-disabled-color);\n",
       "}\n",
       "\n",
       ".xr-section-summary-in:checked + label:before {\n",
       "  content: '▼';\n",
       "}\n",
       "\n",
       ".xr-section-summary-in:checked + label > span {\n",
       "  display: none;\n",
       "}\n",
       "\n",
       ".xr-section-summary,\n",
       ".xr-section-inline-details {\n",
       "  padding-top: 4px;\n",
       "  padding-bottom: 4px;\n",
       "}\n",
       "\n",
       ".xr-section-inline-details {\n",
       "  grid-column: 2 / -1;\n",
       "}\n",
       "\n",
       ".xr-section-details {\n",
       "  display: none;\n",
       "  grid-column: 1 / -1;\n",
       "  margin-bottom: 5px;\n",
       "}\n",
       "\n",
       ".xr-section-summary-in:checked ~ .xr-section-details {\n",
       "  display: contents;\n",
       "}\n",
       "\n",
       ".xr-array-wrap {\n",
       "  grid-column: 1 / -1;\n",
       "  display: grid;\n",
       "  grid-template-columns: 20px auto;\n",
       "}\n",
       "\n",
       ".xr-array-wrap > label {\n",
       "  grid-column: 1;\n",
       "  vertical-align: top;\n",
       "}\n",
       "\n",
       ".xr-preview {\n",
       "  color: var(--xr-font-color3);\n",
       "}\n",
       "\n",
       ".xr-array-preview,\n",
       ".xr-array-data {\n",
       "  padding: 0 5px !important;\n",
       "  grid-column: 2;\n",
       "}\n",
       "\n",
       ".xr-array-data,\n",
       ".xr-array-in:checked ~ .xr-array-preview {\n",
       "  display: none;\n",
       "}\n",
       "\n",
       ".xr-array-in:checked ~ .xr-array-data,\n",
       ".xr-array-preview {\n",
       "  display: inline-block;\n",
       "}\n",
       "\n",
       ".xr-dim-list {\n",
       "  display: inline-block !important;\n",
       "  list-style: none;\n",
       "  padding: 0 !important;\n",
       "  margin: 0;\n",
       "}\n",
       "\n",
       ".xr-dim-list li {\n",
       "  display: inline-block;\n",
       "  padding: 0;\n",
       "  margin: 0;\n",
       "}\n",
       "\n",
       ".xr-dim-list:before {\n",
       "  content: '(';\n",
       "}\n",
       "\n",
       ".xr-dim-list:after {\n",
       "  content: ')';\n",
       "}\n",
       "\n",
       ".xr-dim-list li:not(:last-child):after {\n",
       "  content: ',';\n",
       "  padding-right: 5px;\n",
       "}\n",
       "\n",
       ".xr-has-index {\n",
       "  font-weight: bold;\n",
       "}\n",
       "\n",
       ".xr-var-list,\n",
       ".xr-var-item {\n",
       "  display: contents;\n",
       "}\n",
       "\n",
       ".xr-var-item > div,\n",
       ".xr-var-item label,\n",
       ".xr-var-item > .xr-var-name span {\n",
       "  background-color: var(--xr-background-color-row-even);\n",
       "  margin-bottom: 0;\n",
       "}\n",
       "\n",
       ".xr-var-item > .xr-var-name:hover span {\n",
       "  padding-right: 5px;\n",
       "}\n",
       "\n",
       ".xr-var-list > li:nth-child(odd) > div,\n",
       ".xr-var-list > li:nth-child(odd) > label,\n",
       ".xr-var-list > li:nth-child(odd) > .xr-var-name span {\n",
       "  background-color: var(--xr-background-color-row-odd);\n",
       "}\n",
       "\n",
       ".xr-var-name {\n",
       "  grid-column: 1;\n",
       "}\n",
       "\n",
       ".xr-var-dims {\n",
       "  grid-column: 2;\n",
       "}\n",
       "\n",
       ".xr-var-dtype {\n",
       "  grid-column: 3;\n",
       "  text-align: right;\n",
       "  color: var(--xr-font-color2);\n",
       "}\n",
       "\n",
       ".xr-var-preview {\n",
       "  grid-column: 4;\n",
       "}\n",
       "\n",
       ".xr-var-name,\n",
       ".xr-var-dims,\n",
       ".xr-var-dtype,\n",
       ".xr-preview,\n",
       ".xr-attrs dt {\n",
       "  white-space: nowrap;\n",
       "  overflow: hidden;\n",
       "  text-overflow: ellipsis;\n",
       "  padding-right: 10px;\n",
       "}\n",
       "\n",
       ".xr-var-name:hover,\n",
       ".xr-var-dims:hover,\n",
       ".xr-var-dtype:hover,\n",
       ".xr-attrs dt:hover {\n",
       "  overflow: visible;\n",
       "  width: auto;\n",
       "  z-index: 1;\n",
       "}\n",
       "\n",
       ".xr-var-attrs,\n",
       ".xr-var-data {\n",
       "  display: none;\n",
       "  background-color: var(--xr-background-color) !important;\n",
       "  padding-bottom: 5px !important;\n",
       "}\n",
       "\n",
       ".xr-var-attrs-in:checked ~ .xr-var-attrs,\n",
       ".xr-var-data-in:checked ~ .xr-var-data {\n",
       "  display: block;\n",
       "}\n",
       "\n",
       ".xr-var-data > table {\n",
       "  float: right;\n",
       "}\n",
       "\n",
       ".xr-var-name span,\n",
       ".xr-var-data,\n",
       ".xr-attrs {\n",
       "  padding-left: 25px !important;\n",
       "}\n",
       "\n",
       ".xr-attrs,\n",
       ".xr-var-attrs,\n",
       ".xr-var-data {\n",
       "  grid-column: 1 / -1;\n",
       "}\n",
       "\n",
       "dl.xr-attrs {\n",
       "  padding: 0;\n",
       "  margin: 0;\n",
       "  display: grid;\n",
       "  grid-template-columns: 125px auto;\n",
       "}\n",
       "\n",
       ".xr-attrs dt, dd {\n",
       "  padding: 0;\n",
       "  margin: 0;\n",
       "  float: left;\n",
       "  padding-right: 10px;\n",
       "  width: auto;\n",
       "}\n",
       "\n",
       ".xr-attrs dt {\n",
       "  font-weight: normal;\n",
       "  grid-column: 1;\n",
       "}\n",
       "\n",
       ".xr-attrs dt:hover span {\n",
       "  display: inline-block;\n",
       "  background: var(--xr-background-color);\n",
       "  padding-right: 10px;\n",
       "}\n",
       "\n",
       ".xr-attrs dd {\n",
       "  grid-column: 2;\n",
       "  white-space: pre-wrap;\n",
       "  word-break: break-all;\n",
       "}\n",
       "\n",
       ".xr-icon-database,\n",
       ".xr-icon-file-text2 {\n",
       "  display: inline-block;\n",
       "  vertical-align: middle;\n",
       "  width: 1em;\n",
       "  height: 1.5em !important;\n",
       "  stroke-width: 0;\n",
       "  stroke: currentColor;\n",
       "  fill: currentColor;\n",
       "}\n",
       "</style><div class='xr-wrap'><div class='xr-header'><div class='xr-obj-type'>xarray.Dataset</div></div><ul class='xr-sections'><li class='xr-section-item'><input id='section-0e566c78-f7e0-47c8-8f19-6fb60241924b' class='xr-section-summary-in' type='checkbox' disabled ><label for='section-0e566c78-f7e0-47c8-8f19-6fb60241924b' class='xr-section-summary'  title='Expand/collapse section'>Dimensions:</label><div class='xr-section-inline-details'><ul class='xr-dim-list'><li><span class='xr-has-index'>time</span>: 277</li><li><span class='xr-has-index'>x</span>: 1387</li><li><span class='xr-has-index'>y</span>: 1442</li></ul></div><div class='xr-section-details'></div></li><li class='xr-section-item'><input id='section-57b6cd50-8130-4d7a-a282-42e6f9641e74' class='xr-section-summary-in' type='checkbox'  checked><label for='section-57b6cd50-8130-4d7a-a282-42e6f9641e74' class='xr-section-summary' >Coordinates: <span>(4)</span></label><div class='xr-section-inline-details'></div><div class='xr-section-details'><ul class='xr-var-list'><li class='xr-var-item'><div class='xr-var-name'><span class='xr-has-index'>time</span></div><div class='xr-var-dims'>(time)</div><div class='xr-var-dtype'>datetime64[ns]</div><div class='xr-var-preview xr-preview'>2013-04-02T07:49:20.368796 ... 2019-06-25T07:44:15.617573</div><input id='attrs-9ce5692d-69be-4e8a-b4c7-1f68eb68610f' class='xr-var-attrs-in' type='checkbox' ><label for='attrs-9ce5692d-69be-4e8a-b4c7-1f68eb68610f' title='Show/Hide attributes'><svg class='icon xr-icon-file-text2'><use xlink:href='#icon-file-text2'></use></svg></label><input id='data-fa4e3e44-968b-455e-ac0b-938d7f4a0a45' class='xr-var-data-in' type='checkbox'><label for='data-fa4e3e44-968b-455e-ac0b-938d7f4a0a45' title='Show/Hide data repr'><svg class='icon xr-icon-database'><use xlink:href='#icon-database'></use></svg></label><div class='xr-var-attrs'><dl class='xr-attrs'><dt><span>units :</span></dt><dd>seconds since 1970-01-01 00:00:00</dd></dl></div><pre class='xr-var-data'>array([&#x27;2013-04-02T07:49:20.368796000&#x27;, &#x27;2013-04-12T07:52:20.766729000&#x27;,\n",
       "       &#x27;2013-04-21T07:46:10.181609000&#x27;, ..., &#x27;2019-06-09T07:44:10.190560000&#x27;,\n",
       "       &#x27;2019-06-16T07:50:23.627219000&#x27;, &#x27;2019-06-25T07:44:15.617573000&#x27;],\n",
       "      dtype=&#x27;datetime64[ns]&#x27;)</pre></li><li class='xr-var-item'><div class='xr-var-name'><span class='xr-has-index'>y</span></div><div class='xr-var-dims'>(y)</div><div class='xr-var-dtype'>float64</div><div class='xr-var-preview xr-preview'>-6.492e+05 ... -6.925e+05</div><input id='attrs-ab1f1d4f-cd0a-49a7-9856-78189cc29ff6' class='xr-var-attrs-in' type='checkbox' ><label for='attrs-ab1f1d4f-cd0a-49a7-9856-78189cc29ff6' title='Show/Hide attributes'><svg class='icon xr-icon-file-text2'><use xlink:href='#icon-file-text2'></use></svg></label><input id='data-d2d7e6fd-0fbd-4b98-8103-5e5a5188aafa' class='xr-var-data-in' type='checkbox'><label for='data-d2d7e6fd-0fbd-4b98-8103-5e5a5188aafa' title='Show/Hide data repr'><svg class='icon xr-icon-database'><use xlink:href='#icon-database'></use></svg></label><div class='xr-var-attrs'><dl class='xr-attrs'><dt><span>units :</span></dt><dd>metre</dd><dt><span>resolution :</span></dt><dd>-30.0</dd><dt><span>crs :</span></dt><dd>epsg:32636</dd></dl></div><pre class='xr-var-data'>array([-649230., -649260., -649290., ..., -692400., -692430., -692460.])</pre></li><li class='xr-var-item'><div class='xr-var-name'><span class='xr-has-index'>x</span></div><div class='xr-var-dims'>(x)</div><div class='xr-var-dtype'>float64</div><div class='xr-var-preview xr-preview'>7.202e+05 7.202e+05 ... 7.618e+05</div><input id='attrs-298a75c5-f099-4a4f-8280-8933d5b7af00' class='xr-var-attrs-in' type='checkbox' ><label for='attrs-298a75c5-f099-4a4f-8280-8933d5b7af00' title='Show/Hide attributes'><svg class='icon xr-icon-file-text2'><use xlink:href='#icon-file-text2'></use></svg></label><input id='data-1c7cae0c-5ba4-4427-8af5-30fee65f29eb' class='xr-var-data-in' type='checkbox'><label for='data-1c7cae0c-5ba4-4427-8af5-30fee65f29eb' title='Show/Hide data repr'><svg class='icon xr-icon-database'><use xlink:href='#icon-database'></use></svg></label><div class='xr-var-attrs'><dl class='xr-attrs'><dt><span>units :</span></dt><dd>metre</dd><dt><span>resolution :</span></dt><dd>30.0</dd><dt><span>crs :</span></dt><dd>epsg:32636</dd></dl></div><pre class='xr-var-data'>array([720180., 720210., 720240., ..., 761700., 761730., 761760.])</pre></li><li class='xr-var-item'><div class='xr-var-name'><span>spatial_ref</span></div><div class='xr-var-dims'>()</div><div class='xr-var-dtype'>int32</div><div class='xr-var-preview xr-preview'>32636</div><input id='attrs-5803aff9-5f5d-4a28-8213-db706f6eeeae' class='xr-var-attrs-in' type='checkbox' ><label for='attrs-5803aff9-5f5d-4a28-8213-db706f6eeeae' title='Show/Hide attributes'><svg class='icon xr-icon-file-text2'><use xlink:href='#icon-file-text2'></use></svg></label><input id='data-a2ca9b12-19c2-41ab-b392-24458d05c1c9' class='xr-var-data-in' type='checkbox'><label for='data-a2ca9b12-19c2-41ab-b392-24458d05c1c9' title='Show/Hide data repr'><svg class='icon xr-icon-database'><use xlink:href='#icon-database'></use></svg></label><div class='xr-var-attrs'><dl class='xr-attrs'><dt><span>spatial_ref :</span></dt><dd>PROJCS[&quot;WGS 84 / UTM zone 36N&quot;,GEOGCS[&quot;WGS 84&quot;,DATUM[&quot;WGS_1984&quot;,SPHEROID[&quot;WGS 84&quot;,6378137,298.257223563,AUTHORITY[&quot;EPSG&quot;,&quot;7030&quot;]],AUTHORITY[&quot;EPSG&quot;,&quot;6326&quot;]],PRIMEM[&quot;Greenwich&quot;,0,AUTHORITY[&quot;EPSG&quot;,&quot;8901&quot;]],UNIT[&quot;degree&quot;,0.0174532925199433,AUTHORITY[&quot;EPSG&quot;,&quot;9122&quot;]],AUTHORITY[&quot;EPSG&quot;,&quot;4326&quot;]],PROJECTION[&quot;Transverse_Mercator&quot;],PARAMETER[&quot;latitude_of_origin&quot;,0],PARAMETER[&quot;central_meridian&quot;,33],PARAMETER[&quot;scale_factor&quot;,0.9996],PARAMETER[&quot;false_easting&quot;,500000],PARAMETER[&quot;false_northing&quot;,0],UNIT[&quot;metre&quot;,1,AUTHORITY[&quot;EPSG&quot;,&quot;9001&quot;]],AXIS[&quot;Easting&quot;,EAST],AXIS[&quot;Northing&quot;,NORTH],AUTHORITY[&quot;EPSG&quot;,&quot;32636&quot;]]</dd><dt><span>grid_mapping_name :</span></dt><dd>transverse_mercator</dd></dl></div><pre class='xr-var-data'>array(32636, dtype=int32)</pre></li></ul></div></li><li class='xr-section-item'><input id='section-db8ed3f7-4601-4a42-89c5-92ca945fad4e' class='xr-section-summary-in' type='checkbox'  checked><label for='section-db8ed3f7-4601-4a42-89c5-92ca945fad4e' class='xr-section-summary' >Data variables: <span>(1)</span></label><div class='xr-section-inline-details'></div><div class='xr-section-details'><ul class='xr-var-list'><li class='xr-var-item'><div class='xr-var-name'><span>water</span></div><div class='xr-var-dims'>(time, y, x)</div><div class='xr-var-dtype'>uint8</div><div class='xr-var-preview xr-preview'>dask.array&lt;chunksize=(1, 500, 500), meta=np.ndarray&gt;</div><input id='attrs-6af8192c-7f8d-4354-b960-a711904b980c' class='xr-var-attrs-in' type='checkbox' ><label for='attrs-6af8192c-7f8d-4354-b960-a711904b980c' title='Show/Hide attributes'><svg class='icon xr-icon-file-text2'><use xlink:href='#icon-file-text2'></use></svg></label><input id='data-8c3a92df-42b6-4cb8-a32a-b533635ef12b' class='xr-var-data-in' type='checkbox'><label for='data-8c3a92df-42b6-4cb8-a32a-b533635ef12b' title='Show/Hide data repr'><svg class='icon xr-icon-database'><use xlink:href='#icon-database'></use></svg></label><div class='xr-var-attrs'><dl class='xr-attrs'><dt><span>units :</span></dt><dd>1</dd><dt><span>nodata :</span></dt><dd>1</dd><dt><span>flags_definition :</span></dt><dd>{&#x27;dry&#x27;: {&#x27;bits&#x27;: [7, 6, 5, 4, 3, 1, 0], &#x27;values&#x27;: {&#x27;0&#x27;: True}, &#x27;description&#x27;: &#x27;Clear and dry&#x27;}, &#x27;sea&#x27;: {&#x27;bits&#x27;: 2, &#x27;values&#x27;: {&#x27;0&#x27;: False, &#x27;1&#x27;: True}, &#x27;description&#x27;: &#x27;Sea&#x27;}, &#x27;wet&#x27;: {&#x27;bits&#x27;: [7, 6, 5, 4, 3, 1, 0], &#x27;values&#x27;: {&#x27;128&#x27;: True}, &#x27;description&#x27;: &#x27;Clear and Wet&#x27;}, &#x27;cloud&#x27;: {&#x27;bits&#x27;: 6, &#x27;values&#x27;: {&#x27;0&#x27;: False, &#x27;1&#x27;: True}, &#x27;description&#x27;: &#x27;Cloudy&#x27;}, &#x27;nodata&#x27;: {&#x27;bits&#x27;: 0, &#x27;values&#x27;: {&#x27;0&#x27;: False, &#x27;1&#x27;: True}, &#x27;description&#x27;: &#x27;No data&#x27;}, &#x27;contiguous&#x27;: {&#x27;bits&#x27;: 1, &#x27;values&#x27;: {&#x27;0&#x27;: True, &#x27;1&#x27;: False}, &#x27;description&#x27;: &#x27;Contiguity&#x27;}, &#x27;cloud_shadow&#x27;: {&#x27;bits&#x27;: 5, &#x27;values&#x27;: {&#x27;0&#x27;: False, &#x27;1&#x27;: True}, &#x27;description&#x27;: &#x27;Cloud shadow&#x27;}, &#x27;water_observed&#x27;: {&#x27;bits&#x27;: 7, &#x27;values&#x27;: {&#x27;0&#x27;: False, &#x27;1&#x27;: True}, &#x27;description&#x27;: &#x27;Classified as water by the decision tree&#x27;}}</dd><dt><span>crs :</span></dt><dd>epsg:32636</dd><dt><span>grid_mapping :</span></dt><dd>spatial_ref</dd></dl></div><pre class='xr-var-data'><table>\n",
       "<tr>\n",
       "<td>\n",
       "<table>\n",
       "  <thead>\n",
       "    <tr><td> </td><th> Array </th><th> Chunk </th></tr>\n",
       "  </thead>\n",
       "  <tbody>\n",
       "    <tr><th> Bytes </th><td> 554.01 MB </td> <td> 250.00 kB </td></tr>\n",
       "    <tr><th> Shape </th><td> (277, 1442, 1387) </td> <td> (1, 500, 500) </td></tr>\n",
       "    <tr><th> Count </th><td> 2911 Tasks </td><td> 2493 Chunks </td></tr>\n",
       "    <tr><th> Type </th><td> uint8 </td><td> numpy.ndarray </td></tr>\n",
       "  </tbody>\n",
       "</table>\n",
       "</td>\n",
       "<td>\n",
       "<svg width=\"200\" height=\"194\" style=\"stroke:rgb(0,0,0);stroke-width:1\" >\n",
       "\n",
       "  <!-- Horizontal lines -->\n",
       "  <line x1=\"10\" y1=\"0\" x2=\"34\" y2=\"24\" style=\"stroke-width:2\" />\n",
       "  <line x1=\"10\" y1=\"41\" x2=\"34\" y2=\"66\" />\n",
       "  <line x1=\"10\" y1=\"83\" x2=\"34\" y2=\"107\" />\n",
       "  <line x1=\"10\" y1=\"120\" x2=\"34\" y2=\"144\" style=\"stroke-width:2\" />\n",
       "\n",
       "  <!-- Vertical lines -->\n",
       "  <line x1=\"10\" y1=\"0\" x2=\"10\" y2=\"120\" style=\"stroke-width:2\" />\n",
       "  <line x1=\"10\" y1=\"0\" x2=\"10\" y2=\"120\" />\n",
       "  <line x1=\"10\" y1=\"0\" x2=\"10\" y2=\"120\" />\n",
       "  <line x1=\"10\" y1=\"0\" x2=\"10\" y2=\"120\" />\n",
       "  <line x1=\"10\" y1=\"0\" x2=\"10\" y2=\"120\" />\n",
       "  <line x1=\"10\" y1=\"0\" x2=\"10\" y2=\"120\" />\n",
       "  <line x1=\"10\" y1=\"0\" x2=\"10\" y2=\"120\" />\n",
       "  <line x1=\"10\" y1=\"0\" x2=\"10\" y2=\"120\" />\n",
       "  <line x1=\"10\" y1=\"0\" x2=\"10\" y2=\"120\" />\n",
       "  <line x1=\"10\" y1=\"0\" x2=\"10\" y2=\"120\" />\n",
       "  <line x1=\"10\" y1=\"0\" x2=\"10\" y2=\"120\" />\n",
       "  <line x1=\"10\" y1=\"0\" x2=\"10\" y2=\"120\" />\n",
       "  <line x1=\"11\" y1=\"1\" x2=\"11\" y2=\"121\" />\n",
       "  <line x1=\"11\" y1=\"1\" x2=\"11\" y2=\"121\" />\n",
       "  <line x1=\"11\" y1=\"1\" x2=\"11\" y2=\"121\" />\n",
       "  <line x1=\"11\" y1=\"1\" x2=\"11\" y2=\"121\" />\n",
       "  <line x1=\"11\" y1=\"1\" x2=\"11\" y2=\"121\" />\n",
       "  <line x1=\"11\" y1=\"1\" x2=\"11\" y2=\"121\" />\n",
       "  <line x1=\"11\" y1=\"1\" x2=\"11\" y2=\"121\" />\n",
       "  <line x1=\"11\" y1=\"1\" x2=\"11\" y2=\"121\" />\n",
       "  <line x1=\"11\" y1=\"1\" x2=\"11\" y2=\"121\" />\n",
       "  <line x1=\"11\" y1=\"1\" x2=\"11\" y2=\"121\" />\n",
       "  <line x1=\"11\" y1=\"1\" x2=\"11\" y2=\"121\" />\n",
       "  <line x1=\"12\" y1=\"2\" x2=\"12\" y2=\"122\" />\n",
       "  <line x1=\"12\" y1=\"2\" x2=\"12\" y2=\"122\" />\n",
       "  <line x1=\"12\" y1=\"2\" x2=\"12\" y2=\"122\" />\n",
       "  <line x1=\"12\" y1=\"2\" x2=\"12\" y2=\"122\" />\n",
       "  <line x1=\"12\" y1=\"2\" x2=\"12\" y2=\"122\" />\n",
       "  <line x1=\"12\" y1=\"2\" x2=\"12\" y2=\"122\" />\n",
       "  <line x1=\"12\" y1=\"2\" x2=\"12\" y2=\"122\" />\n",
       "  <line x1=\"12\" y1=\"2\" x2=\"12\" y2=\"122\" />\n",
       "  <line x1=\"12\" y1=\"2\" x2=\"12\" y2=\"122\" />\n",
       "  <line x1=\"12\" y1=\"2\" x2=\"12\" y2=\"122\" />\n",
       "  <line x1=\"12\" y1=\"2\" x2=\"12\" y2=\"122\" />\n",
       "  <line x1=\"13\" y1=\"3\" x2=\"13\" y2=\"123\" />\n",
       "  <line x1=\"13\" y1=\"3\" x2=\"13\" y2=\"123\" />\n",
       "  <line x1=\"13\" y1=\"3\" x2=\"13\" y2=\"123\" />\n",
       "  <line x1=\"13\" y1=\"3\" x2=\"13\" y2=\"123\" />\n",
       "  <line x1=\"13\" y1=\"3\" x2=\"13\" y2=\"123\" />\n",
       "  <line x1=\"13\" y1=\"3\" x2=\"13\" y2=\"123\" />\n",
       "  <line x1=\"13\" y1=\"3\" x2=\"13\" y2=\"123\" />\n",
       "  <line x1=\"13\" y1=\"3\" x2=\"13\" y2=\"123\" />\n",
       "  <line x1=\"13\" y1=\"3\" x2=\"13\" y2=\"123\" />\n",
       "  <line x1=\"13\" y1=\"3\" x2=\"13\" y2=\"123\" />\n",
       "  <line x1=\"13\" y1=\"3\" x2=\"13\" y2=\"123\" />\n",
       "  <line x1=\"13\" y1=\"3\" x2=\"13\" y2=\"123\" />\n",
       "  <line x1=\"14\" y1=\"4\" x2=\"14\" y2=\"124\" />\n",
       "  <line x1=\"14\" y1=\"4\" x2=\"14\" y2=\"124\" />\n",
       "  <line x1=\"14\" y1=\"4\" x2=\"14\" y2=\"124\" />\n",
       "  <line x1=\"14\" y1=\"4\" x2=\"14\" y2=\"124\" />\n",
       "  <line x1=\"14\" y1=\"4\" x2=\"14\" y2=\"124\" />\n",
       "  <line x1=\"14\" y1=\"4\" x2=\"14\" y2=\"124\" />\n",
       "  <line x1=\"14\" y1=\"4\" x2=\"14\" y2=\"124\" />\n",
       "  <line x1=\"14\" y1=\"4\" x2=\"14\" y2=\"124\" />\n",
       "  <line x1=\"14\" y1=\"4\" x2=\"14\" y2=\"124\" />\n",
       "  <line x1=\"14\" y1=\"4\" x2=\"14\" y2=\"124\" />\n",
       "  <line x1=\"14\" y1=\"4\" x2=\"14\" y2=\"124\" />\n",
       "  <line x1=\"15\" y1=\"5\" x2=\"15\" y2=\"125\" />\n",
       "  <line x1=\"15\" y1=\"5\" x2=\"15\" y2=\"125\" />\n",
       "  <line x1=\"15\" y1=\"5\" x2=\"15\" y2=\"125\" />\n",
       "  <line x1=\"15\" y1=\"5\" x2=\"15\" y2=\"125\" />\n",
       "  <line x1=\"15\" y1=\"5\" x2=\"15\" y2=\"125\" />\n",
       "  <line x1=\"15\" y1=\"5\" x2=\"15\" y2=\"125\" />\n",
       "  <line x1=\"15\" y1=\"5\" x2=\"15\" y2=\"125\" />\n",
       "  <line x1=\"15\" y1=\"5\" x2=\"15\" y2=\"125\" />\n",
       "  <line x1=\"15\" y1=\"5\" x2=\"15\" y2=\"125\" />\n",
       "  <line x1=\"15\" y1=\"5\" x2=\"15\" y2=\"125\" />\n",
       "  <line x1=\"15\" y1=\"5\" x2=\"15\" y2=\"125\" />\n",
       "  <line x1=\"16\" y1=\"6\" x2=\"16\" y2=\"126\" />\n",
       "  <line x1=\"16\" y1=\"6\" x2=\"16\" y2=\"126\" />\n",
       "  <line x1=\"16\" y1=\"6\" x2=\"16\" y2=\"126\" />\n",
       "  <line x1=\"16\" y1=\"6\" x2=\"16\" y2=\"126\" />\n",
       "  <line x1=\"16\" y1=\"6\" x2=\"16\" y2=\"126\" />\n",
       "  <line x1=\"16\" y1=\"6\" x2=\"16\" y2=\"126\" />\n",
       "  <line x1=\"16\" y1=\"6\" x2=\"16\" y2=\"126\" />\n",
       "  <line x1=\"16\" y1=\"6\" x2=\"16\" y2=\"126\" />\n",
       "  <line x1=\"16\" y1=\"6\" x2=\"16\" y2=\"126\" />\n",
       "  <line x1=\"16\" y1=\"6\" x2=\"16\" y2=\"126\" />\n",
       "  <line x1=\"16\" y1=\"6\" x2=\"16\" y2=\"126\" />\n",
       "  <line x1=\"17\" y1=\"7\" x2=\"17\" y2=\"127\" />\n",
       "  <line x1=\"17\" y1=\"7\" x2=\"17\" y2=\"127\" />\n",
       "  <line x1=\"17\" y1=\"7\" x2=\"17\" y2=\"127\" />\n",
       "  <line x1=\"17\" y1=\"7\" x2=\"17\" y2=\"127\" />\n",
       "  <line x1=\"17\" y1=\"7\" x2=\"17\" y2=\"127\" />\n",
       "  <line x1=\"17\" y1=\"7\" x2=\"17\" y2=\"127\" />\n",
       "  <line x1=\"17\" y1=\"7\" x2=\"17\" y2=\"127\" />\n",
       "  <line x1=\"17\" y1=\"7\" x2=\"17\" y2=\"127\" />\n",
       "  <line x1=\"17\" y1=\"7\" x2=\"17\" y2=\"127\" />\n",
       "  <line x1=\"17\" y1=\"7\" x2=\"17\" y2=\"127\" />\n",
       "  <line x1=\"17\" y1=\"7\" x2=\"17\" y2=\"127\" />\n",
       "  <line x1=\"17\" y1=\"7\" x2=\"17\" y2=\"127\" />\n",
       "  <line x1=\"18\" y1=\"8\" x2=\"18\" y2=\"128\" />\n",
       "  <line x1=\"18\" y1=\"8\" x2=\"18\" y2=\"128\" />\n",
       "  <line x1=\"18\" y1=\"8\" x2=\"18\" y2=\"128\" />\n",
       "  <line x1=\"18\" y1=\"8\" x2=\"18\" y2=\"128\" />\n",
       "  <line x1=\"18\" y1=\"8\" x2=\"18\" y2=\"128\" />\n",
       "  <line x1=\"18\" y1=\"8\" x2=\"18\" y2=\"128\" />\n",
       "  <line x1=\"18\" y1=\"8\" x2=\"18\" y2=\"128\" />\n",
       "  <line x1=\"18\" y1=\"8\" x2=\"18\" y2=\"128\" />\n",
       "  <line x1=\"18\" y1=\"8\" x2=\"18\" y2=\"128\" />\n",
       "  <line x1=\"18\" y1=\"8\" x2=\"18\" y2=\"128\" />\n",
       "  <line x1=\"18\" y1=\"8\" x2=\"18\" y2=\"128\" />\n",
       "  <line x1=\"19\" y1=\"9\" x2=\"19\" y2=\"129\" />\n",
       "  <line x1=\"19\" y1=\"9\" x2=\"19\" y2=\"129\" />\n",
       "  <line x1=\"19\" y1=\"9\" x2=\"19\" y2=\"129\" />\n",
       "  <line x1=\"19\" y1=\"9\" x2=\"19\" y2=\"129\" />\n",
       "  <line x1=\"19\" y1=\"9\" x2=\"19\" y2=\"129\" />\n",
       "  <line x1=\"19\" y1=\"9\" x2=\"19\" y2=\"129\" />\n",
       "  <line x1=\"19\" y1=\"9\" x2=\"19\" y2=\"129\" />\n",
       "  <line x1=\"19\" y1=\"9\" x2=\"19\" y2=\"129\" />\n",
       "  <line x1=\"19\" y1=\"9\" x2=\"19\" y2=\"129\" />\n",
       "  <line x1=\"19\" y1=\"9\" x2=\"19\" y2=\"129\" />\n",
       "  <line x1=\"19\" y1=\"9\" x2=\"19\" y2=\"129\" />\n",
       "  <line x1=\"20\" y1=\"10\" x2=\"20\" y2=\"130\" />\n",
       "  <line x1=\"20\" y1=\"10\" x2=\"20\" y2=\"130\" />\n",
       "  <line x1=\"20\" y1=\"10\" x2=\"20\" y2=\"130\" />\n",
       "  <line x1=\"20\" y1=\"10\" x2=\"20\" y2=\"130\" />\n",
       "  <line x1=\"20\" y1=\"10\" x2=\"20\" y2=\"130\" />\n",
       "  <line x1=\"20\" y1=\"10\" x2=\"20\" y2=\"130\" />\n",
       "  <line x1=\"20\" y1=\"10\" x2=\"20\" y2=\"130\" />\n",
       "  <line x1=\"20\" y1=\"10\" x2=\"20\" y2=\"130\" />\n",
       "  <line x1=\"20\" y1=\"10\" x2=\"20\" y2=\"130\" />\n",
       "  <line x1=\"20\" y1=\"10\" x2=\"20\" y2=\"130\" />\n",
       "  <line x1=\"20\" y1=\"10\" x2=\"20\" y2=\"130\" />\n",
       "  <line x1=\"21\" y1=\"11\" x2=\"21\" y2=\"131\" />\n",
       "  <line x1=\"21\" y1=\"11\" x2=\"21\" y2=\"131\" />\n",
       "  <line x1=\"21\" y1=\"11\" x2=\"21\" y2=\"131\" />\n",
       "  <line x1=\"21\" y1=\"11\" x2=\"21\" y2=\"131\" />\n",
       "  <line x1=\"21\" y1=\"11\" x2=\"21\" y2=\"131\" />\n",
       "  <line x1=\"21\" y1=\"11\" x2=\"21\" y2=\"131\" />\n",
       "  <line x1=\"21\" y1=\"11\" x2=\"21\" y2=\"131\" />\n",
       "  <line x1=\"21\" y1=\"11\" x2=\"21\" y2=\"131\" />\n",
       "  <line x1=\"21\" y1=\"11\" x2=\"21\" y2=\"131\" />\n",
       "  <line x1=\"21\" y1=\"11\" x2=\"21\" y2=\"131\" />\n",
       "  <line x1=\"21\" y1=\"11\" x2=\"21\" y2=\"131\" />\n",
       "  <line x1=\"21\" y1=\"11\" x2=\"21\" y2=\"131\" />\n",
       "  <line x1=\"22\" y1=\"12\" x2=\"22\" y2=\"132\" />\n",
       "  <line x1=\"22\" y1=\"12\" x2=\"22\" y2=\"132\" />\n",
       "  <line x1=\"22\" y1=\"12\" x2=\"22\" y2=\"132\" />\n",
       "  <line x1=\"22\" y1=\"12\" x2=\"22\" y2=\"132\" />\n",
       "  <line x1=\"22\" y1=\"12\" x2=\"22\" y2=\"132\" />\n",
       "  <line x1=\"22\" y1=\"12\" x2=\"22\" y2=\"132\" />\n",
       "  <line x1=\"22\" y1=\"12\" x2=\"22\" y2=\"132\" />\n",
       "  <line x1=\"22\" y1=\"12\" x2=\"22\" y2=\"132\" />\n",
       "  <line x1=\"22\" y1=\"12\" x2=\"22\" y2=\"132\" />\n",
       "  <line x1=\"22\" y1=\"12\" x2=\"22\" y2=\"132\" />\n",
       "  <line x1=\"22\" y1=\"12\" x2=\"22\" y2=\"132\" />\n",
       "  <line x1=\"23\" y1=\"13\" x2=\"23\" y2=\"133\" />\n",
       "  <line x1=\"23\" y1=\"13\" x2=\"23\" y2=\"133\" />\n",
       "  <line x1=\"23\" y1=\"13\" x2=\"23\" y2=\"133\" />\n",
       "  <line x1=\"23\" y1=\"13\" x2=\"23\" y2=\"133\" />\n",
       "  <line x1=\"23\" y1=\"13\" x2=\"23\" y2=\"133\" />\n",
       "  <line x1=\"23\" y1=\"13\" x2=\"23\" y2=\"133\" />\n",
       "  <line x1=\"23\" y1=\"13\" x2=\"23\" y2=\"133\" />\n",
       "  <line x1=\"23\" y1=\"13\" x2=\"23\" y2=\"133\" />\n",
       "  <line x1=\"23\" y1=\"13\" x2=\"23\" y2=\"133\" />\n",
       "  <line x1=\"23\" y1=\"13\" x2=\"23\" y2=\"133\" />\n",
       "  <line x1=\"23\" y1=\"13\" x2=\"23\" y2=\"133\" />\n",
       "  <line x1=\"24\" y1=\"14\" x2=\"24\" y2=\"134\" />\n",
       "  <line x1=\"24\" y1=\"14\" x2=\"24\" y2=\"134\" />\n",
       "  <line x1=\"24\" y1=\"14\" x2=\"24\" y2=\"134\" />\n",
       "  <line x1=\"24\" y1=\"14\" x2=\"24\" y2=\"134\" />\n",
       "  <line x1=\"24\" y1=\"14\" x2=\"24\" y2=\"134\" />\n",
       "  <line x1=\"24\" y1=\"14\" x2=\"24\" y2=\"134\" />\n",
       "  <line x1=\"24\" y1=\"14\" x2=\"24\" y2=\"134\" />\n",
       "  <line x1=\"24\" y1=\"14\" x2=\"24\" y2=\"134\" />\n",
       "  <line x1=\"24\" y1=\"14\" x2=\"24\" y2=\"134\" />\n",
       "  <line x1=\"24\" y1=\"14\" x2=\"24\" y2=\"134\" />\n",
       "  <line x1=\"24\" y1=\"14\" x2=\"24\" y2=\"134\" />\n",
       "  <line x1=\"25\" y1=\"15\" x2=\"25\" y2=\"135\" />\n",
       "  <line x1=\"25\" y1=\"15\" x2=\"25\" y2=\"135\" />\n",
       "  <line x1=\"25\" y1=\"15\" x2=\"25\" y2=\"135\" />\n",
       "  <line x1=\"25\" y1=\"15\" x2=\"25\" y2=\"135\" />\n",
       "  <line x1=\"25\" y1=\"15\" x2=\"25\" y2=\"135\" />\n",
       "  <line x1=\"25\" y1=\"15\" x2=\"25\" y2=\"135\" />\n",
       "  <line x1=\"25\" y1=\"15\" x2=\"25\" y2=\"135\" />\n",
       "  <line x1=\"25\" y1=\"15\" x2=\"25\" y2=\"135\" />\n",
       "  <line x1=\"25\" y1=\"15\" x2=\"25\" y2=\"135\" />\n",
       "  <line x1=\"25\" y1=\"15\" x2=\"25\" y2=\"135\" />\n",
       "  <line x1=\"25\" y1=\"15\" x2=\"25\" y2=\"135\" />\n",
       "  <line x1=\"25\" y1=\"15\" x2=\"25\" y2=\"135\" />\n",
       "  <line x1=\"26\" y1=\"16\" x2=\"26\" y2=\"136\" />\n",
       "  <line x1=\"26\" y1=\"16\" x2=\"26\" y2=\"136\" />\n",
       "  <line x1=\"26\" y1=\"16\" x2=\"26\" y2=\"136\" />\n",
       "  <line x1=\"26\" y1=\"16\" x2=\"26\" y2=\"136\" />\n",
       "  <line x1=\"26\" y1=\"16\" x2=\"26\" y2=\"136\" />\n",
       "  <line x1=\"26\" y1=\"16\" x2=\"26\" y2=\"136\" />\n",
       "  <line x1=\"26\" y1=\"16\" x2=\"26\" y2=\"136\" />\n",
       "  <line x1=\"26\" y1=\"16\" x2=\"26\" y2=\"136\" />\n",
       "  <line x1=\"26\" y1=\"16\" x2=\"26\" y2=\"136\" />\n",
       "  <line x1=\"26\" y1=\"16\" x2=\"26\" y2=\"136\" />\n",
       "  <line x1=\"26\" y1=\"16\" x2=\"26\" y2=\"136\" />\n",
       "  <line x1=\"27\" y1=\"17\" x2=\"27\" y2=\"137\" />\n",
       "  <line x1=\"27\" y1=\"17\" x2=\"27\" y2=\"137\" />\n",
       "  <line x1=\"27\" y1=\"17\" x2=\"27\" y2=\"137\" />\n",
       "  <line x1=\"27\" y1=\"17\" x2=\"27\" y2=\"137\" />\n",
       "  <line x1=\"27\" y1=\"17\" x2=\"27\" y2=\"137\" />\n",
       "  <line x1=\"27\" y1=\"17\" x2=\"27\" y2=\"137\" />\n",
       "  <line x1=\"27\" y1=\"17\" x2=\"27\" y2=\"137\" />\n",
       "  <line x1=\"27\" y1=\"17\" x2=\"27\" y2=\"137\" />\n",
       "  <line x1=\"27\" y1=\"17\" x2=\"27\" y2=\"137\" />\n",
       "  <line x1=\"27\" y1=\"17\" x2=\"27\" y2=\"137\" />\n",
       "  <line x1=\"27\" y1=\"17\" x2=\"27\" y2=\"137\" />\n",
       "  <line x1=\"28\" y1=\"18\" x2=\"28\" y2=\"138\" />\n",
       "  <line x1=\"28\" y1=\"18\" x2=\"28\" y2=\"138\" />\n",
       "  <line x1=\"28\" y1=\"18\" x2=\"28\" y2=\"138\" />\n",
       "  <line x1=\"28\" y1=\"18\" x2=\"28\" y2=\"138\" />\n",
       "  <line x1=\"28\" y1=\"18\" x2=\"28\" y2=\"138\" />\n",
       "  <line x1=\"28\" y1=\"18\" x2=\"28\" y2=\"138\" />\n",
       "  <line x1=\"28\" y1=\"18\" x2=\"28\" y2=\"138\" />\n",
       "  <line x1=\"28\" y1=\"18\" x2=\"28\" y2=\"138\" />\n",
       "  <line x1=\"28\" y1=\"18\" x2=\"28\" y2=\"138\" />\n",
       "  <line x1=\"28\" y1=\"18\" x2=\"28\" y2=\"138\" />\n",
       "  <line x1=\"28\" y1=\"18\" x2=\"28\" y2=\"138\" />\n",
       "  <line x1=\"29\" y1=\"19\" x2=\"29\" y2=\"139\" />\n",
       "  <line x1=\"29\" y1=\"19\" x2=\"29\" y2=\"139\" />\n",
       "  <line x1=\"29\" y1=\"19\" x2=\"29\" y2=\"139\" />\n",
       "  <line x1=\"29\" y1=\"19\" x2=\"29\" y2=\"139\" />\n",
       "  <line x1=\"29\" y1=\"19\" x2=\"29\" y2=\"139\" />\n",
       "  <line x1=\"29\" y1=\"19\" x2=\"29\" y2=\"139\" />\n",
       "  <line x1=\"29\" y1=\"19\" x2=\"29\" y2=\"139\" />\n",
       "  <line x1=\"29\" y1=\"19\" x2=\"29\" y2=\"139\" />\n",
       "  <line x1=\"29\" y1=\"19\" x2=\"29\" y2=\"139\" />\n",
       "  <line x1=\"29\" y1=\"19\" x2=\"29\" y2=\"139\" />\n",
       "  <line x1=\"29\" y1=\"19\" x2=\"29\" y2=\"139\" />\n",
       "  <line x1=\"29\" y1=\"19\" x2=\"29\" y2=\"139\" />\n",
       "  <line x1=\"30\" y1=\"20\" x2=\"30\" y2=\"140\" />\n",
       "  <line x1=\"30\" y1=\"20\" x2=\"30\" y2=\"140\" />\n",
       "  <line x1=\"30\" y1=\"20\" x2=\"30\" y2=\"140\" />\n",
       "  <line x1=\"30\" y1=\"20\" x2=\"30\" y2=\"140\" />\n",
       "  <line x1=\"30\" y1=\"20\" x2=\"30\" y2=\"140\" />\n",
       "  <line x1=\"30\" y1=\"20\" x2=\"30\" y2=\"140\" />\n",
       "  <line x1=\"30\" y1=\"20\" x2=\"30\" y2=\"140\" />\n",
       "  <line x1=\"30\" y1=\"20\" x2=\"30\" y2=\"140\" />\n",
       "  <line x1=\"30\" y1=\"20\" x2=\"30\" y2=\"140\" />\n",
       "  <line x1=\"30\" y1=\"20\" x2=\"30\" y2=\"140\" />\n",
       "  <line x1=\"30\" y1=\"20\" x2=\"30\" y2=\"140\" />\n",
       "  <line x1=\"31\" y1=\"21\" x2=\"31\" y2=\"141\" />\n",
       "  <line x1=\"31\" y1=\"21\" x2=\"31\" y2=\"141\" />\n",
       "  <line x1=\"31\" y1=\"21\" x2=\"31\" y2=\"141\" />\n",
       "  <line x1=\"31\" y1=\"21\" x2=\"31\" y2=\"141\" />\n",
       "  <line x1=\"31\" y1=\"21\" x2=\"31\" y2=\"141\" />\n",
       "  <line x1=\"31\" y1=\"21\" x2=\"31\" y2=\"141\" />\n",
       "  <line x1=\"31\" y1=\"21\" x2=\"31\" y2=\"141\" />\n",
       "  <line x1=\"31\" y1=\"21\" x2=\"31\" y2=\"141\" />\n",
       "  <line x1=\"31\" y1=\"21\" x2=\"31\" y2=\"141\" />\n",
       "  <line x1=\"31\" y1=\"21\" x2=\"31\" y2=\"141\" />\n",
       "  <line x1=\"31\" y1=\"21\" x2=\"31\" y2=\"141\" />\n",
       "  <line x1=\"32\" y1=\"22\" x2=\"32\" y2=\"142\" />\n",
       "  <line x1=\"32\" y1=\"22\" x2=\"32\" y2=\"142\" />\n",
       "  <line x1=\"32\" y1=\"22\" x2=\"32\" y2=\"142\" />\n",
       "  <line x1=\"32\" y1=\"22\" x2=\"32\" y2=\"142\" />\n",
       "  <line x1=\"32\" y1=\"22\" x2=\"32\" y2=\"142\" />\n",
       "  <line x1=\"32\" y1=\"22\" x2=\"32\" y2=\"142\" />\n",
       "  <line x1=\"32\" y1=\"22\" x2=\"32\" y2=\"142\" />\n",
       "  <line x1=\"32\" y1=\"22\" x2=\"32\" y2=\"142\" />\n",
       "  <line x1=\"32\" y1=\"22\" x2=\"32\" y2=\"142\" />\n",
       "  <line x1=\"32\" y1=\"22\" x2=\"32\" y2=\"142\" />\n",
       "  <line x1=\"32\" y1=\"22\" x2=\"32\" y2=\"142\" />\n",
       "  <line x1=\"33\" y1=\"23\" x2=\"33\" y2=\"143\" />\n",
       "  <line x1=\"33\" y1=\"23\" x2=\"33\" y2=\"143\" />\n",
       "  <line x1=\"33\" y1=\"23\" x2=\"33\" y2=\"143\" />\n",
       "  <line x1=\"33\" y1=\"23\" x2=\"33\" y2=\"143\" />\n",
       "  <line x1=\"33\" y1=\"23\" x2=\"33\" y2=\"143\" />\n",
       "  <line x1=\"33\" y1=\"23\" x2=\"33\" y2=\"143\" />\n",
       "  <line x1=\"33\" y1=\"23\" x2=\"33\" y2=\"143\" />\n",
       "  <line x1=\"33\" y1=\"23\" x2=\"33\" y2=\"143\" />\n",
       "  <line x1=\"33\" y1=\"23\" x2=\"33\" y2=\"143\" />\n",
       "  <line x1=\"33\" y1=\"23\" x2=\"33\" y2=\"143\" />\n",
       "  <line x1=\"33\" y1=\"23\" x2=\"33\" y2=\"143\" />\n",
       "  <line x1=\"33\" y1=\"23\" x2=\"33\" y2=\"143\" />\n",
       "  <line x1=\"34\" y1=\"24\" x2=\"34\" y2=\"144\" />\n",
       "  <line x1=\"34\" y1=\"24\" x2=\"34\" y2=\"144\" />\n",
       "  <line x1=\"34\" y1=\"24\" x2=\"34\" y2=\"144\" />\n",
       "  <line x1=\"34\" y1=\"24\" x2=\"34\" y2=\"144\" />\n",
       "  <line x1=\"34\" y1=\"24\" x2=\"34\" y2=\"144\" />\n",
       "  <line x1=\"34\" y1=\"24\" x2=\"34\" y2=\"144\" />\n",
       "  <line x1=\"34\" y1=\"24\" x2=\"34\" y2=\"144\" style=\"stroke-width:2\" />\n",
       "\n",
       "  <!-- Colored Rectangle -->\n",
       "  <polygon points=\"10.000000,0.000000 34.610407,24.610407 34.610407,144.610407 10.000000,120.000000\" style=\"fill:#ECB172A0;stroke-width:0\"/>\n",
       "\n",
       "  <!-- Horizontal lines -->\n",
       "  <line x1=\"10\" y1=\"0\" x2=\"125\" y2=\"0\" style=\"stroke-width:2\" />\n",
       "  <line x1=\"10\" y1=\"0\" x2=\"125\" y2=\"0\" />\n",
       "  <line x1=\"10\" y1=\"0\" x2=\"125\" y2=\"0\" />\n",
       "  <line x1=\"10\" y1=\"0\" x2=\"125\" y2=\"0\" />\n",
       "  <line x1=\"10\" y1=\"0\" x2=\"125\" y2=\"0\" />\n",
       "  <line x1=\"10\" y1=\"0\" x2=\"125\" y2=\"0\" />\n",
       "  <line x1=\"10\" y1=\"0\" x2=\"125\" y2=\"0\" />\n",
       "  <line x1=\"10\" y1=\"0\" x2=\"126\" y2=\"0\" />\n",
       "  <line x1=\"10\" y1=\"0\" x2=\"126\" y2=\"0\" />\n",
       "  <line x1=\"10\" y1=\"0\" x2=\"126\" y2=\"0\" />\n",
       "  <line x1=\"10\" y1=\"0\" x2=\"126\" y2=\"0\" />\n",
       "  <line x1=\"10\" y1=\"0\" x2=\"126\" y2=\"0\" />\n",
       "  <line x1=\"11\" y1=\"1\" x2=\"126\" y2=\"1\" />\n",
       "  <line x1=\"11\" y1=\"1\" x2=\"126\" y2=\"1\" />\n",
       "  <line x1=\"11\" y1=\"1\" x2=\"126\" y2=\"1\" />\n",
       "  <line x1=\"11\" y1=\"1\" x2=\"126\" y2=\"1\" />\n",
       "  <line x1=\"11\" y1=\"1\" x2=\"126\" y2=\"1\" />\n",
       "  <line x1=\"11\" y1=\"1\" x2=\"126\" y2=\"1\" />\n",
       "  <line x1=\"11\" y1=\"1\" x2=\"127\" y2=\"1\" />\n",
       "  <line x1=\"11\" y1=\"1\" x2=\"127\" y2=\"1\" />\n",
       "  <line x1=\"11\" y1=\"1\" x2=\"127\" y2=\"1\" />\n",
       "  <line x1=\"11\" y1=\"1\" x2=\"127\" y2=\"1\" />\n",
       "  <line x1=\"11\" y1=\"1\" x2=\"127\" y2=\"1\" />\n",
       "  <line x1=\"12\" y1=\"2\" x2=\"127\" y2=\"2\" />\n",
       "  <line x1=\"12\" y1=\"2\" x2=\"127\" y2=\"2\" />\n",
       "  <line x1=\"12\" y1=\"2\" x2=\"127\" y2=\"2\" />\n",
       "  <line x1=\"12\" y1=\"2\" x2=\"127\" y2=\"2\" />\n",
       "  <line x1=\"12\" y1=\"2\" x2=\"127\" y2=\"2\" />\n",
       "  <line x1=\"12\" y1=\"2\" x2=\"127\" y2=\"2\" />\n",
       "  <line x1=\"12\" y1=\"2\" x2=\"127\" y2=\"2\" />\n",
       "  <line x1=\"12\" y1=\"2\" x2=\"128\" y2=\"2\" />\n",
       "  <line x1=\"12\" y1=\"2\" x2=\"128\" y2=\"2\" />\n",
       "  <line x1=\"12\" y1=\"2\" x2=\"128\" y2=\"2\" />\n",
       "  <line x1=\"12\" y1=\"2\" x2=\"128\" y2=\"2\" />\n",
       "  <line x1=\"13\" y1=\"3\" x2=\"128\" y2=\"3\" />\n",
       "  <line x1=\"13\" y1=\"3\" x2=\"128\" y2=\"3\" />\n",
       "  <line x1=\"13\" y1=\"3\" x2=\"128\" y2=\"3\" />\n",
       "  <line x1=\"13\" y1=\"3\" x2=\"128\" y2=\"3\" />\n",
       "  <line x1=\"13\" y1=\"3\" x2=\"128\" y2=\"3\" />\n",
       "  <line x1=\"13\" y1=\"3\" x2=\"128\" y2=\"3\" />\n",
       "  <line x1=\"13\" y1=\"3\" x2=\"128\" y2=\"3\" />\n",
       "  <line x1=\"13\" y1=\"3\" x2=\"129\" y2=\"3\" />\n",
       "  <line x1=\"13\" y1=\"3\" x2=\"129\" y2=\"3\" />\n",
       "  <line x1=\"13\" y1=\"3\" x2=\"129\" y2=\"3\" />\n",
       "  <line x1=\"13\" y1=\"3\" x2=\"129\" y2=\"3\" />\n",
       "  <line x1=\"13\" y1=\"3\" x2=\"129\" y2=\"3\" />\n",
       "  <line x1=\"14\" y1=\"4\" x2=\"129\" y2=\"4\" />\n",
       "  <line x1=\"14\" y1=\"4\" x2=\"129\" y2=\"4\" />\n",
       "  <line x1=\"14\" y1=\"4\" x2=\"129\" y2=\"4\" />\n",
       "  <line x1=\"14\" y1=\"4\" x2=\"129\" y2=\"4\" />\n",
       "  <line x1=\"14\" y1=\"4\" x2=\"129\" y2=\"4\" />\n",
       "  <line x1=\"14\" y1=\"4\" x2=\"129\" y2=\"4\" />\n",
       "  <line x1=\"14\" y1=\"4\" x2=\"130\" y2=\"4\" />\n",
       "  <line x1=\"14\" y1=\"4\" x2=\"130\" y2=\"4\" />\n",
       "  <line x1=\"14\" y1=\"4\" x2=\"130\" y2=\"4\" />\n",
       "  <line x1=\"14\" y1=\"4\" x2=\"130\" y2=\"4\" />\n",
       "  <line x1=\"14\" y1=\"4\" x2=\"130\" y2=\"4\" />\n",
       "  <line x1=\"15\" y1=\"5\" x2=\"130\" y2=\"5\" />\n",
       "  <line x1=\"15\" y1=\"5\" x2=\"130\" y2=\"5\" />\n",
       "  <line x1=\"15\" y1=\"5\" x2=\"130\" y2=\"5\" />\n",
       "  <line x1=\"15\" y1=\"5\" x2=\"130\" y2=\"5\" />\n",
       "  <line x1=\"15\" y1=\"5\" x2=\"130\" y2=\"5\" />\n",
       "  <line x1=\"15\" y1=\"5\" x2=\"130\" y2=\"5\" />\n",
       "  <line x1=\"15\" y1=\"5\" x2=\"131\" y2=\"5\" />\n",
       "  <line x1=\"15\" y1=\"5\" x2=\"131\" y2=\"5\" />\n",
       "  <line x1=\"15\" y1=\"5\" x2=\"131\" y2=\"5\" />\n",
       "  <line x1=\"15\" y1=\"5\" x2=\"131\" y2=\"5\" />\n",
       "  <line x1=\"15\" y1=\"5\" x2=\"131\" y2=\"5\" />\n",
       "  <line x1=\"16\" y1=\"6\" x2=\"131\" y2=\"6\" />\n",
       "  <line x1=\"16\" y1=\"6\" x2=\"131\" y2=\"6\" />\n",
       "  <line x1=\"16\" y1=\"6\" x2=\"131\" y2=\"6\" />\n",
       "  <line x1=\"16\" y1=\"6\" x2=\"131\" y2=\"6\" />\n",
       "  <line x1=\"16\" y1=\"6\" x2=\"131\" y2=\"6\" />\n",
       "  <line x1=\"16\" y1=\"6\" x2=\"131\" y2=\"6\" />\n",
       "  <line x1=\"16\" y1=\"6\" x2=\"131\" y2=\"6\" />\n",
       "  <line x1=\"16\" y1=\"6\" x2=\"132\" y2=\"6\" />\n",
       "  <line x1=\"16\" y1=\"6\" x2=\"132\" y2=\"6\" />\n",
       "  <line x1=\"16\" y1=\"6\" x2=\"132\" y2=\"6\" />\n",
       "  <line x1=\"16\" y1=\"6\" x2=\"132\" y2=\"6\" />\n",
       "  <line x1=\"17\" y1=\"7\" x2=\"132\" y2=\"7\" />\n",
       "  <line x1=\"17\" y1=\"7\" x2=\"132\" y2=\"7\" />\n",
       "  <line x1=\"17\" y1=\"7\" x2=\"132\" y2=\"7\" />\n",
       "  <line x1=\"17\" y1=\"7\" x2=\"132\" y2=\"7\" />\n",
       "  <line x1=\"17\" y1=\"7\" x2=\"132\" y2=\"7\" />\n",
       "  <line x1=\"17\" y1=\"7\" x2=\"132\" y2=\"7\" />\n",
       "  <line x1=\"17\" y1=\"7\" x2=\"132\" y2=\"7\" />\n",
       "  <line x1=\"17\" y1=\"7\" x2=\"133\" y2=\"7\" />\n",
       "  <line x1=\"17\" y1=\"7\" x2=\"133\" y2=\"7\" />\n",
       "  <line x1=\"17\" y1=\"7\" x2=\"133\" y2=\"7\" />\n",
       "  <line x1=\"17\" y1=\"7\" x2=\"133\" y2=\"7\" />\n",
       "  <line x1=\"17\" y1=\"7\" x2=\"133\" y2=\"7\" />\n",
       "  <line x1=\"18\" y1=\"8\" x2=\"133\" y2=\"8\" />\n",
       "  <line x1=\"18\" y1=\"8\" x2=\"133\" y2=\"8\" />\n",
       "  <line x1=\"18\" y1=\"8\" x2=\"133\" y2=\"8\" />\n",
       "  <line x1=\"18\" y1=\"8\" x2=\"133\" y2=\"8\" />\n",
       "  <line x1=\"18\" y1=\"8\" x2=\"133\" y2=\"8\" />\n",
       "  <line x1=\"18\" y1=\"8\" x2=\"133\" y2=\"8\" />\n",
       "  <line x1=\"18\" y1=\"8\" x2=\"134\" y2=\"8\" />\n",
       "  <line x1=\"18\" y1=\"8\" x2=\"134\" y2=\"8\" />\n",
       "  <line x1=\"18\" y1=\"8\" x2=\"134\" y2=\"8\" />\n",
       "  <line x1=\"18\" y1=\"8\" x2=\"134\" y2=\"8\" />\n",
       "  <line x1=\"18\" y1=\"8\" x2=\"134\" y2=\"8\" />\n",
       "  <line x1=\"19\" y1=\"9\" x2=\"134\" y2=\"9\" />\n",
       "  <line x1=\"19\" y1=\"9\" x2=\"134\" y2=\"9\" />\n",
       "  <line x1=\"19\" y1=\"9\" x2=\"134\" y2=\"9\" />\n",
       "  <line x1=\"19\" y1=\"9\" x2=\"134\" y2=\"9\" />\n",
       "  <line x1=\"19\" y1=\"9\" x2=\"134\" y2=\"9\" />\n",
       "  <line x1=\"19\" y1=\"9\" x2=\"134\" y2=\"9\" />\n",
       "  <line x1=\"19\" y1=\"9\" x2=\"135\" y2=\"9\" />\n",
       "  <line x1=\"19\" y1=\"9\" x2=\"135\" y2=\"9\" />\n",
       "  <line x1=\"19\" y1=\"9\" x2=\"135\" y2=\"9\" />\n",
       "  <line x1=\"19\" y1=\"9\" x2=\"135\" y2=\"9\" />\n",
       "  <line x1=\"19\" y1=\"9\" x2=\"135\" y2=\"9\" />\n",
       "  <line x1=\"20\" y1=\"10\" x2=\"135\" y2=\"10\" />\n",
       "  <line x1=\"20\" y1=\"10\" x2=\"135\" y2=\"10\" />\n",
       "  <line x1=\"20\" y1=\"10\" x2=\"135\" y2=\"10\" />\n",
       "  <line x1=\"20\" y1=\"10\" x2=\"135\" y2=\"10\" />\n",
       "  <line x1=\"20\" y1=\"10\" x2=\"135\" y2=\"10\" />\n",
       "  <line x1=\"20\" y1=\"10\" x2=\"135\" y2=\"10\" />\n",
       "  <line x1=\"20\" y1=\"10\" x2=\"135\" y2=\"10\" />\n",
       "  <line x1=\"20\" y1=\"10\" x2=\"136\" y2=\"10\" />\n",
       "  <line x1=\"20\" y1=\"10\" x2=\"136\" y2=\"10\" />\n",
       "  <line x1=\"20\" y1=\"10\" x2=\"136\" y2=\"10\" />\n",
       "  <line x1=\"20\" y1=\"10\" x2=\"136\" y2=\"10\" />\n",
       "  <line x1=\"21\" y1=\"11\" x2=\"136\" y2=\"11\" />\n",
       "  <line x1=\"21\" y1=\"11\" x2=\"136\" y2=\"11\" />\n",
       "  <line x1=\"21\" y1=\"11\" x2=\"136\" y2=\"11\" />\n",
       "  <line x1=\"21\" y1=\"11\" x2=\"136\" y2=\"11\" />\n",
       "  <line x1=\"21\" y1=\"11\" x2=\"136\" y2=\"11\" />\n",
       "  <line x1=\"21\" y1=\"11\" x2=\"136\" y2=\"11\" />\n",
       "  <line x1=\"21\" y1=\"11\" x2=\"136\" y2=\"11\" />\n",
       "  <line x1=\"21\" y1=\"11\" x2=\"137\" y2=\"11\" />\n",
       "  <line x1=\"21\" y1=\"11\" x2=\"137\" y2=\"11\" />\n",
       "  <line x1=\"21\" y1=\"11\" x2=\"137\" y2=\"11\" />\n",
       "  <line x1=\"21\" y1=\"11\" x2=\"137\" y2=\"11\" />\n",
       "  <line x1=\"21\" y1=\"11\" x2=\"137\" y2=\"11\" />\n",
       "  <line x1=\"22\" y1=\"12\" x2=\"137\" y2=\"12\" />\n",
       "  <line x1=\"22\" y1=\"12\" x2=\"137\" y2=\"12\" />\n",
       "  <line x1=\"22\" y1=\"12\" x2=\"137\" y2=\"12\" />\n",
       "  <line x1=\"22\" y1=\"12\" x2=\"137\" y2=\"12\" />\n",
       "  <line x1=\"22\" y1=\"12\" x2=\"137\" y2=\"12\" />\n",
       "  <line x1=\"22\" y1=\"12\" x2=\"137\" y2=\"12\" />\n",
       "  <line x1=\"22\" y1=\"12\" x2=\"138\" y2=\"12\" />\n",
       "  <line x1=\"22\" y1=\"12\" x2=\"138\" y2=\"12\" />\n",
       "  <line x1=\"22\" y1=\"12\" x2=\"138\" y2=\"12\" />\n",
       "  <line x1=\"22\" y1=\"12\" x2=\"138\" y2=\"12\" />\n",
       "  <line x1=\"22\" y1=\"12\" x2=\"138\" y2=\"12\" />\n",
       "  <line x1=\"23\" y1=\"13\" x2=\"138\" y2=\"13\" />\n",
       "  <line x1=\"23\" y1=\"13\" x2=\"138\" y2=\"13\" />\n",
       "  <line x1=\"23\" y1=\"13\" x2=\"138\" y2=\"13\" />\n",
       "  <line x1=\"23\" y1=\"13\" x2=\"138\" y2=\"13\" />\n",
       "  <line x1=\"23\" y1=\"13\" x2=\"138\" y2=\"13\" />\n",
       "  <line x1=\"23\" y1=\"13\" x2=\"138\" y2=\"13\" />\n",
       "  <line x1=\"23\" y1=\"13\" x2=\"139\" y2=\"13\" />\n",
       "  <line x1=\"23\" y1=\"13\" x2=\"139\" y2=\"13\" />\n",
       "  <line x1=\"23\" y1=\"13\" x2=\"139\" y2=\"13\" />\n",
       "  <line x1=\"23\" y1=\"13\" x2=\"139\" y2=\"13\" />\n",
       "  <line x1=\"23\" y1=\"13\" x2=\"139\" y2=\"13\" />\n",
       "  <line x1=\"24\" y1=\"14\" x2=\"139\" y2=\"14\" />\n",
       "  <line x1=\"24\" y1=\"14\" x2=\"139\" y2=\"14\" />\n",
       "  <line x1=\"24\" y1=\"14\" x2=\"139\" y2=\"14\" />\n",
       "  <line x1=\"24\" y1=\"14\" x2=\"139\" y2=\"14\" />\n",
       "  <line x1=\"24\" y1=\"14\" x2=\"139\" y2=\"14\" />\n",
       "  <line x1=\"24\" y1=\"14\" x2=\"139\" y2=\"14\" />\n",
       "  <line x1=\"24\" y1=\"14\" x2=\"139\" y2=\"14\" />\n",
       "  <line x1=\"24\" y1=\"14\" x2=\"140\" y2=\"14\" />\n",
       "  <line x1=\"24\" y1=\"14\" x2=\"140\" y2=\"14\" />\n",
       "  <line x1=\"24\" y1=\"14\" x2=\"140\" y2=\"14\" />\n",
       "  <line x1=\"24\" y1=\"14\" x2=\"140\" y2=\"14\" />\n",
       "  <line x1=\"25\" y1=\"15\" x2=\"140\" y2=\"15\" />\n",
       "  <line x1=\"25\" y1=\"15\" x2=\"140\" y2=\"15\" />\n",
       "  <line x1=\"25\" y1=\"15\" x2=\"140\" y2=\"15\" />\n",
       "  <line x1=\"25\" y1=\"15\" x2=\"140\" y2=\"15\" />\n",
       "  <line x1=\"25\" y1=\"15\" x2=\"140\" y2=\"15\" />\n",
       "  <line x1=\"25\" y1=\"15\" x2=\"140\" y2=\"15\" />\n",
       "  <line x1=\"25\" y1=\"15\" x2=\"140\" y2=\"15\" />\n",
       "  <line x1=\"25\" y1=\"15\" x2=\"141\" y2=\"15\" />\n",
       "  <line x1=\"25\" y1=\"15\" x2=\"141\" y2=\"15\" />\n",
       "  <line x1=\"25\" y1=\"15\" x2=\"141\" y2=\"15\" />\n",
       "  <line x1=\"25\" y1=\"15\" x2=\"141\" y2=\"15\" />\n",
       "  <line x1=\"25\" y1=\"15\" x2=\"141\" y2=\"15\" />\n",
       "  <line x1=\"26\" y1=\"16\" x2=\"141\" y2=\"16\" />\n",
       "  <line x1=\"26\" y1=\"16\" x2=\"141\" y2=\"16\" />\n",
       "  <line x1=\"26\" y1=\"16\" x2=\"141\" y2=\"16\" />\n",
       "  <line x1=\"26\" y1=\"16\" x2=\"141\" y2=\"16\" />\n",
       "  <line x1=\"26\" y1=\"16\" x2=\"141\" y2=\"16\" />\n",
       "  <line x1=\"26\" y1=\"16\" x2=\"141\" y2=\"16\" />\n",
       "  <line x1=\"26\" y1=\"16\" x2=\"142\" y2=\"16\" />\n",
       "  <line x1=\"26\" y1=\"16\" x2=\"142\" y2=\"16\" />\n",
       "  <line x1=\"26\" y1=\"16\" x2=\"142\" y2=\"16\" />\n",
       "  <line x1=\"26\" y1=\"16\" x2=\"142\" y2=\"16\" />\n",
       "  <line x1=\"26\" y1=\"16\" x2=\"142\" y2=\"16\" />\n",
       "  <line x1=\"27\" y1=\"17\" x2=\"142\" y2=\"17\" />\n",
       "  <line x1=\"27\" y1=\"17\" x2=\"142\" y2=\"17\" />\n",
       "  <line x1=\"27\" y1=\"17\" x2=\"142\" y2=\"17\" />\n",
       "  <line x1=\"27\" y1=\"17\" x2=\"142\" y2=\"17\" />\n",
       "  <line x1=\"27\" y1=\"17\" x2=\"142\" y2=\"17\" />\n",
       "  <line x1=\"27\" y1=\"17\" x2=\"142\" y2=\"17\" />\n",
       "  <line x1=\"27\" y1=\"17\" x2=\"143\" y2=\"17\" />\n",
       "  <line x1=\"27\" y1=\"17\" x2=\"143\" y2=\"17\" />\n",
       "  <line x1=\"27\" y1=\"17\" x2=\"143\" y2=\"17\" />\n",
       "  <line x1=\"27\" y1=\"17\" x2=\"143\" y2=\"17\" />\n",
       "  <line x1=\"27\" y1=\"17\" x2=\"143\" y2=\"17\" />\n",
       "  <line x1=\"28\" y1=\"18\" x2=\"143\" y2=\"18\" />\n",
       "  <line x1=\"28\" y1=\"18\" x2=\"143\" y2=\"18\" />\n",
       "  <line x1=\"28\" y1=\"18\" x2=\"143\" y2=\"18\" />\n",
       "  <line x1=\"28\" y1=\"18\" x2=\"143\" y2=\"18\" />\n",
       "  <line x1=\"28\" y1=\"18\" x2=\"143\" y2=\"18\" />\n",
       "  <line x1=\"28\" y1=\"18\" x2=\"143\" y2=\"18\" />\n",
       "  <line x1=\"28\" y1=\"18\" x2=\"143\" y2=\"18\" />\n",
       "  <line x1=\"28\" y1=\"18\" x2=\"144\" y2=\"18\" />\n",
       "  <line x1=\"28\" y1=\"18\" x2=\"144\" y2=\"18\" />\n",
       "  <line x1=\"28\" y1=\"18\" x2=\"144\" y2=\"18\" />\n",
       "  <line x1=\"28\" y1=\"18\" x2=\"144\" y2=\"18\" />\n",
       "  <line x1=\"29\" y1=\"19\" x2=\"144\" y2=\"19\" />\n",
       "  <line x1=\"29\" y1=\"19\" x2=\"144\" y2=\"19\" />\n",
       "  <line x1=\"29\" y1=\"19\" x2=\"144\" y2=\"19\" />\n",
       "  <line x1=\"29\" y1=\"19\" x2=\"144\" y2=\"19\" />\n",
       "  <line x1=\"29\" y1=\"19\" x2=\"144\" y2=\"19\" />\n",
       "  <line x1=\"29\" y1=\"19\" x2=\"144\" y2=\"19\" />\n",
       "  <line x1=\"29\" y1=\"19\" x2=\"144\" y2=\"19\" />\n",
       "  <line x1=\"29\" y1=\"19\" x2=\"145\" y2=\"19\" />\n",
       "  <line x1=\"29\" y1=\"19\" x2=\"145\" y2=\"19\" />\n",
       "  <line x1=\"29\" y1=\"19\" x2=\"145\" y2=\"19\" />\n",
       "  <line x1=\"29\" y1=\"19\" x2=\"145\" y2=\"19\" />\n",
       "  <line x1=\"29\" y1=\"19\" x2=\"145\" y2=\"19\" />\n",
       "  <line x1=\"30\" y1=\"20\" x2=\"145\" y2=\"20\" />\n",
       "  <line x1=\"30\" y1=\"20\" x2=\"145\" y2=\"20\" />\n",
       "  <line x1=\"30\" y1=\"20\" x2=\"145\" y2=\"20\" />\n",
       "  <line x1=\"30\" y1=\"20\" x2=\"145\" y2=\"20\" />\n",
       "  <line x1=\"30\" y1=\"20\" x2=\"145\" y2=\"20\" />\n",
       "  <line x1=\"30\" y1=\"20\" x2=\"145\" y2=\"20\" />\n",
       "  <line x1=\"30\" y1=\"20\" x2=\"146\" y2=\"20\" />\n",
       "  <line x1=\"30\" y1=\"20\" x2=\"146\" y2=\"20\" />\n",
       "  <line x1=\"30\" y1=\"20\" x2=\"146\" y2=\"20\" />\n",
       "  <line x1=\"30\" y1=\"20\" x2=\"146\" y2=\"20\" />\n",
       "  <line x1=\"30\" y1=\"20\" x2=\"146\" y2=\"20\" />\n",
       "  <line x1=\"31\" y1=\"21\" x2=\"146\" y2=\"21\" />\n",
       "  <line x1=\"31\" y1=\"21\" x2=\"146\" y2=\"21\" />\n",
       "  <line x1=\"31\" y1=\"21\" x2=\"146\" y2=\"21\" />\n",
       "  <line x1=\"31\" y1=\"21\" x2=\"146\" y2=\"21\" />\n",
       "  <line x1=\"31\" y1=\"21\" x2=\"146\" y2=\"21\" />\n",
       "  <line x1=\"31\" y1=\"21\" x2=\"146\" y2=\"21\" />\n",
       "  <line x1=\"31\" y1=\"21\" x2=\"147\" y2=\"21\" />\n",
       "  <line x1=\"31\" y1=\"21\" x2=\"147\" y2=\"21\" />\n",
       "  <line x1=\"31\" y1=\"21\" x2=\"147\" y2=\"21\" />\n",
       "  <line x1=\"31\" y1=\"21\" x2=\"147\" y2=\"21\" />\n",
       "  <line x1=\"31\" y1=\"21\" x2=\"147\" y2=\"21\" />\n",
       "  <line x1=\"32\" y1=\"22\" x2=\"147\" y2=\"22\" />\n",
       "  <line x1=\"32\" y1=\"22\" x2=\"147\" y2=\"22\" />\n",
       "  <line x1=\"32\" y1=\"22\" x2=\"147\" y2=\"22\" />\n",
       "  <line x1=\"32\" y1=\"22\" x2=\"147\" y2=\"22\" />\n",
       "  <line x1=\"32\" y1=\"22\" x2=\"147\" y2=\"22\" />\n",
       "  <line x1=\"32\" y1=\"22\" x2=\"147\" y2=\"22\" />\n",
       "  <line x1=\"32\" y1=\"22\" x2=\"147\" y2=\"22\" />\n",
       "  <line x1=\"32\" y1=\"22\" x2=\"148\" y2=\"22\" />\n",
       "  <line x1=\"32\" y1=\"22\" x2=\"148\" y2=\"22\" />\n",
       "  <line x1=\"32\" y1=\"22\" x2=\"148\" y2=\"22\" />\n",
       "  <line x1=\"32\" y1=\"22\" x2=\"148\" y2=\"22\" />\n",
       "  <line x1=\"33\" y1=\"23\" x2=\"148\" y2=\"23\" />\n",
       "  <line x1=\"33\" y1=\"23\" x2=\"148\" y2=\"23\" />\n",
       "  <line x1=\"33\" y1=\"23\" x2=\"148\" y2=\"23\" />\n",
       "  <line x1=\"33\" y1=\"23\" x2=\"148\" y2=\"23\" />\n",
       "  <line x1=\"33\" y1=\"23\" x2=\"148\" y2=\"23\" />\n",
       "  <line x1=\"33\" y1=\"23\" x2=\"148\" y2=\"23\" />\n",
       "  <line x1=\"33\" y1=\"23\" x2=\"148\" y2=\"23\" />\n",
       "  <line x1=\"33\" y1=\"23\" x2=\"149\" y2=\"23\" />\n",
       "  <line x1=\"33\" y1=\"23\" x2=\"149\" y2=\"23\" />\n",
       "  <line x1=\"33\" y1=\"23\" x2=\"149\" y2=\"23\" />\n",
       "  <line x1=\"33\" y1=\"23\" x2=\"149\" y2=\"23\" />\n",
       "  <line x1=\"33\" y1=\"23\" x2=\"149\" y2=\"23\" />\n",
       "  <line x1=\"34\" y1=\"24\" x2=\"149\" y2=\"24\" />\n",
       "  <line x1=\"34\" y1=\"24\" x2=\"149\" y2=\"24\" />\n",
       "  <line x1=\"34\" y1=\"24\" x2=\"149\" y2=\"24\" />\n",
       "  <line x1=\"34\" y1=\"24\" x2=\"149\" y2=\"24\" />\n",
       "  <line x1=\"34\" y1=\"24\" x2=\"149\" y2=\"24\" />\n",
       "  <line x1=\"34\" y1=\"24\" x2=\"149\" y2=\"24\" />\n",
       "  <line x1=\"34\" y1=\"24\" x2=\"150\" y2=\"24\" style=\"stroke-width:2\" />\n",
       "\n",
       "  <!-- Vertical lines -->\n",
       "  <line x1=\"10\" y1=\"0\" x2=\"34\" y2=\"24\" style=\"stroke-width:2\" />\n",
       "  <line x1=\"51\" y1=\"0\" x2=\"76\" y2=\"24\" />\n",
       "  <line x1=\"93\" y1=\"0\" x2=\"117\" y2=\"24\" />\n",
       "  <line x1=\"125\" y1=\"0\" x2=\"150\" y2=\"24\" style=\"stroke-width:2\" />\n",
       "\n",
       "  <!-- Colored Rectangle -->\n",
       "  <polygon points=\"10.000000,0.000000 125.423024,0.000000 150.033431,24.610407 34.610407,24.610407\" style=\"fill:#ECB172A0;stroke-width:0\"/>\n",
       "\n",
       "  <!-- Horizontal lines -->\n",
       "  <line x1=\"34\" y1=\"24\" x2=\"150\" y2=\"24\" style=\"stroke-width:2\" />\n",
       "  <line x1=\"34\" y1=\"66\" x2=\"150\" y2=\"66\" />\n",
       "  <line x1=\"34\" y1=\"107\" x2=\"150\" y2=\"107\" />\n",
       "  <line x1=\"34\" y1=\"144\" x2=\"150\" y2=\"144\" style=\"stroke-width:2\" />\n",
       "\n",
       "  <!-- Vertical lines -->\n",
       "  <line x1=\"34\" y1=\"24\" x2=\"34\" y2=\"144\" style=\"stroke-width:2\" />\n",
       "  <line x1=\"76\" y1=\"24\" x2=\"76\" y2=\"144\" />\n",
       "  <line x1=\"117\" y1=\"24\" x2=\"117\" y2=\"144\" />\n",
       "  <line x1=\"150\" y1=\"24\" x2=\"150\" y2=\"144\" style=\"stroke-width:2\" />\n",
       "\n",
       "  <!-- Colored Rectangle -->\n",
       "  <polygon points=\"34.610407,24.610407 150.033431,24.610407 150.033431,144.610407 34.610407,144.610407\" style=\"fill:#ECB172A0;stroke-width:0\"/>\n",
       "\n",
       "  <!-- Text -->\n",
       "  <text x=\"92.321919\" y=\"164.610407\" font-size=\"1.0rem\" font-weight=\"100\" text-anchor=\"middle\" >1387</text>\n",
       "  <text x=\"170.033431\" y=\"84.610407\" font-size=\"1.0rem\" font-weight=\"100\" text-anchor=\"middle\" transform=\"rotate(-90,170.033431,84.610407)\">1442</text>\n",
       "  <text x=\"12.305204\" y=\"152.305204\" font-size=\"1.0rem\" font-weight=\"100\" text-anchor=\"middle\" transform=\"rotate(45,12.305204,152.305204)\">277</text>\n",
       "</svg>\n",
       "</td>\n",
       "</tr>\n",
       "</table></pre></li></ul></div></li><li class='xr-section-item'><input id='section-df0f0018-5113-4ac9-a780-7146a0c44414' class='xr-section-summary-in' type='checkbox'  checked><label for='section-df0f0018-5113-4ac9-a780-7146a0c44414' class='xr-section-summary' >Attributes: <span>(2)</span></label><div class='xr-section-inline-details'></div><div class='xr-section-details'><dl class='xr-attrs'><dt><span>crs :</span></dt><dd>epsg:32636</dd><dt><span>grid_mapping :</span></dt><dd>spatial_ref</dd></dl></div></li></ul></div></div>"
      ],
      "text/plain": [
       "<xarray.Dataset>\n",
       "Dimensions:      (time: 277, x: 1387, y: 1442)\n",
       "Coordinates:\n",
       "  * time         (time) datetime64[ns] 2013-04-02T07:49:20.368796 ... 2019-06-25T07:44:15.617573\n",
       "  * y            (y) float64 -6.492e+05 -6.493e+05 ... -6.924e+05 -6.925e+05\n",
       "  * x            (x) float64 7.202e+05 7.202e+05 ... 7.617e+05 7.618e+05\n",
       "    spatial_ref  int32 32636\n",
       "Data variables:\n",
       "    water        (time, y, x) uint8 dask.array<chunksize=(1, 500, 500), meta=np.ndarray>\n",
       "Attributes:\n",
       "    crs:           epsg:32636\n",
       "    grid_mapping:  spatial_ref"
      ]
     },
     "execution_count": 6,
     "metadata": {},
     "output_type": "execute_result"
    }
   ],
   "source": [
    "ds"
   ]
  },
  {
   "cell_type": "code",
   "execution_count": 7,
   "metadata": {},
   "outputs": [],
   "source": [
    "pixel_length = query[\"resolution\"][1]  # in metres\n",
    "m_per_km = 1000  # conversion from metres to kilometres\n",
    "area_per_pixel = pixel_length**2 / m_per_km**2"
   ]
  },
  {
   "cell_type": "code",
   "execution_count": 8,
   "metadata": {},
   "outputs": [],
   "source": [
    "ds_water = ds.where(ds.water.isin([0, 128]))\n",
    "\n",
    "valid_threshold = (ds_water.x.size * ds_water.y.size) * 0.90 # Needs 75% to be water or land\n"
   ]
  },
  {
   "cell_type": "code",
   "execution_count": 13,
   "metadata": {},
   "outputs": [
    {
     "name": "stdout",
     "output_type": "stream",
     "text": [
      " Feature 12/277\r"
     ]
    },
    {
     "name": "stderr",
     "output_type": "stream",
     "text": [
      "distributed.utils_perf - WARNING - full garbage collections took 16% CPU time recently (threshold: 10%)\n"
     ]
    },
    {
     "name": "stdout",
     "output_type": "stream",
     "text": [
      " Feature 24/277\r"
     ]
    },
    {
     "name": "stderr",
     "output_type": "stream",
     "text": [
      "distributed.utils_perf - WARNING - full garbage collections took 16% CPU time recently (threshold: 10%)\n"
     ]
    },
    {
     "name": "stdout",
     "output_type": "stream",
     "text": [
      " Feature 37/277\r"
     ]
    },
    {
     "name": "stderr",
     "output_type": "stream",
     "text": [
      "distributed.utils_perf - WARNING - full garbage collections took 16% CPU time recently (threshold: 10%)\n"
     ]
    },
    {
     "name": "stdout",
     "output_type": "stream",
     "text": [
      " Feature 49/277\r"
     ]
    },
    {
     "name": "stderr",
     "output_type": "stream",
     "text": [
      "distributed.utils_perf - WARNING - full garbage collections took 16% CPU time recently (threshold: 10%)\n"
     ]
    },
    {
     "name": "stdout",
     "output_type": "stream",
     "text": [
      " Feature 62/277\r"
     ]
    },
    {
     "name": "stderr",
     "output_type": "stream",
     "text": [
      "distributed.utils_perf - WARNING - full garbage collections took 16% CPU time recently (threshold: 10%)\n"
     ]
    },
    {
     "name": "stdout",
     "output_type": "stream",
     "text": [
      " Feature 75/277\r"
     ]
    },
    {
     "name": "stderr",
     "output_type": "stream",
     "text": [
      "distributed.utils_perf - WARNING - full garbage collections took 16% CPU time recently (threshold: 10%)\n"
     ]
    },
    {
     "name": "stdout",
     "output_type": "stream",
     "text": [
      " Feature 87/277\r"
     ]
    },
    {
     "name": "stderr",
     "output_type": "stream",
     "text": [
      "distributed.utils_perf - WARNING - full garbage collections took 16% CPU time recently (threshold: 10%)\n"
     ]
    },
    {
     "name": "stdout",
     "output_type": "stream",
     "text": [
      " Feature 99/277\r"
     ]
    },
    {
     "name": "stderr",
     "output_type": "stream",
     "text": [
      "distributed.utils_perf - WARNING - full garbage collections took 16% CPU time recently (threshold: 10%)\n"
     ]
    },
    {
     "name": "stdout",
     "output_type": "stream",
     "text": [
      " Feature 112/277\r"
     ]
    },
    {
     "name": "stderr",
     "output_type": "stream",
     "text": [
      "distributed.utils_perf - WARNING - full garbage collections took 16% CPU time recently (threshold: 10%)\n"
     ]
    },
    {
     "name": "stdout",
     "output_type": "stream",
     "text": [
      " Feature 125/277\r"
     ]
    },
    {
     "name": "stderr",
     "output_type": "stream",
     "text": [
      "distributed.utils_perf - WARNING - full garbage collections took 16% CPU time recently (threshold: 10%)\n"
     ]
    },
    {
     "name": "stdout",
     "output_type": "stream",
     "text": [
      " Feature 138/277\r"
     ]
    },
    {
     "name": "stderr",
     "output_type": "stream",
     "text": [
      "distributed.utils_perf - WARNING - full garbage collections took 16% CPU time recently (threshold: 10%)\n"
     ]
    },
    {
     "name": "stdout",
     "output_type": "stream",
     "text": [
      " Feature 152/277\r"
     ]
    },
    {
     "name": "stderr",
     "output_type": "stream",
     "text": [
      "distributed.utils_perf - WARNING - full garbage collections took 16% CPU time recently (threshold: 10%)\n"
     ]
    },
    {
     "name": "stdout",
     "output_type": "stream",
     "text": [
      " Feature 164/277\r"
     ]
    },
    {
     "name": "stderr",
     "output_type": "stream",
     "text": [
      "distributed.utils_perf - WARNING - full garbage collections took 16% CPU time recently (threshold: 10%)\n"
     ]
    },
    {
     "name": "stdout",
     "output_type": "stream",
     "text": [
      " Feature 177/277\r"
     ]
    },
    {
     "name": "stderr",
     "output_type": "stream",
     "text": [
      "distributed.utils_perf - WARNING - full garbage collections took 16% CPU time recently (threshold: 10%)\n"
     ]
    },
    {
     "name": "stdout",
     "output_type": "stream",
     "text": [
      " Feature 190/277\r"
     ]
    },
    {
     "name": "stderr",
     "output_type": "stream",
     "text": [
      "distributed.utils_perf - WARNING - full garbage collections took 16% CPU time recently (threshold: 10%)\n"
     ]
    },
    {
     "name": "stdout",
     "output_type": "stream",
     "text": [
      " Feature 202/277\r"
     ]
    },
    {
     "name": "stderr",
     "output_type": "stream",
     "text": [
      "distributed.utils_perf - WARNING - full garbage collections took 16% CPU time recently (threshold: 10%)\n"
     ]
    },
    {
     "name": "stdout",
     "output_type": "stream",
     "text": [
      " Feature 215/277\r"
     ]
    },
    {
     "name": "stderr",
     "output_type": "stream",
     "text": [
      "distributed.utils_perf - WARNING - full garbage collections took 16% CPU time recently (threshold: 10%)\n"
     ]
    },
    {
     "name": "stdout",
     "output_type": "stream",
     "text": [
      " Feature 229/277\r"
     ]
    },
    {
     "name": "stderr",
     "output_type": "stream",
     "text": [
      "distributed.utils_perf - WARNING - full garbage collections took 16% CPU time recently (threshold: 10%)\n"
     ]
    },
    {
     "name": "stdout",
     "output_type": "stream",
     "text": [
      " Feature 241/277\r"
     ]
    },
    {
     "name": "stderr",
     "output_type": "stream",
     "text": [
      "distributed.utils_perf - WARNING - full garbage collections took 16% CPU time recently (threshold: 10%)\n"
     ]
    },
    {
     "name": "stdout",
     "output_type": "stream",
     "text": [
      " Feature 254/277\r"
     ]
    },
    {
     "name": "stderr",
     "output_type": "stream",
     "text": [
      "distributed.utils_perf - WARNING - full garbage collections took 16% CPU time recently (threshold: 10%)\n"
     ]
    },
    {
     "name": "stdout",
     "output_type": "stream",
     "text": [
      " Feature 267/277\r"
     ]
    },
    {
     "name": "stderr",
     "output_type": "stream",
     "text": [
      "distributed.utils_perf - WARNING - full garbage collections took 16% CPU time recently (threshold: 10%)\n"
     ]
    },
    {
     "name": "stdout",
     "output_type": "stream",
     "text": [
      " Feature 277/277\r"
     ]
    }
   ],
   "source": [
    "water_observed = {}\n",
    "i = 0\n",
    "for time_range in ds_water.water.time.values:\n",
    "    print(\" Feature {:02}/{:02}\\r\".format(i + 1, len(ds_water.water.time.values)),\n",
    "                  end='')\n",
    "\n",
    "    con_time_range = pd.to_datetime(str(time_range)) \n",
    "    con_time_range = con_time_range.strftime('%Y-%m-%d')\n",
    "    \n",
    "    water = ds_water.water.sel(time=time_range)\n",
    "    \n",
    "    num_water_pixels = ((water == 128).sum()).values\n",
    "\n",
    "#     num_valid_pixels = ((water.sum()).values) * 0.95\n",
    "    pixel_land = ((water == 0).sum()).values\n",
    "    num_valid_pixels = num_water_pixels + pixel_land\n",
    "      \n",
    "    water_ratio = (num_water_pixels / num_valid_pixels ) * 100.0\n",
    "\n",
    "    if num_valid_pixels > valid_threshold:\n",
    "        water_range = num_water_pixels * area_per_pixel\n",
    "        if water_ratio > 10:\n",
    "            water_observed[con_time_range] = water_range\n",
    "    i += 1\n",
    "    \n",
    "    "
   ]
  },
  {
   "cell_type": "code",
   "execution_count": 14,
   "metadata": {},
   "outputs": [
    {
     "data": {
      "image/png": "[encoded data removed]",
      "text/plain": [
       "<Figure size 1440x360 with 1 Axes>"
      ]
     },
     "metadata": {
      "needs_background": "light"
     },
     "output_type": "display_data"
    }
   ],
   "source": [
    "plt.figure(figsize=(20, 5))\n",
    "plt.scatter(water_observed.keys(), water_observed.values(), marker='*', c='#9467bd')\n",
    "plt.xticks(rotation=90)\n",
    "plt.xlabel('Dates')\n",
    "plt.ylabel('Water observed Area Coverage(Km^2)')\n",
    "plt.title(f'Water Observed from ${start_year} - ${end_year}')\n",
    "plt.tight_layout()  "
   ]
  },
  {
   "cell_type": "code",
   "execution_count": 15,
   "metadata": {},
   "outputs": [
    {
     "name": "stderr",
     "output_type": "stream",
     "text": [
      "distributed.utils_perf - WARNING - full garbage collections took 16% CPU time recently (threshold: 10%)\n"
     ]
    },
    {
     "data": {
      "image/png": "[encoded data removed]",
      "text/plain": [
       "<Figure size 864x288 with 4 Axes>"
      ]
     },
     "metadata": {
      "needs_background": "light"
     },
     "output_type": "display_data"
    }
   ],
   "source": [
    "fig = plt.figure(figsize=(12, 4))\n",
    "fig.add_subplot(1,2,1)\n",
    "ds_water.water.sel(time=min(water_observed, key=water_observed.get)).plot(cmap='Blues')\n",
    "plt.xticks(rotation=90)\n",
    "fig.add_subplot(1,2,2)\n",
    "ds_water.water.sel(time=max(water_observed, key=water_observed.get)).plot(cmap='Blues')\n",
    "plt.xticks(rotation=90)\n",
    "plt.tight_layout()"
   ]
  },
  {
   "cell_type": "code",
   "execution_count": 16,
   "metadata": {},
   "outputs": [
    {
     "data": {
      "image/png": "[encoded data removed]",
      "text/plain": [
       "<Figure size 864x288 with 4 Axes>"
      ]
     },
     "metadata": {
      "needs_background": "light"
     },
     "output_type": "display_data"
    }
   ],
   "source": [
    "fig = plt.figure(figsize=(12, 4))\n",
    "fig.add_subplot(1,2,1)\n",
    "ds.water.sel(time=min(water_observed, key=water_observed.get)).plot(cmap='hsv')\n",
    "plt.xticks(rotation=90)\n",
    "fig.add_subplot(1,2,2)\n",
    "ds.water.sel(time=max(water_observed, key=water_observed.get)).plot(cmap='hsv')\n",
    "plt.xticks(rotation=90)\n",
    "plt.tight_layout()"
   ]
  },
  {
   "cell_type": "markdown",
   "metadata": {},
   "source": [
    "***\n",
    "\n",
    "## Additional information\n",
    "\n",
    "**License:** The code in this notebook is licensed under the [Apache License, Version 2.0](https://www.apache.org/licenses/LICENSE-2.0). \n",
    "Digital Earth Africa data is licensed under the [Creative Commons by Attribution 4.0](https://creativecommons.org/licenses/by/4.0/) license.\n",
    "\n",
    "**Contact:** If you need assistance, please post a question on the [Open Data Cube Slack channel](http://slack.opendatacube.org/) or on the [GIS Stack Exchange](https://gis.stackexchange.com/questions/ask?tags=open-data-cube) using the `open-data-cube` tag (you can view previously asked questions [here](https://gis.stackexchange.com/questions/tagged/open-data-cube)).\n",
    "If you would like to report an issue with this notebook, you can file one on [Github](https://github.com/digitalearthafrica/deafrica-sandbox-notebooks).\n",
    "\n",
    "**Last modified:** January 2020\n",
    "\n",
    "**Compatible datacube version:** "
   ]
  },
  {
   "cell_type": "code",
   "execution_count": null,
   "metadata": {},
   "outputs": [],
   "source": [
    "print(datacube.__version__)"
   ]
  },
  {
   "cell_type": "markdown",
   "metadata": {},
   "source": [
    "## Tags\n",
    "Browse all available tags on the DE Africa User Guide's [Tags Index](https://) (placeholder as this does not exist yet)"
   ]
  },
  {
   "cell_type": "raw",
   "metadata": {
    "raw_mimetype": "text/restructuredtext"
   },
   "source": [
    "**Tags**:  :index:`landsat 8`, :index:`deafrica_plotting`, :index:`rgb`, :index:`NDVI`, :index:`time series`"
   ]
  }
 ],
 "metadata": {
  "kernelspec": {
   "display_name": "Python 3",
   "language": "python",
   "name": "python3"
  },
  "language_info": {
   "codemirror_mode": {
    "name": "ipython",
    "version": 3
   },
   "file_extension": ".py",
   "mimetype": "text/x-python",
   "name": "python",
   "nbconvert_exporter": "python",
   "pygments_lexer": "ipython3",
   "version": "3.6.9"
  },
  "widgets": {
   "application/vnd.jupyter.widget-state+json": {
    "state": {},
    "version_major": 2,
    "version_minor": 0
   }
  }
 },
 "nbformat": 4,
 "nbformat_minor": 4
}
